{
  "nbformat": 4,
  "nbformat_minor": 0,
  "metadata": {
    "colab": {
      "name": "image_learning.ipynb",
      "provenance": [],
      "collapsed_sections": []
    },
    "kernelspec": {
      "name": "python3",
      "display_name": "Python 3"
    },
    "accelerator": "GPU",
    "widgets": {
      "application/vnd.jupyter.widget-state+json": {
        "d724c33db2cc48e9ab6b26afb911e107": {
          "model_module": "@jupyter-widgets/controls",
          "model_name": "HBoxModel",
          "state": {
            "_view_name": "HBoxView",
            "_dom_classes": [],
            "_model_name": "HBoxModel",
            "_view_module": "@jupyter-widgets/controls",
            "_model_module_version": "1.5.0",
            "_view_count": null,
            "_view_module_version": "1.5.0",
            "box_style": "",
            "layout": "IPY_MODEL_3d84ac29fbd44d1ebd4f6ad5d057d620",
            "_model_module": "@jupyter-widgets/controls",
            "children": [
              "IPY_MODEL_9759dfbd70d64364acd3da0321a904dc",
              "IPY_MODEL_f1a24850cfd3408e8d0ba09b8c522135"
            ]
          }
        },
        "3d84ac29fbd44d1ebd4f6ad5d057d620": {
          "model_module": "@jupyter-widgets/base",
          "model_name": "LayoutModel",
          "state": {
            "_view_name": "LayoutView",
            "grid_template_rows": null,
            "right": null,
            "justify_content": null,
            "_view_module": "@jupyter-widgets/base",
            "overflow": null,
            "_model_module_version": "1.2.0",
            "_view_count": null,
            "flex_flow": null,
            "width": null,
            "min_width": null,
            "border": null,
            "align_items": null,
            "bottom": null,
            "_model_module": "@jupyter-widgets/base",
            "top": null,
            "grid_column": null,
            "overflow_y": null,
            "overflow_x": null,
            "grid_auto_flow": null,
            "grid_area": null,
            "grid_template_columns": null,
            "flex": null,
            "_model_name": "LayoutModel",
            "justify_items": null,
            "grid_row": null,
            "max_height": null,
            "align_content": null,
            "visibility": null,
            "align_self": null,
            "height": null,
            "min_height": null,
            "padding": null,
            "grid_auto_rows": null,
            "grid_gap": null,
            "max_width": null,
            "order": null,
            "_view_module_version": "1.2.0",
            "grid_template_areas": null,
            "object_position": null,
            "object_fit": null,
            "grid_auto_columns": null,
            "margin": null,
            "display": null,
            "left": null
          }
        },
        "9759dfbd70d64364acd3da0321a904dc": {
          "model_module": "@jupyter-widgets/controls",
          "model_name": "FloatProgressModel",
          "state": {
            "_view_name": "ProgressView",
            "style": "IPY_MODEL_5d9ed130891e4c838c92b0c241d5a469",
            "_dom_classes": [],
            "description": "",
            "_model_name": "FloatProgressModel",
            "bar_style": "info",
            "max": 1,
            "_view_module": "@jupyter-widgets/controls",
            "_model_module_version": "1.5.0",
            "value": 1,
            "_view_count": null,
            "_view_module_version": "1.5.0",
            "orientation": "horizontal",
            "min": 0,
            "description_tooltip": null,
            "_model_module": "@jupyter-widgets/controls",
            "layout": "IPY_MODEL_49c685061a7d4bd9a7b1b3f9aff36e0f"
          }
        },
        "f1a24850cfd3408e8d0ba09b8c522135": {
          "model_module": "@jupyter-widgets/controls",
          "model_name": "HTMLModel",
          "state": {
            "_view_name": "HTMLView",
            "style": "IPY_MODEL_3085ab32bd4c4ddf9096f8fc7ed3ac1b",
            "_dom_classes": [],
            "description": "",
            "_model_name": "HTMLModel",
            "placeholder": "​",
            "_view_module": "@jupyter-widgets/controls",
            "_model_module_version": "1.5.0",
            "value": " 9920512/? [00:20&lt;00:00, 1046955.00it/s]",
            "_view_count": null,
            "_view_module_version": "1.5.0",
            "description_tooltip": null,
            "_model_module": "@jupyter-widgets/controls",
            "layout": "IPY_MODEL_3c0aee0d52b94a168912dbff13e57a6c"
          }
        },
        "5d9ed130891e4c838c92b0c241d5a469": {
          "model_module": "@jupyter-widgets/controls",
          "model_name": "ProgressStyleModel",
          "state": {
            "_view_name": "StyleView",
            "_model_name": "ProgressStyleModel",
            "description_width": "initial",
            "_view_module": "@jupyter-widgets/base",
            "_model_module_version": "1.5.0",
            "_view_count": null,
            "_view_module_version": "1.2.0",
            "bar_color": null,
            "_model_module": "@jupyter-widgets/controls"
          }
        },
        "49c685061a7d4bd9a7b1b3f9aff36e0f": {
          "model_module": "@jupyter-widgets/base",
          "model_name": "LayoutModel",
          "state": {
            "_view_name": "LayoutView",
            "grid_template_rows": null,
            "right": null,
            "justify_content": null,
            "_view_module": "@jupyter-widgets/base",
            "overflow": null,
            "_model_module_version": "1.2.0",
            "_view_count": null,
            "flex_flow": null,
            "width": null,
            "min_width": null,
            "border": null,
            "align_items": null,
            "bottom": null,
            "_model_module": "@jupyter-widgets/base",
            "top": null,
            "grid_column": null,
            "overflow_y": null,
            "overflow_x": null,
            "grid_auto_flow": null,
            "grid_area": null,
            "grid_template_columns": null,
            "flex": null,
            "_model_name": "LayoutModel",
            "justify_items": null,
            "grid_row": null,
            "max_height": null,
            "align_content": null,
            "visibility": null,
            "align_self": null,
            "height": null,
            "min_height": null,
            "padding": null,
            "grid_auto_rows": null,
            "grid_gap": null,
            "max_width": null,
            "order": null,
            "_view_module_version": "1.2.0",
            "grid_template_areas": null,
            "object_position": null,
            "object_fit": null,
            "grid_auto_columns": null,
            "margin": null,
            "display": null,
            "left": null
          }
        },
        "3085ab32bd4c4ddf9096f8fc7ed3ac1b": {
          "model_module": "@jupyter-widgets/controls",
          "model_name": "DescriptionStyleModel",
          "state": {
            "_view_name": "StyleView",
            "_model_name": "DescriptionStyleModel",
            "description_width": "",
            "_view_module": "@jupyter-widgets/base",
            "_model_module_version": "1.5.0",
            "_view_count": null,
            "_view_module_version": "1.2.0",
            "_model_module": "@jupyter-widgets/controls"
          }
        },
        "3c0aee0d52b94a168912dbff13e57a6c": {
          "model_module": "@jupyter-widgets/base",
          "model_name": "LayoutModel",
          "state": {
            "_view_name": "LayoutView",
            "grid_template_rows": null,
            "right": null,
            "justify_content": null,
            "_view_module": "@jupyter-widgets/base",
            "overflow": null,
            "_model_module_version": "1.2.0",
            "_view_count": null,
            "flex_flow": null,
            "width": null,
            "min_width": null,
            "border": null,
            "align_items": null,
            "bottom": null,
            "_model_module": "@jupyter-widgets/base",
            "top": null,
            "grid_column": null,
            "overflow_y": null,
            "overflow_x": null,
            "grid_auto_flow": null,
            "grid_area": null,
            "grid_template_columns": null,
            "flex": null,
            "_model_name": "LayoutModel",
            "justify_items": null,
            "grid_row": null,
            "max_height": null,
            "align_content": null,
            "visibility": null,
            "align_self": null,
            "height": null,
            "min_height": null,
            "padding": null,
            "grid_auto_rows": null,
            "grid_gap": null,
            "max_width": null,
            "order": null,
            "_view_module_version": "1.2.0",
            "grid_template_areas": null,
            "object_position": null,
            "object_fit": null,
            "grid_auto_columns": null,
            "margin": null,
            "display": null,
            "left": null
          }
        },
        "2c0b24cc73e34da58a22a581f99d673f": {
          "model_module": "@jupyter-widgets/controls",
          "model_name": "HBoxModel",
          "state": {
            "_view_name": "HBoxView",
            "_dom_classes": [],
            "_model_name": "HBoxModel",
            "_view_module": "@jupyter-widgets/controls",
            "_model_module_version": "1.5.0",
            "_view_count": null,
            "_view_module_version": "1.5.0",
            "box_style": "",
            "layout": "IPY_MODEL_01eef707079d417181b48e610fcb4c51",
            "_model_module": "@jupyter-widgets/controls",
            "children": [
              "IPY_MODEL_0fce93da4d404302b9ae9af67c23329a",
              "IPY_MODEL_937149797e214facbafe4168c3129c5d"
            ]
          }
        },
        "01eef707079d417181b48e610fcb4c51": {
          "model_module": "@jupyter-widgets/base",
          "model_name": "LayoutModel",
          "state": {
            "_view_name": "LayoutView",
            "grid_template_rows": null,
            "right": null,
            "justify_content": null,
            "_view_module": "@jupyter-widgets/base",
            "overflow": null,
            "_model_module_version": "1.2.0",
            "_view_count": null,
            "flex_flow": null,
            "width": null,
            "min_width": null,
            "border": null,
            "align_items": null,
            "bottom": null,
            "_model_module": "@jupyter-widgets/base",
            "top": null,
            "grid_column": null,
            "overflow_y": null,
            "overflow_x": null,
            "grid_auto_flow": null,
            "grid_area": null,
            "grid_template_columns": null,
            "flex": null,
            "_model_name": "LayoutModel",
            "justify_items": null,
            "grid_row": null,
            "max_height": null,
            "align_content": null,
            "visibility": null,
            "align_self": null,
            "height": null,
            "min_height": null,
            "padding": null,
            "grid_auto_rows": null,
            "grid_gap": null,
            "max_width": null,
            "order": null,
            "_view_module_version": "1.2.0",
            "grid_template_areas": null,
            "object_position": null,
            "object_fit": null,
            "grid_auto_columns": null,
            "margin": null,
            "display": null,
            "left": null
          }
        },
        "0fce93da4d404302b9ae9af67c23329a": {
          "model_module": "@jupyter-widgets/controls",
          "model_name": "FloatProgressModel",
          "state": {
            "_view_name": "ProgressView",
            "style": "IPY_MODEL_7469622288974243bf6bc32284d3d23c",
            "_dom_classes": [],
            "description": "",
            "_model_name": "FloatProgressModel",
            "bar_style": "success",
            "max": 1,
            "_view_module": "@jupyter-widgets/controls",
            "_model_module_version": "1.5.0",
            "value": 1,
            "_view_count": null,
            "_view_module_version": "1.5.0",
            "orientation": "horizontal",
            "min": 0,
            "description_tooltip": null,
            "_model_module": "@jupyter-widgets/controls",
            "layout": "IPY_MODEL_036c8a57d5e7452f8412e65ad2d20c73"
          }
        },
        "937149797e214facbafe4168c3129c5d": {
          "model_module": "@jupyter-widgets/controls",
          "model_name": "HTMLModel",
          "state": {
            "_view_name": "HTMLView",
            "style": "IPY_MODEL_4e8cfa6861504f59999c69c14c8d5909",
            "_dom_classes": [],
            "description": "",
            "_model_name": "HTMLModel",
            "placeholder": "​",
            "_view_module": "@jupyter-widgets/controls",
            "_model_module_version": "1.5.0",
            "value": " 32768/? [00:05&lt;00:00, 6479.50it/s]",
            "_view_count": null,
            "_view_module_version": "1.5.0",
            "description_tooltip": null,
            "_model_module": "@jupyter-widgets/controls",
            "layout": "IPY_MODEL_c5d80ae873be4c2882ddb78b064f08c7"
          }
        },
        "7469622288974243bf6bc32284d3d23c": {
          "model_module": "@jupyter-widgets/controls",
          "model_name": "ProgressStyleModel",
          "state": {
            "_view_name": "StyleView",
            "_model_name": "ProgressStyleModel",
            "description_width": "initial",
            "_view_module": "@jupyter-widgets/base",
            "_model_module_version": "1.5.0",
            "_view_count": null,
            "_view_module_version": "1.2.0",
            "bar_color": null,
            "_model_module": "@jupyter-widgets/controls"
          }
        },
        "036c8a57d5e7452f8412e65ad2d20c73": {
          "model_module": "@jupyter-widgets/base",
          "model_name": "LayoutModel",
          "state": {
            "_view_name": "LayoutView",
            "grid_template_rows": null,
            "right": null,
            "justify_content": null,
            "_view_module": "@jupyter-widgets/base",
            "overflow": null,
            "_model_module_version": "1.2.0",
            "_view_count": null,
            "flex_flow": null,
            "width": null,
            "min_width": null,
            "border": null,
            "align_items": null,
            "bottom": null,
            "_model_module": "@jupyter-widgets/base",
            "top": null,
            "grid_column": null,
            "overflow_y": null,
            "overflow_x": null,
            "grid_auto_flow": null,
            "grid_area": null,
            "grid_template_columns": null,
            "flex": null,
            "_model_name": "LayoutModel",
            "justify_items": null,
            "grid_row": null,
            "max_height": null,
            "align_content": null,
            "visibility": null,
            "align_self": null,
            "height": null,
            "min_height": null,
            "padding": null,
            "grid_auto_rows": null,
            "grid_gap": null,
            "max_width": null,
            "order": null,
            "_view_module_version": "1.2.0",
            "grid_template_areas": null,
            "object_position": null,
            "object_fit": null,
            "grid_auto_columns": null,
            "margin": null,
            "display": null,
            "left": null
          }
        },
        "4e8cfa6861504f59999c69c14c8d5909": {
          "model_module": "@jupyter-widgets/controls",
          "model_name": "DescriptionStyleModel",
          "state": {
            "_view_name": "StyleView",
            "_model_name": "DescriptionStyleModel",
            "description_width": "",
            "_view_module": "@jupyter-widgets/base",
            "_model_module_version": "1.5.0",
            "_view_count": null,
            "_view_module_version": "1.2.0",
            "_model_module": "@jupyter-widgets/controls"
          }
        },
        "c5d80ae873be4c2882ddb78b064f08c7": {
          "model_module": "@jupyter-widgets/base",
          "model_name": "LayoutModel",
          "state": {
            "_view_name": "LayoutView",
            "grid_template_rows": null,
            "right": null,
            "justify_content": null,
            "_view_module": "@jupyter-widgets/base",
            "overflow": null,
            "_model_module_version": "1.2.0",
            "_view_count": null,
            "flex_flow": null,
            "width": null,
            "min_width": null,
            "border": null,
            "align_items": null,
            "bottom": null,
            "_model_module": "@jupyter-widgets/base",
            "top": null,
            "grid_column": null,
            "overflow_y": null,
            "overflow_x": null,
            "grid_auto_flow": null,
            "grid_area": null,
            "grid_template_columns": null,
            "flex": null,
            "_model_name": "LayoutModel",
            "justify_items": null,
            "grid_row": null,
            "max_height": null,
            "align_content": null,
            "visibility": null,
            "align_self": null,
            "height": null,
            "min_height": null,
            "padding": null,
            "grid_auto_rows": null,
            "grid_gap": null,
            "max_width": null,
            "order": null,
            "_view_module_version": "1.2.0",
            "grid_template_areas": null,
            "object_position": null,
            "object_fit": null,
            "grid_auto_columns": null,
            "margin": null,
            "display": null,
            "left": null
          }
        },
        "eb603332c5314e0589a86195cb2a988e": {
          "model_module": "@jupyter-widgets/controls",
          "model_name": "HBoxModel",
          "state": {
            "_view_name": "HBoxView",
            "_dom_classes": [],
            "_model_name": "HBoxModel",
            "_view_module": "@jupyter-widgets/controls",
            "_model_module_version": "1.5.0",
            "_view_count": null,
            "_view_module_version": "1.5.0",
            "box_style": "",
            "layout": "IPY_MODEL_916bfd5bf7b44bd696f5db05f74a21d1",
            "_model_module": "@jupyter-widgets/controls",
            "children": [
              "IPY_MODEL_3d7121dbe3bb46f1bfcb71bba48cc919",
              "IPY_MODEL_af02cb8353324efa95ab853f36337aa3"
            ]
          }
        },
        "916bfd5bf7b44bd696f5db05f74a21d1": {
          "model_module": "@jupyter-widgets/base",
          "model_name": "LayoutModel",
          "state": {
            "_view_name": "LayoutView",
            "grid_template_rows": null,
            "right": null,
            "justify_content": null,
            "_view_module": "@jupyter-widgets/base",
            "overflow": null,
            "_model_module_version": "1.2.0",
            "_view_count": null,
            "flex_flow": null,
            "width": null,
            "min_width": null,
            "border": null,
            "align_items": null,
            "bottom": null,
            "_model_module": "@jupyter-widgets/base",
            "top": null,
            "grid_column": null,
            "overflow_y": null,
            "overflow_x": null,
            "grid_auto_flow": null,
            "grid_area": null,
            "grid_template_columns": null,
            "flex": null,
            "_model_name": "LayoutModel",
            "justify_items": null,
            "grid_row": null,
            "max_height": null,
            "align_content": null,
            "visibility": null,
            "align_self": null,
            "height": null,
            "min_height": null,
            "padding": null,
            "grid_auto_rows": null,
            "grid_gap": null,
            "max_width": null,
            "order": null,
            "_view_module_version": "1.2.0",
            "grid_template_areas": null,
            "object_position": null,
            "object_fit": null,
            "grid_auto_columns": null,
            "margin": null,
            "display": null,
            "left": null
          }
        },
        "3d7121dbe3bb46f1bfcb71bba48cc919": {
          "model_module": "@jupyter-widgets/controls",
          "model_name": "FloatProgressModel",
          "state": {
            "_view_name": "ProgressView",
            "style": "IPY_MODEL_a8dfa6dd117346bab132e50020a80a0b",
            "_dom_classes": [],
            "description": "",
            "_model_name": "FloatProgressModel",
            "bar_style": "success",
            "max": 1,
            "_view_module": "@jupyter-widgets/controls",
            "_model_module_version": "1.5.0",
            "value": 1,
            "_view_count": null,
            "_view_module_version": "1.5.0",
            "orientation": "horizontal",
            "min": 0,
            "description_tooltip": null,
            "_model_module": "@jupyter-widgets/controls",
            "layout": "IPY_MODEL_8e8e005392e04ac3b15da7e86d619d63"
          }
        },
        "af02cb8353324efa95ab853f36337aa3": {
          "model_module": "@jupyter-widgets/controls",
          "model_name": "HTMLModel",
          "state": {
            "_view_name": "HTMLView",
            "style": "IPY_MODEL_6c2ea30915e2452da1bd35bccb492fcc",
            "_dom_classes": [],
            "description": "",
            "_model_name": "HTMLModel",
            "placeholder": "​",
            "_view_module": "@jupyter-widgets/controls",
            "_model_module_version": "1.5.0",
            "value": " 1654784/? [00:01&lt;00:00, 1001786.03it/s]",
            "_view_count": null,
            "_view_module_version": "1.5.0",
            "description_tooltip": null,
            "_model_module": "@jupyter-widgets/controls",
            "layout": "IPY_MODEL_72ee379589cc4ceaa4c489b152a81df2"
          }
        },
        "a8dfa6dd117346bab132e50020a80a0b": {
          "model_module": "@jupyter-widgets/controls",
          "model_name": "ProgressStyleModel",
          "state": {
            "_view_name": "StyleView",
            "_model_name": "ProgressStyleModel",
            "description_width": "initial",
            "_view_module": "@jupyter-widgets/base",
            "_model_module_version": "1.5.0",
            "_view_count": null,
            "_view_module_version": "1.2.0",
            "bar_color": null,
            "_model_module": "@jupyter-widgets/controls"
          }
        },
        "8e8e005392e04ac3b15da7e86d619d63": {
          "model_module": "@jupyter-widgets/base",
          "model_name": "LayoutModel",
          "state": {
            "_view_name": "LayoutView",
            "grid_template_rows": null,
            "right": null,
            "justify_content": null,
            "_view_module": "@jupyter-widgets/base",
            "overflow": null,
            "_model_module_version": "1.2.0",
            "_view_count": null,
            "flex_flow": null,
            "width": null,
            "min_width": null,
            "border": null,
            "align_items": null,
            "bottom": null,
            "_model_module": "@jupyter-widgets/base",
            "top": null,
            "grid_column": null,
            "overflow_y": null,
            "overflow_x": null,
            "grid_auto_flow": null,
            "grid_area": null,
            "grid_template_columns": null,
            "flex": null,
            "_model_name": "LayoutModel",
            "justify_items": null,
            "grid_row": null,
            "max_height": null,
            "align_content": null,
            "visibility": null,
            "align_self": null,
            "height": null,
            "min_height": null,
            "padding": null,
            "grid_auto_rows": null,
            "grid_gap": null,
            "max_width": null,
            "order": null,
            "_view_module_version": "1.2.0",
            "grid_template_areas": null,
            "object_position": null,
            "object_fit": null,
            "grid_auto_columns": null,
            "margin": null,
            "display": null,
            "left": null
          }
        },
        "6c2ea30915e2452da1bd35bccb492fcc": {
          "model_module": "@jupyter-widgets/controls",
          "model_name": "DescriptionStyleModel",
          "state": {
            "_view_name": "StyleView",
            "_model_name": "DescriptionStyleModel",
            "description_width": "",
            "_view_module": "@jupyter-widgets/base",
            "_model_module_version": "1.5.0",
            "_view_count": null,
            "_view_module_version": "1.2.0",
            "_model_module": "@jupyter-widgets/controls"
          }
        },
        "72ee379589cc4ceaa4c489b152a81df2": {
          "model_module": "@jupyter-widgets/base",
          "model_name": "LayoutModel",
          "state": {
            "_view_name": "LayoutView",
            "grid_template_rows": null,
            "right": null,
            "justify_content": null,
            "_view_module": "@jupyter-widgets/base",
            "overflow": null,
            "_model_module_version": "1.2.0",
            "_view_count": null,
            "flex_flow": null,
            "width": null,
            "min_width": null,
            "border": null,
            "align_items": null,
            "bottom": null,
            "_model_module": "@jupyter-widgets/base",
            "top": null,
            "grid_column": null,
            "overflow_y": null,
            "overflow_x": null,
            "grid_auto_flow": null,
            "grid_area": null,
            "grid_template_columns": null,
            "flex": null,
            "_model_name": "LayoutModel",
            "justify_items": null,
            "grid_row": null,
            "max_height": null,
            "align_content": null,
            "visibility": null,
            "align_self": null,
            "height": null,
            "min_height": null,
            "padding": null,
            "grid_auto_rows": null,
            "grid_gap": null,
            "max_width": null,
            "order": null,
            "_view_module_version": "1.2.0",
            "grid_template_areas": null,
            "object_position": null,
            "object_fit": null,
            "grid_auto_columns": null,
            "margin": null,
            "display": null,
            "left": null
          }
        },
        "811405997d5e44be9b7f5624c1b11a31": {
          "model_module": "@jupyter-widgets/controls",
          "model_name": "HBoxModel",
          "state": {
            "_view_name": "HBoxView",
            "_dom_classes": [],
            "_model_name": "HBoxModel",
            "_view_module": "@jupyter-widgets/controls",
            "_model_module_version": "1.5.0",
            "_view_count": null,
            "_view_module_version": "1.5.0",
            "box_style": "",
            "layout": "IPY_MODEL_93364ed3c6af4046b026938360c975fb",
            "_model_module": "@jupyter-widgets/controls",
            "children": [
              "IPY_MODEL_e42f42b13c154b9e8565b92baa9aa570",
              "IPY_MODEL_00791a388a4e44878c03a78926989824"
            ]
          }
        },
        "93364ed3c6af4046b026938360c975fb": {
          "model_module": "@jupyter-widgets/base",
          "model_name": "LayoutModel",
          "state": {
            "_view_name": "LayoutView",
            "grid_template_rows": null,
            "right": null,
            "justify_content": null,
            "_view_module": "@jupyter-widgets/base",
            "overflow": null,
            "_model_module_version": "1.2.0",
            "_view_count": null,
            "flex_flow": null,
            "width": null,
            "min_width": null,
            "border": null,
            "align_items": null,
            "bottom": null,
            "_model_module": "@jupyter-widgets/base",
            "top": null,
            "grid_column": null,
            "overflow_y": null,
            "overflow_x": null,
            "grid_auto_flow": null,
            "grid_area": null,
            "grid_template_columns": null,
            "flex": null,
            "_model_name": "LayoutModel",
            "justify_items": null,
            "grid_row": null,
            "max_height": null,
            "align_content": null,
            "visibility": null,
            "align_self": null,
            "height": null,
            "min_height": null,
            "padding": null,
            "grid_auto_rows": null,
            "grid_gap": null,
            "max_width": null,
            "order": null,
            "_view_module_version": "1.2.0",
            "grid_template_areas": null,
            "object_position": null,
            "object_fit": null,
            "grid_auto_columns": null,
            "margin": null,
            "display": null,
            "left": null
          }
        },
        "e42f42b13c154b9e8565b92baa9aa570": {
          "model_module": "@jupyter-widgets/controls",
          "model_name": "FloatProgressModel",
          "state": {
            "_view_name": "ProgressView",
            "style": "IPY_MODEL_98247c7ef6f34d5badad3ef7ff7b7ee2",
            "_dom_classes": [],
            "description": "",
            "_model_name": "FloatProgressModel",
            "bar_style": "success",
            "max": 1,
            "_view_module": "@jupyter-widgets/controls",
            "_model_module_version": "1.5.0",
            "value": 1,
            "_view_count": null,
            "_view_module_version": "1.5.0",
            "orientation": "horizontal",
            "min": 0,
            "description_tooltip": null,
            "_model_module": "@jupyter-widgets/controls",
            "layout": "IPY_MODEL_aebea5821f374db8aaed560e7544c401"
          }
        },
        "00791a388a4e44878c03a78926989824": {
          "model_module": "@jupyter-widgets/controls",
          "model_name": "HTMLModel",
          "state": {
            "_view_name": "HTMLView",
            "style": "IPY_MODEL_4217049b36904baa82fc4ebcbbb0e1e9",
            "_dom_classes": [],
            "description": "",
            "_model_name": "HTMLModel",
            "placeholder": "​",
            "_view_module": "@jupyter-widgets/controls",
            "_model_module_version": "1.5.0",
            "value": " 8192/? [00:00&lt;00:00, 24812.90it/s]",
            "_view_count": null,
            "_view_module_version": "1.5.0",
            "description_tooltip": null,
            "_model_module": "@jupyter-widgets/controls",
            "layout": "IPY_MODEL_979bd36c40f04ea18bb267c4186d0a14"
          }
        },
        "98247c7ef6f34d5badad3ef7ff7b7ee2": {
          "model_module": "@jupyter-widgets/controls",
          "model_name": "ProgressStyleModel",
          "state": {
            "_view_name": "StyleView",
            "_model_name": "ProgressStyleModel",
            "description_width": "initial",
            "_view_module": "@jupyter-widgets/base",
            "_model_module_version": "1.5.0",
            "_view_count": null,
            "_view_module_version": "1.2.0",
            "bar_color": null,
            "_model_module": "@jupyter-widgets/controls"
          }
        },
        "aebea5821f374db8aaed560e7544c401": {
          "model_module": "@jupyter-widgets/base",
          "model_name": "LayoutModel",
          "state": {
            "_view_name": "LayoutView",
            "grid_template_rows": null,
            "right": null,
            "justify_content": null,
            "_view_module": "@jupyter-widgets/base",
            "overflow": null,
            "_model_module_version": "1.2.0",
            "_view_count": null,
            "flex_flow": null,
            "width": null,
            "min_width": null,
            "border": null,
            "align_items": null,
            "bottom": null,
            "_model_module": "@jupyter-widgets/base",
            "top": null,
            "grid_column": null,
            "overflow_y": null,
            "overflow_x": null,
            "grid_auto_flow": null,
            "grid_area": null,
            "grid_template_columns": null,
            "flex": null,
            "_model_name": "LayoutModel",
            "justify_items": null,
            "grid_row": null,
            "max_height": null,
            "align_content": null,
            "visibility": null,
            "align_self": null,
            "height": null,
            "min_height": null,
            "padding": null,
            "grid_auto_rows": null,
            "grid_gap": null,
            "max_width": null,
            "order": null,
            "_view_module_version": "1.2.0",
            "grid_template_areas": null,
            "object_position": null,
            "object_fit": null,
            "grid_auto_columns": null,
            "margin": null,
            "display": null,
            "left": null
          }
        },
        "4217049b36904baa82fc4ebcbbb0e1e9": {
          "model_module": "@jupyter-widgets/controls",
          "model_name": "DescriptionStyleModel",
          "state": {
            "_view_name": "StyleView",
            "_model_name": "DescriptionStyleModel",
            "description_width": "",
            "_view_module": "@jupyter-widgets/base",
            "_model_module_version": "1.5.0",
            "_view_count": null,
            "_view_module_version": "1.2.0",
            "_model_module": "@jupyter-widgets/controls"
          }
        },
        "979bd36c40f04ea18bb267c4186d0a14": {
          "model_module": "@jupyter-widgets/base",
          "model_name": "LayoutModel",
          "state": {
            "_view_name": "LayoutView",
            "grid_template_rows": null,
            "right": null,
            "justify_content": null,
            "_view_module": "@jupyter-widgets/base",
            "overflow": null,
            "_model_module_version": "1.2.0",
            "_view_count": null,
            "flex_flow": null,
            "width": null,
            "min_width": null,
            "border": null,
            "align_items": null,
            "bottom": null,
            "_model_module": "@jupyter-widgets/base",
            "top": null,
            "grid_column": null,
            "overflow_y": null,
            "overflow_x": null,
            "grid_auto_flow": null,
            "grid_area": null,
            "grid_template_columns": null,
            "flex": null,
            "_model_name": "LayoutModel",
            "justify_items": null,
            "grid_row": null,
            "max_height": null,
            "align_content": null,
            "visibility": null,
            "align_self": null,
            "height": null,
            "min_height": null,
            "padding": null,
            "grid_auto_rows": null,
            "grid_gap": null,
            "max_width": null,
            "order": null,
            "_view_module_version": "1.2.0",
            "grid_template_areas": null,
            "object_position": null,
            "object_fit": null,
            "grid_auto_columns": null,
            "margin": null,
            "display": null,
            "left": null
          }
        },
        "316982bd682d47c6858aaba3be7b53a8": {
          "model_module": "@jupyter-widgets/controls",
          "model_name": "HBoxModel",
          "state": {
            "_view_name": "HBoxView",
            "_dom_classes": [],
            "_model_name": "HBoxModel",
            "_view_module": "@jupyter-widgets/controls",
            "_model_module_version": "1.5.0",
            "_view_count": null,
            "_view_module_version": "1.5.0",
            "box_style": "",
            "layout": "IPY_MODEL_f2f0de0ea55c411792d23683b49b655c",
            "_model_module": "@jupyter-widgets/controls",
            "children": [
              "IPY_MODEL_5b9dfafc0e044faab410d7add46d4ac6",
              "IPY_MODEL_9176e8ab7ed0499d933fdd937b4ad71b"
            ]
          }
        },
        "f2f0de0ea55c411792d23683b49b655c": {
          "model_module": "@jupyter-widgets/base",
          "model_name": "LayoutModel",
          "state": {
            "_view_name": "LayoutView",
            "grid_template_rows": null,
            "right": null,
            "justify_content": null,
            "_view_module": "@jupyter-widgets/base",
            "overflow": null,
            "_model_module_version": "1.2.0",
            "_view_count": null,
            "flex_flow": null,
            "width": null,
            "min_width": null,
            "border": null,
            "align_items": null,
            "bottom": null,
            "_model_module": "@jupyter-widgets/base",
            "top": null,
            "grid_column": null,
            "overflow_y": null,
            "overflow_x": null,
            "grid_auto_flow": null,
            "grid_area": null,
            "grid_template_columns": null,
            "flex": null,
            "_model_name": "LayoutModel",
            "justify_items": null,
            "grid_row": null,
            "max_height": null,
            "align_content": null,
            "visibility": null,
            "align_self": null,
            "height": null,
            "min_height": null,
            "padding": null,
            "grid_auto_rows": null,
            "grid_gap": null,
            "max_width": null,
            "order": null,
            "_view_module_version": "1.2.0",
            "grid_template_areas": null,
            "object_position": null,
            "object_fit": null,
            "grid_auto_columns": null,
            "margin": null,
            "display": null,
            "left": null
          }
        },
        "5b9dfafc0e044faab410d7add46d4ac6": {
          "model_module": "@jupyter-widgets/controls",
          "model_name": "FloatProgressModel",
          "state": {
            "_view_name": "ProgressView",
            "style": "IPY_MODEL_0ef4ba562d90492baaf2233b309e6054",
            "_dom_classes": [],
            "description": "",
            "_model_name": "FloatProgressModel",
            "bar_style": "success",
            "max": 1,
            "_view_module": "@jupyter-widgets/controls",
            "_model_module_version": "1.5.0",
            "value": 1,
            "_view_count": null,
            "_view_module_version": "1.5.0",
            "orientation": "horizontal",
            "min": 0,
            "description_tooltip": null,
            "_model_module": "@jupyter-widgets/controls",
            "layout": "IPY_MODEL_6f551b606df9454fa750a5f91bf921ca"
          }
        },
        "9176e8ab7ed0499d933fdd937b4ad71b": {
          "model_module": "@jupyter-widgets/controls",
          "model_name": "HTMLModel",
          "state": {
            "_view_name": "HTMLView",
            "style": "IPY_MODEL_01e5aa9afd7d4250997b63c18c549572",
            "_dom_classes": [],
            "description": "",
            "_model_name": "HTMLModel",
            "placeholder": "​",
            "_view_module": "@jupyter-widgets/controls",
            "_model_module_version": "1.5.0",
            "value": " 9920512/? [00:03&lt;00:00, 3176240.02it/s]",
            "_view_count": null,
            "_view_module_version": "1.5.0",
            "description_tooltip": null,
            "_model_module": "@jupyter-widgets/controls",
            "layout": "IPY_MODEL_ddbef94e2803430c978fda579d8cc740"
          }
        },
        "0ef4ba562d90492baaf2233b309e6054": {
          "model_module": "@jupyter-widgets/controls",
          "model_name": "ProgressStyleModel",
          "state": {
            "_view_name": "StyleView",
            "_model_name": "ProgressStyleModel",
            "description_width": "initial",
            "_view_module": "@jupyter-widgets/base",
            "_model_module_version": "1.5.0",
            "_view_count": null,
            "_view_module_version": "1.2.0",
            "bar_color": null,
            "_model_module": "@jupyter-widgets/controls"
          }
        },
        "6f551b606df9454fa750a5f91bf921ca": {
          "model_module": "@jupyter-widgets/base",
          "model_name": "LayoutModel",
          "state": {
            "_view_name": "LayoutView",
            "grid_template_rows": null,
            "right": null,
            "justify_content": null,
            "_view_module": "@jupyter-widgets/base",
            "overflow": null,
            "_model_module_version": "1.2.0",
            "_view_count": null,
            "flex_flow": null,
            "width": null,
            "min_width": null,
            "border": null,
            "align_items": null,
            "bottom": null,
            "_model_module": "@jupyter-widgets/base",
            "top": null,
            "grid_column": null,
            "overflow_y": null,
            "overflow_x": null,
            "grid_auto_flow": null,
            "grid_area": null,
            "grid_template_columns": null,
            "flex": null,
            "_model_name": "LayoutModel",
            "justify_items": null,
            "grid_row": null,
            "max_height": null,
            "align_content": null,
            "visibility": null,
            "align_self": null,
            "height": null,
            "min_height": null,
            "padding": null,
            "grid_auto_rows": null,
            "grid_gap": null,
            "max_width": null,
            "order": null,
            "_view_module_version": "1.2.0",
            "grid_template_areas": null,
            "object_position": null,
            "object_fit": null,
            "grid_auto_columns": null,
            "margin": null,
            "display": null,
            "left": null
          }
        },
        "01e5aa9afd7d4250997b63c18c549572": {
          "model_module": "@jupyter-widgets/controls",
          "model_name": "DescriptionStyleModel",
          "state": {
            "_view_name": "StyleView",
            "_model_name": "DescriptionStyleModel",
            "description_width": "",
            "_view_module": "@jupyter-widgets/base",
            "_model_module_version": "1.5.0",
            "_view_count": null,
            "_view_module_version": "1.2.0",
            "_model_module": "@jupyter-widgets/controls"
          }
        },
        "ddbef94e2803430c978fda579d8cc740": {
          "model_module": "@jupyter-widgets/base",
          "model_name": "LayoutModel",
          "state": {
            "_view_name": "LayoutView",
            "grid_template_rows": null,
            "right": null,
            "justify_content": null,
            "_view_module": "@jupyter-widgets/base",
            "overflow": null,
            "_model_module_version": "1.2.0",
            "_view_count": null,
            "flex_flow": null,
            "width": null,
            "min_width": null,
            "border": null,
            "align_items": null,
            "bottom": null,
            "_model_module": "@jupyter-widgets/base",
            "top": null,
            "grid_column": null,
            "overflow_y": null,
            "overflow_x": null,
            "grid_auto_flow": null,
            "grid_area": null,
            "grid_template_columns": null,
            "flex": null,
            "_model_name": "LayoutModel",
            "justify_items": null,
            "grid_row": null,
            "max_height": null,
            "align_content": null,
            "visibility": null,
            "align_self": null,
            "height": null,
            "min_height": null,
            "padding": null,
            "grid_auto_rows": null,
            "grid_gap": null,
            "max_width": null,
            "order": null,
            "_view_module_version": "1.2.0",
            "grid_template_areas": null,
            "object_position": null,
            "object_fit": null,
            "grid_auto_columns": null,
            "margin": null,
            "display": null,
            "left": null
          }
        },
        "e78776b0a64b4153bd84590f41024a98": {
          "model_module": "@jupyter-widgets/controls",
          "model_name": "HBoxModel",
          "state": {
            "_view_name": "HBoxView",
            "_dom_classes": [],
            "_model_name": "HBoxModel",
            "_view_module": "@jupyter-widgets/controls",
            "_model_module_version": "1.5.0",
            "_view_count": null,
            "_view_module_version": "1.5.0",
            "box_style": "",
            "layout": "IPY_MODEL_a44f88af9b904237b54337fb879e04c5",
            "_model_module": "@jupyter-widgets/controls",
            "children": [
              "IPY_MODEL_2979fc00c8c04439a5cb2d5feecb5daa",
              "IPY_MODEL_a583a04cf5284c558b106d9e9f5d6886"
            ]
          }
        },
        "a44f88af9b904237b54337fb879e04c5": {
          "model_module": "@jupyter-widgets/base",
          "model_name": "LayoutModel",
          "state": {
            "_view_name": "LayoutView",
            "grid_template_rows": null,
            "right": null,
            "justify_content": null,
            "_view_module": "@jupyter-widgets/base",
            "overflow": null,
            "_model_module_version": "1.2.0",
            "_view_count": null,
            "flex_flow": null,
            "width": null,
            "min_width": null,
            "border": null,
            "align_items": null,
            "bottom": null,
            "_model_module": "@jupyter-widgets/base",
            "top": null,
            "grid_column": null,
            "overflow_y": null,
            "overflow_x": null,
            "grid_auto_flow": null,
            "grid_area": null,
            "grid_template_columns": null,
            "flex": null,
            "_model_name": "LayoutModel",
            "justify_items": null,
            "grid_row": null,
            "max_height": null,
            "align_content": null,
            "visibility": null,
            "align_self": null,
            "height": null,
            "min_height": null,
            "padding": null,
            "grid_auto_rows": null,
            "grid_gap": null,
            "max_width": null,
            "order": null,
            "_view_module_version": "1.2.0",
            "grid_template_areas": null,
            "object_position": null,
            "object_fit": null,
            "grid_auto_columns": null,
            "margin": null,
            "display": null,
            "left": null
          }
        },
        "2979fc00c8c04439a5cb2d5feecb5daa": {
          "model_module": "@jupyter-widgets/controls",
          "model_name": "FloatProgressModel",
          "state": {
            "_view_name": "ProgressView",
            "style": "IPY_MODEL_6efdcdb2913f4f42b3b83f174b412574",
            "_dom_classes": [],
            "description": "",
            "_model_name": "FloatProgressModel",
            "bar_style": "success",
            "max": 1,
            "_view_module": "@jupyter-widgets/controls",
            "_model_module_version": "1.5.0",
            "value": 1,
            "_view_count": null,
            "_view_module_version": "1.5.0",
            "orientation": "horizontal",
            "min": 0,
            "description_tooltip": null,
            "_model_module": "@jupyter-widgets/controls",
            "layout": "IPY_MODEL_b51b99a4424c4537bd72db497449f02e"
          }
        },
        "a583a04cf5284c558b106d9e9f5d6886": {
          "model_module": "@jupyter-widgets/controls",
          "model_name": "HTMLModel",
          "state": {
            "_view_name": "HTMLView",
            "style": "IPY_MODEL_f5701561902f4ec4bebd62fa0a74b9f0",
            "_dom_classes": [],
            "description": "",
            "_model_name": "HTMLModel",
            "placeholder": "​",
            "_view_module": "@jupyter-widgets/controls",
            "_model_module_version": "1.5.0",
            "value": " 32768/? [00:01&lt;00:00, 21730.62it/s]",
            "_view_count": null,
            "_view_module_version": "1.5.0",
            "description_tooltip": null,
            "_model_module": "@jupyter-widgets/controls",
            "layout": "IPY_MODEL_6c2ea0b185b844a491b34eb11f42b6e4"
          }
        },
        "6efdcdb2913f4f42b3b83f174b412574": {
          "model_module": "@jupyter-widgets/controls",
          "model_name": "ProgressStyleModel",
          "state": {
            "_view_name": "StyleView",
            "_model_name": "ProgressStyleModel",
            "description_width": "initial",
            "_view_module": "@jupyter-widgets/base",
            "_model_module_version": "1.5.0",
            "_view_count": null,
            "_view_module_version": "1.2.0",
            "bar_color": null,
            "_model_module": "@jupyter-widgets/controls"
          }
        },
        "b51b99a4424c4537bd72db497449f02e": {
          "model_module": "@jupyter-widgets/base",
          "model_name": "LayoutModel",
          "state": {
            "_view_name": "LayoutView",
            "grid_template_rows": null,
            "right": null,
            "justify_content": null,
            "_view_module": "@jupyter-widgets/base",
            "overflow": null,
            "_model_module_version": "1.2.0",
            "_view_count": null,
            "flex_flow": null,
            "width": null,
            "min_width": null,
            "border": null,
            "align_items": null,
            "bottom": null,
            "_model_module": "@jupyter-widgets/base",
            "top": null,
            "grid_column": null,
            "overflow_y": null,
            "overflow_x": null,
            "grid_auto_flow": null,
            "grid_area": null,
            "grid_template_columns": null,
            "flex": null,
            "_model_name": "LayoutModel",
            "justify_items": null,
            "grid_row": null,
            "max_height": null,
            "align_content": null,
            "visibility": null,
            "align_self": null,
            "height": null,
            "min_height": null,
            "padding": null,
            "grid_auto_rows": null,
            "grid_gap": null,
            "max_width": null,
            "order": null,
            "_view_module_version": "1.2.0",
            "grid_template_areas": null,
            "object_position": null,
            "object_fit": null,
            "grid_auto_columns": null,
            "margin": null,
            "display": null,
            "left": null
          }
        },
        "f5701561902f4ec4bebd62fa0a74b9f0": {
          "model_module": "@jupyter-widgets/controls",
          "model_name": "DescriptionStyleModel",
          "state": {
            "_view_name": "StyleView",
            "_model_name": "DescriptionStyleModel",
            "description_width": "",
            "_view_module": "@jupyter-widgets/base",
            "_model_module_version": "1.5.0",
            "_view_count": null,
            "_view_module_version": "1.2.0",
            "_model_module": "@jupyter-widgets/controls"
          }
        },
        "6c2ea0b185b844a491b34eb11f42b6e4": {
          "model_module": "@jupyter-widgets/base",
          "model_name": "LayoutModel",
          "state": {
            "_view_name": "LayoutView",
            "grid_template_rows": null,
            "right": null,
            "justify_content": null,
            "_view_module": "@jupyter-widgets/base",
            "overflow": null,
            "_model_module_version": "1.2.0",
            "_view_count": null,
            "flex_flow": null,
            "width": null,
            "min_width": null,
            "border": null,
            "align_items": null,
            "bottom": null,
            "_model_module": "@jupyter-widgets/base",
            "top": null,
            "grid_column": null,
            "overflow_y": null,
            "overflow_x": null,
            "grid_auto_flow": null,
            "grid_area": null,
            "grid_template_columns": null,
            "flex": null,
            "_model_name": "LayoutModel",
            "justify_items": null,
            "grid_row": null,
            "max_height": null,
            "align_content": null,
            "visibility": null,
            "align_self": null,
            "height": null,
            "min_height": null,
            "padding": null,
            "grid_auto_rows": null,
            "grid_gap": null,
            "max_width": null,
            "order": null,
            "_view_module_version": "1.2.0",
            "grid_template_areas": null,
            "object_position": null,
            "object_fit": null,
            "grid_auto_columns": null,
            "margin": null,
            "display": null,
            "left": null
          }
        },
        "4def6f1af1cc411dba01bc351612b495": {
          "model_module": "@jupyter-widgets/controls",
          "model_name": "HBoxModel",
          "state": {
            "_view_name": "HBoxView",
            "_dom_classes": [],
            "_model_name": "HBoxModel",
            "_view_module": "@jupyter-widgets/controls",
            "_model_module_version": "1.5.0",
            "_view_count": null,
            "_view_module_version": "1.5.0",
            "box_style": "",
            "layout": "IPY_MODEL_fb2add33537b4727b480b396a17531a6",
            "_model_module": "@jupyter-widgets/controls",
            "children": [
              "IPY_MODEL_26680e36dff1478a859693535b1e2e93",
              "IPY_MODEL_b56e72423ff64b4785f16ac49504115c"
            ]
          }
        },
        "fb2add33537b4727b480b396a17531a6": {
          "model_module": "@jupyter-widgets/base",
          "model_name": "LayoutModel",
          "state": {
            "_view_name": "LayoutView",
            "grid_template_rows": null,
            "right": null,
            "justify_content": null,
            "_view_module": "@jupyter-widgets/base",
            "overflow": null,
            "_model_module_version": "1.2.0",
            "_view_count": null,
            "flex_flow": null,
            "width": null,
            "min_width": null,
            "border": null,
            "align_items": null,
            "bottom": null,
            "_model_module": "@jupyter-widgets/base",
            "top": null,
            "grid_column": null,
            "overflow_y": null,
            "overflow_x": null,
            "grid_auto_flow": null,
            "grid_area": null,
            "grid_template_columns": null,
            "flex": null,
            "_model_name": "LayoutModel",
            "justify_items": null,
            "grid_row": null,
            "max_height": null,
            "align_content": null,
            "visibility": null,
            "align_self": null,
            "height": null,
            "min_height": null,
            "padding": null,
            "grid_auto_rows": null,
            "grid_gap": null,
            "max_width": null,
            "order": null,
            "_view_module_version": "1.2.0",
            "grid_template_areas": null,
            "object_position": null,
            "object_fit": null,
            "grid_auto_columns": null,
            "margin": null,
            "display": null,
            "left": null
          }
        },
        "26680e36dff1478a859693535b1e2e93": {
          "model_module": "@jupyter-widgets/controls",
          "model_name": "FloatProgressModel",
          "state": {
            "_view_name": "ProgressView",
            "style": "IPY_MODEL_2dbc96c47e904324857120bc3e02a2bb",
            "_dom_classes": [],
            "description": "",
            "_model_name": "FloatProgressModel",
            "bar_style": "success",
            "max": 1,
            "_view_module": "@jupyter-widgets/controls",
            "_model_module_version": "1.5.0",
            "value": 1,
            "_view_count": null,
            "_view_module_version": "1.5.0",
            "orientation": "horizontal",
            "min": 0,
            "description_tooltip": null,
            "_model_module": "@jupyter-widgets/controls",
            "layout": "IPY_MODEL_34a1986a3d5c4c929b69ea5e5b0b6120"
          }
        },
        "b56e72423ff64b4785f16ac49504115c": {
          "model_module": "@jupyter-widgets/controls",
          "model_name": "HTMLModel",
          "state": {
            "_view_name": "HTMLView",
            "style": "IPY_MODEL_6e949a0f46da42c281aad86b3426f597",
            "_dom_classes": [],
            "description": "",
            "_model_name": "HTMLModel",
            "placeholder": "​",
            "_view_module": "@jupyter-widgets/controls",
            "_model_module_version": "1.5.0",
            "value": " 1654784/? [00:01&lt;00:00, 1358714.28it/s]",
            "_view_count": null,
            "_view_module_version": "1.5.0",
            "description_tooltip": null,
            "_model_module": "@jupyter-widgets/controls",
            "layout": "IPY_MODEL_42e9b41903834bdb9b41b7ef1f403bed"
          }
        },
        "2dbc96c47e904324857120bc3e02a2bb": {
          "model_module": "@jupyter-widgets/controls",
          "model_name": "ProgressStyleModel",
          "state": {
            "_view_name": "StyleView",
            "_model_name": "ProgressStyleModel",
            "description_width": "initial",
            "_view_module": "@jupyter-widgets/base",
            "_model_module_version": "1.5.0",
            "_view_count": null,
            "_view_module_version": "1.2.0",
            "bar_color": null,
            "_model_module": "@jupyter-widgets/controls"
          }
        },
        "34a1986a3d5c4c929b69ea5e5b0b6120": {
          "model_module": "@jupyter-widgets/base",
          "model_name": "LayoutModel",
          "state": {
            "_view_name": "LayoutView",
            "grid_template_rows": null,
            "right": null,
            "justify_content": null,
            "_view_module": "@jupyter-widgets/base",
            "overflow": null,
            "_model_module_version": "1.2.0",
            "_view_count": null,
            "flex_flow": null,
            "width": null,
            "min_width": null,
            "border": null,
            "align_items": null,
            "bottom": null,
            "_model_module": "@jupyter-widgets/base",
            "top": null,
            "grid_column": null,
            "overflow_y": null,
            "overflow_x": null,
            "grid_auto_flow": null,
            "grid_area": null,
            "grid_template_columns": null,
            "flex": null,
            "_model_name": "LayoutModel",
            "justify_items": null,
            "grid_row": null,
            "max_height": null,
            "align_content": null,
            "visibility": null,
            "align_self": null,
            "height": null,
            "min_height": null,
            "padding": null,
            "grid_auto_rows": null,
            "grid_gap": null,
            "max_width": null,
            "order": null,
            "_view_module_version": "1.2.0",
            "grid_template_areas": null,
            "object_position": null,
            "object_fit": null,
            "grid_auto_columns": null,
            "margin": null,
            "display": null,
            "left": null
          }
        },
        "6e949a0f46da42c281aad86b3426f597": {
          "model_module": "@jupyter-widgets/controls",
          "model_name": "DescriptionStyleModel",
          "state": {
            "_view_name": "StyleView",
            "_model_name": "DescriptionStyleModel",
            "description_width": "",
            "_view_module": "@jupyter-widgets/base",
            "_model_module_version": "1.5.0",
            "_view_count": null,
            "_view_module_version": "1.2.0",
            "_model_module": "@jupyter-widgets/controls"
          }
        },
        "42e9b41903834bdb9b41b7ef1f403bed": {
          "model_module": "@jupyter-widgets/base",
          "model_name": "LayoutModel",
          "state": {
            "_view_name": "LayoutView",
            "grid_template_rows": null,
            "right": null,
            "justify_content": null,
            "_view_module": "@jupyter-widgets/base",
            "overflow": null,
            "_model_module_version": "1.2.0",
            "_view_count": null,
            "flex_flow": null,
            "width": null,
            "min_width": null,
            "border": null,
            "align_items": null,
            "bottom": null,
            "_model_module": "@jupyter-widgets/base",
            "top": null,
            "grid_column": null,
            "overflow_y": null,
            "overflow_x": null,
            "grid_auto_flow": null,
            "grid_area": null,
            "grid_template_columns": null,
            "flex": null,
            "_model_name": "LayoutModel",
            "justify_items": null,
            "grid_row": null,
            "max_height": null,
            "align_content": null,
            "visibility": null,
            "align_self": null,
            "height": null,
            "min_height": null,
            "padding": null,
            "grid_auto_rows": null,
            "grid_gap": null,
            "max_width": null,
            "order": null,
            "_view_module_version": "1.2.0",
            "grid_template_areas": null,
            "object_position": null,
            "object_fit": null,
            "grid_auto_columns": null,
            "margin": null,
            "display": null,
            "left": null
          }
        },
        "42fb07ebb5cf4e4c8f11d8bf6fa2609e": {
          "model_module": "@jupyter-widgets/controls",
          "model_name": "HBoxModel",
          "state": {
            "_view_name": "HBoxView",
            "_dom_classes": [],
            "_model_name": "HBoxModel",
            "_view_module": "@jupyter-widgets/controls",
            "_model_module_version": "1.5.0",
            "_view_count": null,
            "_view_module_version": "1.5.0",
            "box_style": "",
            "layout": "IPY_MODEL_18f7b281c7164e91a2814eca9174cc35",
            "_model_module": "@jupyter-widgets/controls",
            "children": [
              "IPY_MODEL_1f753631cc204ebb9480649a5e19b062",
              "IPY_MODEL_3e6c34cf00cc40989e02c6a02cf4ec37"
            ]
          }
        },
        "18f7b281c7164e91a2814eca9174cc35": {
          "model_module": "@jupyter-widgets/base",
          "model_name": "LayoutModel",
          "state": {
            "_view_name": "LayoutView",
            "grid_template_rows": null,
            "right": null,
            "justify_content": null,
            "_view_module": "@jupyter-widgets/base",
            "overflow": null,
            "_model_module_version": "1.2.0",
            "_view_count": null,
            "flex_flow": null,
            "width": null,
            "min_width": null,
            "border": null,
            "align_items": null,
            "bottom": null,
            "_model_module": "@jupyter-widgets/base",
            "top": null,
            "grid_column": null,
            "overflow_y": null,
            "overflow_x": null,
            "grid_auto_flow": null,
            "grid_area": null,
            "grid_template_columns": null,
            "flex": null,
            "_model_name": "LayoutModel",
            "justify_items": null,
            "grid_row": null,
            "max_height": null,
            "align_content": null,
            "visibility": null,
            "align_self": null,
            "height": null,
            "min_height": null,
            "padding": null,
            "grid_auto_rows": null,
            "grid_gap": null,
            "max_width": null,
            "order": null,
            "_view_module_version": "1.2.0",
            "grid_template_areas": null,
            "object_position": null,
            "object_fit": null,
            "grid_auto_columns": null,
            "margin": null,
            "display": null,
            "left": null
          }
        },
        "1f753631cc204ebb9480649a5e19b062": {
          "model_module": "@jupyter-widgets/controls",
          "model_name": "FloatProgressModel",
          "state": {
            "_view_name": "ProgressView",
            "style": "IPY_MODEL_4426490b069c4abcbee3056aa6951d4c",
            "_dom_classes": [],
            "description": "",
            "_model_name": "FloatProgressModel",
            "bar_style": "success",
            "max": 1,
            "_view_module": "@jupyter-widgets/controls",
            "_model_module_version": "1.5.0",
            "value": 1,
            "_view_count": null,
            "_view_module_version": "1.5.0",
            "orientation": "horizontal",
            "min": 0,
            "description_tooltip": null,
            "_model_module": "@jupyter-widgets/controls",
            "layout": "IPY_MODEL_25a36adf7bfb459286e3050da416a117"
          }
        },
        "3e6c34cf00cc40989e02c6a02cf4ec37": {
          "model_module": "@jupyter-widgets/controls",
          "model_name": "HTMLModel",
          "state": {
            "_view_name": "HTMLView",
            "style": "IPY_MODEL_7af573a4ab904cae833740eeae38f9b6",
            "_dom_classes": [],
            "description": "",
            "_model_name": "HTMLModel",
            "placeholder": "​",
            "_view_module": "@jupyter-widgets/controls",
            "_model_module_version": "1.5.0",
            "value": " 8192/? [00:00&lt;00:00, 20495.95it/s]",
            "_view_count": null,
            "_view_module_version": "1.5.0",
            "description_tooltip": null,
            "_model_module": "@jupyter-widgets/controls",
            "layout": "IPY_MODEL_31233fe860004496ae0e27277e27cb00"
          }
        },
        "4426490b069c4abcbee3056aa6951d4c": {
          "model_module": "@jupyter-widgets/controls",
          "model_name": "ProgressStyleModel",
          "state": {
            "_view_name": "StyleView",
            "_model_name": "ProgressStyleModel",
            "description_width": "initial",
            "_view_module": "@jupyter-widgets/base",
            "_model_module_version": "1.5.0",
            "_view_count": null,
            "_view_module_version": "1.2.0",
            "bar_color": null,
            "_model_module": "@jupyter-widgets/controls"
          }
        },
        "25a36adf7bfb459286e3050da416a117": {
          "model_module": "@jupyter-widgets/base",
          "model_name": "LayoutModel",
          "state": {
            "_view_name": "LayoutView",
            "grid_template_rows": null,
            "right": null,
            "justify_content": null,
            "_view_module": "@jupyter-widgets/base",
            "overflow": null,
            "_model_module_version": "1.2.0",
            "_view_count": null,
            "flex_flow": null,
            "width": null,
            "min_width": null,
            "border": null,
            "align_items": null,
            "bottom": null,
            "_model_module": "@jupyter-widgets/base",
            "top": null,
            "grid_column": null,
            "overflow_y": null,
            "overflow_x": null,
            "grid_auto_flow": null,
            "grid_area": null,
            "grid_template_columns": null,
            "flex": null,
            "_model_name": "LayoutModel",
            "justify_items": null,
            "grid_row": null,
            "max_height": null,
            "align_content": null,
            "visibility": null,
            "align_self": null,
            "height": null,
            "min_height": null,
            "padding": null,
            "grid_auto_rows": null,
            "grid_gap": null,
            "max_width": null,
            "order": null,
            "_view_module_version": "1.2.0",
            "grid_template_areas": null,
            "object_position": null,
            "object_fit": null,
            "grid_auto_columns": null,
            "margin": null,
            "display": null,
            "left": null
          }
        },
        "7af573a4ab904cae833740eeae38f9b6": {
          "model_module": "@jupyter-widgets/controls",
          "model_name": "DescriptionStyleModel",
          "state": {
            "_view_name": "StyleView",
            "_model_name": "DescriptionStyleModel",
            "description_width": "",
            "_view_module": "@jupyter-widgets/base",
            "_model_module_version": "1.5.0",
            "_view_count": null,
            "_view_module_version": "1.2.0",
            "_model_module": "@jupyter-widgets/controls"
          }
        },
        "31233fe860004496ae0e27277e27cb00": {
          "model_module": "@jupyter-widgets/base",
          "model_name": "LayoutModel",
          "state": {
            "_view_name": "LayoutView",
            "grid_template_rows": null,
            "right": null,
            "justify_content": null,
            "_view_module": "@jupyter-widgets/base",
            "overflow": null,
            "_model_module_version": "1.2.0",
            "_view_count": null,
            "flex_flow": null,
            "width": null,
            "min_width": null,
            "border": null,
            "align_items": null,
            "bottom": null,
            "_model_module": "@jupyter-widgets/base",
            "top": null,
            "grid_column": null,
            "overflow_y": null,
            "overflow_x": null,
            "grid_auto_flow": null,
            "grid_area": null,
            "grid_template_columns": null,
            "flex": null,
            "_model_name": "LayoutModel",
            "justify_items": null,
            "grid_row": null,
            "max_height": null,
            "align_content": null,
            "visibility": null,
            "align_self": null,
            "height": null,
            "min_height": null,
            "padding": null,
            "grid_auto_rows": null,
            "grid_gap": null,
            "max_width": null,
            "order": null,
            "_view_module_version": "1.2.0",
            "grid_template_areas": null,
            "object_position": null,
            "object_fit": null,
            "grid_auto_columns": null,
            "margin": null,
            "display": null,
            "left": null
          }
        }
      }
    }
  },
  "cells": [
    {
      "cell_type": "code",
      "metadata": {
        "id": "WCnoIB_Ibc6Y",
        "colab_type": "code",
        "colab": {}
      },
      "source": [
        "import torch\n",
        "import torch.nn as nn\n",
        "import torch.optim as optim\n",
        "from tqdm import tqdm\n",
        "from torchvision import datasets\n",
        "\n",
        "import numpy as np\n",
        "import torchvision\n",
        "from torchvision import models, transforms\n",
        "from torch.optim import lr_scheduler\n",
        "import matplotlib.pyplot as plt\n",
        "import time\n",
        "import os\n",
        "import copy\n",
        "import matplotlib.pyplot as plt\n",
        "from torch.optim.lr_scheduler import StepLR\n",
        "import torch.nn.functional as F"
      ],
      "execution_count": 1,
      "outputs": []
    },
    {
      "cell_type": "markdown",
      "metadata": {
        "id": "GNXYErAebpFy",
        "colab_type": "text"
      },
      "source": [
        "# Загружаем данные"
      ]
    },
    {
      "cell_type": "code",
      "metadata": {
        "id": "a7jMxrVWbocc",
        "colab_type": "code",
        "colab": {
          "base_uri": "https://localhost:8080/",
          "height": 684,
          "referenced_widgets": [
            "d724c33db2cc48e9ab6b26afb911e107",
            "3d84ac29fbd44d1ebd4f6ad5d057d620",
            "9759dfbd70d64364acd3da0321a904dc",
            "f1a24850cfd3408e8d0ba09b8c522135",
            "5d9ed130891e4c838c92b0c241d5a469",
            "49c685061a7d4bd9a7b1b3f9aff36e0f",
            "3085ab32bd4c4ddf9096f8fc7ed3ac1b",
            "3c0aee0d52b94a168912dbff13e57a6c",
            "2c0b24cc73e34da58a22a581f99d673f",
            "01eef707079d417181b48e610fcb4c51",
            "0fce93da4d404302b9ae9af67c23329a",
            "937149797e214facbafe4168c3129c5d",
            "7469622288974243bf6bc32284d3d23c",
            "036c8a57d5e7452f8412e65ad2d20c73",
            "4e8cfa6861504f59999c69c14c8d5909",
            "c5d80ae873be4c2882ddb78b064f08c7",
            "eb603332c5314e0589a86195cb2a988e",
            "916bfd5bf7b44bd696f5db05f74a21d1",
            "3d7121dbe3bb46f1bfcb71bba48cc919",
            "af02cb8353324efa95ab853f36337aa3",
            "a8dfa6dd117346bab132e50020a80a0b",
            "8e8e005392e04ac3b15da7e86d619d63",
            "6c2ea30915e2452da1bd35bccb492fcc",
            "72ee379589cc4ceaa4c489b152a81df2",
            "811405997d5e44be9b7f5624c1b11a31",
            "93364ed3c6af4046b026938360c975fb",
            "e42f42b13c154b9e8565b92baa9aa570",
            "00791a388a4e44878c03a78926989824",
            "98247c7ef6f34d5badad3ef7ff7b7ee2",
            "aebea5821f374db8aaed560e7544c401",
            "4217049b36904baa82fc4ebcbbb0e1e9",
            "979bd36c40f04ea18bb267c4186d0a14",
            "316982bd682d47c6858aaba3be7b53a8",
            "f2f0de0ea55c411792d23683b49b655c",
            "5b9dfafc0e044faab410d7add46d4ac6",
            "9176e8ab7ed0499d933fdd937b4ad71b",
            "0ef4ba562d90492baaf2233b309e6054",
            "6f551b606df9454fa750a5f91bf921ca",
            "01e5aa9afd7d4250997b63c18c549572",
            "ddbef94e2803430c978fda579d8cc740",
            "e78776b0a64b4153bd84590f41024a98",
            "a44f88af9b904237b54337fb879e04c5",
            "2979fc00c8c04439a5cb2d5feecb5daa",
            "a583a04cf5284c558b106d9e9f5d6886",
            "6efdcdb2913f4f42b3b83f174b412574",
            "b51b99a4424c4537bd72db497449f02e",
            "f5701561902f4ec4bebd62fa0a74b9f0",
            "6c2ea0b185b844a491b34eb11f42b6e4",
            "4def6f1af1cc411dba01bc351612b495",
            "fb2add33537b4727b480b396a17531a6",
            "26680e36dff1478a859693535b1e2e93",
            "b56e72423ff64b4785f16ac49504115c",
            "2dbc96c47e904324857120bc3e02a2bb",
            "34a1986a3d5c4c929b69ea5e5b0b6120",
            "6e949a0f46da42c281aad86b3426f597",
            "42e9b41903834bdb9b41b7ef1f403bed",
            "42fb07ebb5cf4e4c8f11d8bf6fa2609e",
            "18f7b281c7164e91a2814eca9174cc35",
            "1f753631cc204ebb9480649a5e19b062",
            "3e6c34cf00cc40989e02c6a02cf4ec37",
            "4426490b069c4abcbee3056aa6951d4c",
            "25a36adf7bfb459286e3050da416a117",
            "7af573a4ab904cae833740eeae38f9b6",
            "31233fe860004496ae0e27277e27cb00"
          ]
        },
        "outputId": "3f130a76-824b-4265-8197-682ddab6b5d0"
      },
      "source": [
        "transform_list = transforms.Compose([\n",
        "    transforms.ToTensor(),\n",
        "    transforms.Normalize((0.1307,), (0.3081,)),\n",
        "])\n",
        "\n",
        "train = datasets.MNIST('../data/MNIST/train', train=True, download=True, transform=transform_list)\n",
        "test = datasets.MNIST('../data/MNIST/test', train=False, download=True, transform=transform_list)\n",
        "trainset = torch.utils.data.DataLoader(train, batch_size=128, shuffle=True)\n",
        "testset = torch.utils.data.DataLoader(test, batch_size=128, shuffle=True)"
      ],
      "execution_count": 2,
      "outputs": [
        {
          "output_type": "stream",
          "text": [
            "Downloading http://yann.lecun.com/exdb/mnist/train-images-idx3-ubyte.gz to ../data/MNIST/train/MNIST/raw/train-images-idx3-ubyte.gz\n"
          ],
          "name": "stdout"
        },
        {
          "output_type": "display_data",
          "data": {
            "application/vnd.jupyter.widget-view+json": {
              "model_id": "d724c33db2cc48e9ab6b26afb911e107",
              "version_minor": 0,
              "version_major": 2
            },
            "text/plain": [
              "HBox(children=(FloatProgress(value=1.0, bar_style='info', max=1.0), HTML(value='')))"
            ]
          },
          "metadata": {
            "tags": []
          }
        },
        {
          "output_type": "stream",
          "text": [
            "Extracting ../data/MNIST/train/MNIST/raw/train-images-idx3-ubyte.gz to ../data/MNIST/train/MNIST/raw\n",
            "Downloading http://yann.lecun.com/exdb/mnist/train-labels-idx1-ubyte.gz to ../data/MNIST/train/MNIST/raw/train-labels-idx1-ubyte.gz\n"
          ],
          "name": "stdout"
        },
        {
          "output_type": "display_data",
          "data": {
            "application/vnd.jupyter.widget-view+json": {
              "model_id": "2c0b24cc73e34da58a22a581f99d673f",
              "version_minor": 0,
              "version_major": 2
            },
            "text/plain": [
              "HBox(children=(FloatProgress(value=1.0, bar_style='info', max=1.0), HTML(value='')))"
            ]
          },
          "metadata": {
            "tags": []
          }
        },
        {
          "output_type": "stream",
          "text": [
            "Extracting ../data/MNIST/train/MNIST/raw/train-labels-idx1-ubyte.gz to ../data/MNIST/train/MNIST/raw\n",
            "Downloading http://yann.lecun.com/exdb/mnist/t10k-images-idx3-ubyte.gz to ../data/MNIST/train/MNIST/raw/t10k-images-idx3-ubyte.gz\n"
          ],
          "name": "stdout"
        },
        {
          "output_type": "display_data",
          "data": {
            "application/vnd.jupyter.widget-view+json": {
              "model_id": "eb603332c5314e0589a86195cb2a988e",
              "version_minor": 0,
              "version_major": 2
            },
            "text/plain": [
              "HBox(children=(FloatProgress(value=1.0, bar_style='info', max=1.0), HTML(value='')))"
            ]
          },
          "metadata": {
            "tags": []
          }
        },
        {
          "output_type": "stream",
          "text": [
            "Extracting ../data/MNIST/train/MNIST/raw/t10k-images-idx3-ubyte.gz to ../data/MNIST/train/MNIST/raw\n",
            "Downloading http://yann.lecun.com/exdb/mnist/t10k-labels-idx1-ubyte.gz to ../data/MNIST/train/MNIST/raw/t10k-labels-idx1-ubyte.gz\n"
          ],
          "name": "stdout"
        },
        {
          "output_type": "display_data",
          "data": {
            "application/vnd.jupyter.widget-view+json": {
              "model_id": "811405997d5e44be9b7f5624c1b11a31",
              "version_minor": 0,
              "version_major": 2
            },
            "text/plain": [
              "HBox(children=(FloatProgress(value=1.0, bar_style='info', max=1.0), HTML(value='')))"
            ]
          },
          "metadata": {
            "tags": []
          }
        },
        {
          "output_type": "stream",
          "text": [
            "Extracting ../data/MNIST/train/MNIST/raw/t10k-labels-idx1-ubyte.gz to ../data/MNIST/train/MNIST/raw\n",
            "Processing...\n",
            "Done!\n",
            "Downloading http://yann.lecun.com/exdb/mnist/train-images-idx3-ubyte.gz to ../data/MNIST/test/MNIST/raw/train-images-idx3-ubyte.gz\n",
            "\n",
            "\n"
          ],
          "name": "stdout"
        },
        {
          "output_type": "stream",
          "text": [
            "/pytorch/torch/csrc/utils/tensor_numpy.cpp:141: UserWarning: The given NumPy array is not writeable, and PyTorch does not support non-writeable tensors. This means you can write to the underlying (supposedly non-writeable) NumPy array using the tensor. You may want to copy the array to protect its data or make it writeable before converting it to a tensor. This type of warning will be suppressed for the rest of this program.\n"
          ],
          "name": "stderr"
        },
        {
          "output_type": "display_data",
          "data": {
            "application/vnd.jupyter.widget-view+json": {
              "model_id": "316982bd682d47c6858aaba3be7b53a8",
              "version_minor": 0,
              "version_major": 2
            },
            "text/plain": [
              "HBox(children=(FloatProgress(value=1.0, bar_style='info', max=1.0), HTML(value='')))"
            ]
          },
          "metadata": {
            "tags": []
          }
        },
        {
          "output_type": "stream",
          "text": [
            "Extracting ../data/MNIST/test/MNIST/raw/train-images-idx3-ubyte.gz to ../data/MNIST/test/MNIST/raw\n",
            "Downloading http://yann.lecun.com/exdb/mnist/train-labels-idx1-ubyte.gz to ../data/MNIST/test/MNIST/raw/train-labels-idx1-ubyte.gz\n"
          ],
          "name": "stdout"
        },
        {
          "output_type": "display_data",
          "data": {
            "application/vnd.jupyter.widget-view+json": {
              "model_id": "e78776b0a64b4153bd84590f41024a98",
              "version_minor": 0,
              "version_major": 2
            },
            "text/plain": [
              "HBox(children=(FloatProgress(value=1.0, bar_style='info', max=1.0), HTML(value='')))"
            ]
          },
          "metadata": {
            "tags": []
          }
        },
        {
          "output_type": "stream",
          "text": [
            "Extracting ../data/MNIST/test/MNIST/raw/train-labels-idx1-ubyte.gz to ../data/MNIST/test/MNIST/raw\n",
            "Downloading http://yann.lecun.com/exdb/mnist/t10k-images-idx3-ubyte.gz to ../data/MNIST/test/MNIST/raw/t10k-images-idx3-ubyte.gz\n"
          ],
          "name": "stdout"
        },
        {
          "output_type": "display_data",
          "data": {
            "application/vnd.jupyter.widget-view+json": {
              "model_id": "4def6f1af1cc411dba01bc351612b495",
              "version_minor": 0,
              "version_major": 2
            },
            "text/plain": [
              "HBox(children=(FloatProgress(value=1.0, bar_style='info', max=1.0), HTML(value='')))"
            ]
          },
          "metadata": {
            "tags": []
          }
        },
        {
          "output_type": "stream",
          "text": [
            "Extracting ../data/MNIST/test/MNIST/raw/t10k-images-idx3-ubyte.gz to ../data/MNIST/test/MNIST/raw\n",
            "Downloading http://yann.lecun.com/exdb/mnist/t10k-labels-idx1-ubyte.gz to ../data/MNIST/test/MNIST/raw/t10k-labels-idx1-ubyte.gz\n"
          ],
          "name": "stdout"
        },
        {
          "output_type": "display_data",
          "data": {
            "application/vnd.jupyter.widget-view+json": {
              "model_id": "42fb07ebb5cf4e4c8f11d8bf6fa2609e",
              "version_minor": 0,
              "version_major": 2
            },
            "text/plain": [
              "HBox(children=(FloatProgress(value=1.0, bar_style='info', max=1.0), HTML(value='')))"
            ]
          },
          "metadata": {
            "tags": []
          }
        },
        {
          "output_type": "stream",
          "text": [
            "Extracting ../data/MNIST/test/MNIST/raw/t10k-labels-idx1-ubyte.gz to ../data/MNIST/test/MNIST/raw\n",
            "Processing...\n",
            "Done!\n"
          ],
          "name": "stdout"
        }
      ]
    },
    {
      "cell_type": "code",
      "metadata": {
        "id": "Ms3kXED2bn39",
        "colab_type": "code",
        "colab": {
          "base_uri": "https://localhost:8080/",
          "height": 68
        },
        "outputId": "fece1c91-c0df-4bd8-b62c-50bc97d5c802"
      },
      "source": [
        "batch, label = next(iter(trainset))"
      ],
      "execution_count": 3,
      "outputs": [
        {
          "output_type": "stream",
          "text": [
            "\n",
            "\n",
            "\n"
          ],
          "name": "stdout"
        }
      ]
    },
    {
      "cell_type": "code",
      "metadata": {
        "id": "BLDhmZFMcLqG",
        "colab_type": "code",
        "colab": {
          "base_uri": "https://localhost:8080/",
          "height": 34
        },
        "outputId": "207ac3e6-d9b4-4a2f-b5a5-f63d37d52a3e"
      },
      "source": [
        "batch.shape"
      ],
      "execution_count": 4,
      "outputs": [
        {
          "output_type": "execute_result",
          "data": {
            "text/plain": [
              "torch.Size([128, 1, 28, 28])"
            ]
          },
          "metadata": {
            "tags": []
          },
          "execution_count": 4
        }
      ]
    },
    {
      "cell_type": "code",
      "metadata": {
        "id": "JcB2x_N9cMxQ",
        "colab_type": "code",
        "colab": {
          "base_uri": "https://localhost:8080/",
          "height": 318
        },
        "outputId": "68665e20-ae53-44e9-cc7f-44aed1e37a30"
      },
      "source": [
        "import matplotlib.pyplot as plt\n",
        "\n",
        "fig = plt.figure()\n",
        "for i in range(6):\n",
        "  plt.subplot(2,3,i+1)\n",
        "  plt.tight_layout()\n",
        "  plt.imshow(batch[i][0], cmap='gray', interpolation='none')\n",
        "  plt.title(\"Ground Truth: {}\".format(label[i]))\n",
        "  plt.xticks([])\n",
        "  plt.yticks([])\n"
      ],
      "execution_count": 5,
      "outputs": [
        {
          "output_type": "stream",
          "text": [
            "\n",
            "\n"
          ],
          "name": "stdout"
        },
        {
          "output_type": "display_data",
          "data": {
            "image/png": "[encoded data removed]",
            "text/plain": [
              "<Figure size 432x288 with 6 Axes>"
            ]
          },
          "metadata": {
            "tags": []
          }
        }
      ]
    },
    {
      "cell_type": "markdown",
      "metadata": {
        "id": "0uoqoC6ydNi_",
        "colab_type": "text"
      },
      "source": [
        "# Создаем сеть"
      ]
    },
    {
      "cell_type": "code",
      "metadata": {
        "id": "7_gZpeSrcnFa",
        "colab_type": "code",
        "colab": {}
      },
      "source": [
        "class Net(nn.Module):\n",
        "    def __init__(self):\n",
        "        super().__init__()\n",
        "        self.conv1 = nn.Conv2d(1, 10, kernel_size=5)\n",
        "        self.conv2 = nn.Conv2d(10, 20, kernel_size=5)\n",
        "        self.conv2_drop = nn.Dropout2d()\n",
        "        self.fc1 = nn.Linear(320, 50)\n",
        "        self.fc2 = nn.Linear(50, 10)\n",
        "\n",
        "    def forward(self, x):\n",
        "        x = F.relu(F.max_pool2d(self.conv1(x), 2))\n",
        "        x = F.relu(F.max_pool2d(self.conv2_drop(self.conv2(x)), 2))\n",
        "        x = x.view(-1, 320)\n",
        "        x = F.relu(self.fc1(x))\n",
        "        x = F.dropout(x, training=self.training)\n",
        "        x = self.fc2(x)\n",
        "        return F.softmax(x, dim=1)"
      ],
      "execution_count": 6,
      "outputs": []
    },
    {
      "cell_type": "code",
      "metadata": {
        "id": "aCFpXE1edMcG",
        "colab_type": "code",
        "colab": {}
      },
      "source": [
        "network = Net()\n",
        "optimizer = optim.Adagrad(network.parameters(), lr=0.01)"
      ],
      "execution_count": 7,
      "outputs": []
    },
    {
      "cell_type": "markdown",
      "metadata": {
        "id": "kUte1he9dmPi",
        "colab_type": "text"
      },
      "source": [
        "# Обучаем сеть"
      ]
    },
    {
      "cell_type": "code",
      "metadata": {
        "id": "ltn6wVYAdsZJ",
        "colab_type": "code",
        "colab": {}
      },
      "source": [
        "n_epochs = 15\n",
        "train_losses = []\n",
        "train_counter = []\n",
        "test_losses = []\n",
        "test_counter = [i*len(trainset.dataset) for i in range(n_epochs + 1)]"
      ],
      "execution_count": 8,
      "outputs": []
    },
    {
      "cell_type": "code",
      "metadata": {
        "id": "CuQWNElWdwAJ",
        "colab_type": "code",
        "colab": {}
      },
      "source": [
        "def train(epoch):\n",
        "  network.train()\n",
        "  for batch_idx, (data, target) in enumerate(trainset):\n",
        "    optimizer.zero_grad()\n",
        "    output = network(data)\n",
        "    loss = F.nll_loss(output, target)\n",
        "    loss.backward()\n",
        "    optimizer.step()\n",
        "    if batch_idx % 100 == 0:\n",
        "      print('Train Epoch: {} [{}/{} ({:.0f}%)]\\tLoss: {:.6f}'.format(\n",
        "        epoch, batch_idx * len(data), len(trainset.dataset),\n",
        "        100. * batch_idx / len(trainset), loss.item()))\n",
        "      train_losses.append(loss.item())\n",
        "      train_counter.append(\n",
        "        (batch_idx*64) + ((epoch-1)*len(trainset.dataset)))"
      ],
      "execution_count": 9,
      "outputs": []
    },
    {
      "cell_type": "code",
      "metadata": {
        "id": "UpIpNDbUeBai",
        "colab_type": "code",
        "colab": {}
      },
      "source": [
        "def test():\n",
        "  network.eval()\n",
        "  test_loss = 0\n",
        "  correct = 0\n",
        "  with torch.no_grad():\n",
        "    for data, target in testset:\n",
        "      output = network(data)\n",
        "      test_loss += F.nll_loss(output, target, reduction=\"sum\").item()\n",
        "      pred = output.data.max(1, keepdim=True)[1]\n",
        "      correct += pred.eq(target.data.view_as(pred)).sum()\n",
        "  test_loss /= len(testset.dataset)\n",
        "  test_losses.append(test_loss)\n",
        "  print('\\nTest set: Avg. loss: {:.4f}, Accuracy: {}/{} ({:.0f}%)\\n'.format(\n",
        "    test_loss, correct, len(testset.dataset),\n",
        "    100. * correct / len(testset.dataset)))"
      ],
      "execution_count": 10,
      "outputs": []
    },
    {
      "cell_type": "code",
      "metadata": {
        "id": "VULhlIE_eEQA",
        "colab_type": "code",
        "colab": {
          "base_uri": "https://localhost:8080/",
          "height": 1000
        },
        "outputId": "7c306d1b-8996-45b6-c18f-9c578739fbd4"
      },
      "source": [
        "test()\n",
        "for epoch in range(1, n_epochs + 1):\n",
        "  train(epoch)\n",
        "  test()"
      ],
      "execution_count": 11,
      "outputs": [
        {
          "output_type": "stream",
          "text": [
            "\n",
            "Test set: Avg. loss: -0.1006, Accuracy: 1046/10000 (10%)\n",
            "\n",
            "Train Epoch: 1 [0/60000 (0%)]\tLoss: -0.098159\n",
            "Train Epoch: 1 [12800/60000 (21%)]\tLoss: -0.723313\n",
            "Train Epoch: 1 [25600/60000 (43%)]\tLoss: -0.832805\n",
            "Train Epoch: 1 [38400/60000 (64%)]\tLoss: -0.869263\n",
            "Train Epoch: 1 [51200/60000 (85%)]\tLoss: -0.842043\n",
            "\n",
            "Test set: Avg. loss: -0.9352, Accuracy: 9389/10000 (94%)\n",
            "\n",
            "Train Epoch: 2 [0/60000 (0%)]\tLoss: -0.861712\n",
            "Train Epoch: 2 [12800/60000 (21%)]\tLoss: -0.852494\n",
            "Train Epoch: 2 [25600/60000 (43%)]\tLoss: -0.868279\n",
            "Train Epoch: 2 [38400/60000 (64%)]\tLoss: -0.913072\n",
            "Train Epoch: 2 [51200/60000 (85%)]\tLoss: -0.918126\n",
            "\n",
            "Test set: Avg. loss: -0.9490, Accuracy: 9508/10000 (95%)\n",
            "\n",
            "Train Epoch: 3 [0/60000 (0%)]\tLoss: -0.930894\n",
            "Train Epoch: 3 [12800/60000 (21%)]\tLoss: -0.909518\n",
            "Train Epoch: 3 [25600/60000 (43%)]\tLoss: -0.875245\n",
            "Train Epoch: 3 [38400/60000 (64%)]\tLoss: -0.928202\n",
            "Train Epoch: 3 [51200/60000 (85%)]\tLoss: -0.895322\n",
            "\n",
            "Test set: Avg. loss: -0.9545, Accuracy: 9562/10000 (96%)\n",
            "\n",
            "Train Epoch: 4 [0/60000 (0%)]\tLoss: -0.883347\n",
            "Train Epoch: 4 [12800/60000 (21%)]\tLoss: -0.911023\n",
            "Train Epoch: 4 [25600/60000 (43%)]\tLoss: -0.936831\n",
            "Train Epoch: 4 [38400/60000 (64%)]\tLoss: -0.855246\n",
            "Train Epoch: 4 [51200/60000 (85%)]\tLoss: -0.935538\n",
            "\n",
            "Test set: Avg. loss: -0.9579, Accuracy: 9591/10000 (96%)\n",
            "\n",
            "Train Epoch: 5 [0/60000 (0%)]\tLoss: -0.921399\n",
            "Train Epoch: 5 [12800/60000 (21%)]\tLoss: -0.921367\n",
            "Train Epoch: 5 [25600/60000 (43%)]\tLoss: -0.936446\n",
            "Train Epoch: 5 [38400/60000 (64%)]\tLoss: -0.914285\n",
            "Train Epoch: 5 [51200/60000 (85%)]\tLoss: -0.944243\n",
            "\n",
            "Test set: Avg. loss: -0.9601, Accuracy: 9610/10000 (96%)\n",
            "\n",
            "Train Epoch: 6 [0/60000 (0%)]\tLoss: -0.899999\n",
            "Train Epoch: 6 [12800/60000 (21%)]\tLoss: -0.928660\n",
            "Train Epoch: 6 [25600/60000 (43%)]\tLoss: -0.907397\n",
            "Train Epoch: 6 [38400/60000 (64%)]\tLoss: -0.918236\n",
            "Train Epoch: 6 [51200/60000 (85%)]\tLoss: -0.932224\n",
            "\n",
            "Test set: Avg. loss: -0.9625, Accuracy: 9637/10000 (96%)\n",
            "\n",
            "Train Epoch: 7 [0/60000 (0%)]\tLoss: -0.922468\n",
            "Train Epoch: 7 [12800/60000 (21%)]\tLoss: -0.904210\n",
            "Train Epoch: 7 [25600/60000 (43%)]\tLoss: -0.919707\n",
            "Train Epoch: 7 [38400/60000 (64%)]\tLoss: -0.940563\n",
            "Train Epoch: 7 [51200/60000 (85%)]\tLoss: -0.958321\n",
            "\n",
            "Test set: Avg. loss: -0.9638, Accuracy: 9651/10000 (97%)\n",
            "\n",
            "Train Epoch: 8 [0/60000 (0%)]\tLoss: -0.921227\n",
            "Train Epoch: 8 [12800/60000 (21%)]\tLoss: -0.956811\n",
            "Train Epoch: 8 [25600/60000 (43%)]\tLoss: -0.960006\n",
            "Train Epoch: 8 [38400/60000 (64%)]\tLoss: -0.930470\n",
            "Train Epoch: 8 [51200/60000 (85%)]\tLoss: -0.928842\n",
            "\n",
            "Test set: Avg. loss: -0.9654, Accuracy: 9665/10000 (97%)\n",
            "\n",
            "Train Epoch: 9 [0/60000 (0%)]\tLoss: -0.902247\n",
            "Train Epoch: 9 [12800/60000 (21%)]\tLoss: -0.929954\n",
            "Train Epoch: 9 [25600/60000 (43%)]\tLoss: -0.905099\n",
            "Train Epoch: 9 [38400/60000 (64%)]\tLoss: -0.948648\n",
            "Train Epoch: 9 [51200/60000 (85%)]\tLoss: -0.950616\n",
            "\n",
            "Test set: Avg. loss: -0.9665, Accuracy: 9672/10000 (97%)\n",
            "\n",
            "Train Epoch: 10 [0/60000 (0%)]\tLoss: -0.902291\n",
            "Train Epoch: 10 [12800/60000 (21%)]\tLoss: -0.899073\n",
            "Train Epoch: 10 [25600/60000 (43%)]\tLoss: -0.904898\n",
            "Train Epoch: 10 [38400/60000 (64%)]\tLoss: -0.943444\n",
            "Train Epoch: 10 [51200/60000 (85%)]\tLoss: -0.910367\n",
            "\n",
            "Test set: Avg. loss: -0.9677, Accuracy: 9690/10000 (97%)\n",
            "\n",
            "Train Epoch: 11 [0/60000 (0%)]\tLoss: -0.949504\n",
            "Train Epoch: 11 [12800/60000 (21%)]\tLoss: -0.959321\n",
            "Train Epoch: 11 [25600/60000 (43%)]\tLoss: -0.947313\n",
            "Train Epoch: 11 [38400/60000 (64%)]\tLoss: -0.886739\n",
            "Train Epoch: 11 [51200/60000 (85%)]\tLoss: -0.936847\n",
            "\n",
            "Test set: Avg. loss: -0.9679, Accuracy: 9689/10000 (97%)\n",
            "\n",
            "Train Epoch: 12 [0/60000 (0%)]\tLoss: -0.880951\n",
            "Train Epoch: 12 [12800/60000 (21%)]\tLoss: -0.944327\n",
            "Train Epoch: 12 [25600/60000 (43%)]\tLoss: -0.959095\n",
            "Train Epoch: 12 [38400/60000 (64%)]\tLoss: -0.917089\n",
            "Train Epoch: 12 [51200/60000 (85%)]\tLoss: -0.917768\n",
            "\n",
            "Test set: Avg. loss: -0.9687, Accuracy: 9691/10000 (97%)\n",
            "\n",
            "Train Epoch: 13 [0/60000 (0%)]\tLoss: -0.967350\n",
            "Train Epoch: 13 [12800/60000 (21%)]\tLoss: -0.935771\n",
            "Train Epoch: 13 [25600/60000 (43%)]\tLoss: -0.915121\n",
            "Train Epoch: 13 [38400/60000 (64%)]\tLoss: -0.941655\n",
            "Train Epoch: 13 [51200/60000 (85%)]\tLoss: -0.911026\n",
            "\n",
            "Test set: Avg. loss: -0.9694, Accuracy: 9701/10000 (97%)\n",
            "\n",
            "Train Epoch: 14 [0/60000 (0%)]\tLoss: -0.952368\n",
            "Train Epoch: 14 [12800/60000 (21%)]\tLoss: -0.967143\n",
            "Train Epoch: 14 [25600/60000 (43%)]\tLoss: -0.958216\n",
            "Train Epoch: 14 [38400/60000 (64%)]\tLoss: -0.906896\n",
            "Train Epoch: 14 [51200/60000 (85%)]\tLoss: -0.898932\n",
            "\n",
            "Test set: Avg. loss: -0.9701, Accuracy: 9713/10000 (97%)\n",
            "\n",
            "Train Epoch: 15 [0/60000 (0%)]\tLoss: -0.946055\n",
            "Train Epoch: 15 [12800/60000 (21%)]\tLoss: -0.958697\n",
            "Train Epoch: 15 [25600/60000 (43%)]\tLoss: -0.912540\n",
            "Train Epoch: 15 [38400/60000 (64%)]\tLoss: -0.902722\n",
            "Train Epoch: 15 [51200/60000 (85%)]\tLoss: -0.980139\n",
            "\n",
            "Test set: Avg. loss: -0.9704, Accuracy: 9717/10000 (97%)\n",
            "\n"
          ],
          "name": "stdout"
        }
      ]
    },
    {
      "cell_type": "code",
      "metadata": {
        "id": "STOIDzijkL-P",
        "colab_type": "code",
        "colab": {}
      },
      "source": [
        "torch.save(network.state_dict(), \"network.pt\")"
      ],
      "execution_count": 14,
      "outputs": []
    },
    {
      "cell_type": "markdown",
      "metadata": {
        "id": "8BJl9lBSfMoJ",
        "colab_type": "text"
      },
      "source": [
        "# Визуализируем, что видит сетка"
      ]
    },
    {
      "cell_type": "code",
      "metadata": {
        "id": "8Db9PKbAfZPp",
        "colab_type": "code",
        "colab": {
          "base_uri": "https://localhost:8080/",
          "height": 136
        },
        "outputId": "3ad2d835-801f-4e1f-d0e5-6b96c764daa0"
      },
      "source": [
        "network.modules"
      ],
      "execution_count": 15,
      "outputs": [
        {
          "output_type": "execute_result",
          "data": {
            "text/plain": [
              "<bound method Module.modules of Net(\n",
              "  (conv1): Conv2d(1, 10, kernel_size=(5, 5), stride=(1, 1))\n",
              "  (conv2): Conv2d(10, 20, kernel_size=(5, 5), stride=(1, 1))\n",
              "  (conv2_drop): Dropout2d(p=0.5, inplace=False)\n",
              "  (fc1): Linear(in_features=320, out_features=50, bias=True)\n",
              "  (fc2): Linear(in_features=50, out_features=10, bias=True)\n",
              ")>"
            ]
          },
          "metadata": {
            "tags": []
          },
          "execution_count": 15
        }
      ]
    },
    {
      "cell_type": "code",
      "metadata": {
        "id": "S3ok-QoKeKUn",
        "colab_type": "code",
        "colab": {
          "resources": {
            "http://localhost:8080/nbextensions/google.colab/files.js": {
              "data": "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",
              "ok": true,
              "headers": [
                [
                  "content-type",
                  "application/javascript"
                ]
              ],
              "status": 200,
              "status_text": ""
            }
          },
          "base_uri": "https://localhost:8080/",
          "height": 109
        },
        "outputId": "a5025055-dd20-4a8d-dae1-845e0da280a3"
      },
      "source": [
        "from google.colab import files\n",
        "files.upload()"
      ],
      "execution_count": 16,
      "outputs": [
        {
          "output_type": "display_data",
          "data": {
            "text/html": [
              "\n",
              "     <input type=\"file\" id=\"files-2133bf30-fe72-405c-bc79-8dcfcd442f25\" name=\"files[]\" multiple disabled\n",
              "        style=\"border:none\" />\n",
              "     <output id=\"result-2133bf30-fe72-405c-bc79-8dcfcd442f25\">\n",
              "      Upload widget is only available when the cell has been executed in the\n",
              "      current browser session. Please rerun this cell to enable.\n",
              "      </output>\n",
              "      <script src=\"/nbextensions/google.colab/files.js\"></script> "
            ],
            "text/plain": [
              "<IPython.core.display.HTML object>"
            ]
          },
          "metadata": {
            "tags": []
          }
        },
        {
          "output_type": "stream",
          "text": [
            "Saving one.png to one.png\n"
          ],
          "name": "stdout"
        },
        {
          "output_type": "execute_result",
          "data": {
            "text/plain": [
              "{'one.png': b\"\\x89PNG\\r\\n\\x1a\\n\\x00\\x00\\x00\\rIHDR\\x00\\x00\\x00d\\x00\\x00\\x00d\\x08\\x02\\x00\\x00\\x00\\xff\\x80\\x02\\x03\\x00\\x00\\x00\\tpHYs\\x00\\x00\\x0b\\x13\\x00\\x00\\x0b\\x13\\x01\\x00\\x9a\\x9c\\x18\\x00\\x00\\x00\\x07tIME\\x07\\xe4\\x05\\x1c\\x05\\x0429^\\xc2\\x0c\\x00\\x00\\x00\\x1diTXtComment\\x00\\x00\\x00\\x00\\x00Created with GIMPd.e\\x07\\x00\\x00\\x01\\xcbIDATx\\xda\\xed\\xdd\\xcbn\\x03!\\x0c\\x85\\xe1b\\xf1\\xfe\\xafL\\x17]&\\x95\\x80a\\xf0\\xb1\\xfd\\xb3\\x8c\\xdaH\\xf3\\xe5\\x98rm\\xda\\x18\\xe3\\x876\\xd7\\x0c\\x02\\xb0\\xc0\\x02\\x0b,\\xb0\\xca\\xb7\\x9e\\xfb\\xf1Zk__\\xdf\\x1b0\\xb5\\xac\\xe3\\xac\\xff\\x98\\x9e\\x90%\\xc4\\x9aa\\xda\\xf3\\xb2\\xcaR\\xab?o\\x95\\xa5V\\x7f\\xcb\\x8aK\\x95\\xeb\\xb3\\x8e0\\xcd8\\x18R%\\xc6Y7\\x99b'\\xeb\\xbeT\\xc8d\\xb90\\xc5\\xc3rd\\x8a\\x84\\xe5\\xce\\x14\\x00K\\xc4H\\x1dK\\x8dI\\x14K\\x93I\\x0eK\\x99Ik\\x9c\\xe5+59\\xe7\\xeb\\x04*F\\x19\\x8a0\\xcd/%t\\xd2$\\xddgII-\\xadPu\\x02%\\x87\\xa5\\xc9\\xb4\\xba\\xf0iH\\xa9$+z\\xdd]\\xc2\\x12g\\xda\\xdby0\\x02\\xe5\\x89\\xa5/\\xb5\\xbd\\xa1eH\\xf9`e\\xad>\\xb9U\\x07\\xfdX\\x9d\\xc4\\xba\\x10+\\xf7\\xcds+\\x12\\x8aH\\xd3\\x1d\\x05\\xa6\\xe7\\xef\\xd3ISx\\xac\\xe3LG\\xde\\xd0\\x08T\\xd4d\\x89\\x1f\\x163\\x91\\xe7\\x1cc\\xe8\\x1f\\xab3\\x02\\xe5\\x83\\xb5\\xf1\\xccK\\x81r\\x9fN\\x99WFB\\xd4\\xdd\\xebe8C\\x10\\xf4\\xd4\\xef+\\x7f\\r\\xff,\\xbeV\\xcd6\\x93\\xc2\\x92\\xc6\\x8bC\\x87|\\x17]J,\\xd1\\x9c\\xfa\\xd8\\xb8o\\x98\\x0eKd\\r\\xd6\\xa8A\\xb0\\xaa&Kg\\x1f\\x84d%\\xc2z\\x18\\xab\\xb3c=\\x92\\x95\\x05Km\\xd7\\x96d\\x81\\xf5\\xce\\xe4\\x94d\\xa5\\xc0\\x12<fb\\xd4 X\\x95\\x92%5\\x16%YY\\xb04cE\\xb2\\xc0\\xaa\\x83%[\\x83$+2\\x96r\\xacH\\x16X\\x15\\xb0\\xf8\\xbf\\x0e\\xb1g\\xce\\xa2X!\\xee\\xfd\\x18\\xb1\\xa2\\x83\\x07\\x0b\\xac(5H\\xb2\\x8aa\\xdd<\\x8cI\\xb2\\xc0\\xca\\x8d\\xb5WM\\x97\\x0fD\\x93\\xac\\x98X\\xab1\\xb9\\x7f\\xce^+YKW\\x7f\\xe8\\xe0\\xa5\\xaf\\xfe\\xe8~\\xd3\\xc0\\xd9\\xab?\\xc9\\xb1\\xe8\\xe0\\xc1\\x02\\x8b\\xf6\\xd9~\\x01\\x93$\\xc3\\xbfa\\x01\\x84f\\x00\\x00\\x00\\x00IEND\\xaeB`\\x82\"}"
            ]
          },
          "metadata": {
            "tags": []
          },
          "execution_count": 16
        }
      ]
    },
    {
      "cell_type": "code",
      "metadata": {
        "id": "OFtp0MN1g7Nk",
        "colab_type": "code",
        "colab": {
          "base_uri": "https://localhost:8080/",
          "height": 282
        },
        "outputId": "8e6e2b15-365a-4ec8-fd07-2082c89eb04d"
      },
      "source": [
        "from tensorflow.python.keras.preprocessing import image\n",
        "image_file_name = 'one.png'\n",
        "img = image.load_img(image_file_name, target_size=(28, 28), color_mode=\"grayscale\")\n",
        "plt.imshow(img)"
      ],
      "execution_count": 19,
      "outputs": [
        {
          "output_type": "execute_result",
          "data": {
            "text/plain": [
              "<matplotlib.image.AxesImage at 0x7fc4e5a41a58>"
            ]
          },
          "metadata": {
            "tags": []
          },
          "execution_count": 19
        },
        {
          "output_type": "display_data",
          "data": {
            "image/png": "[encoded data removed]",
            "text/plain": [
              "<Figure size 432x288 with 1 Axes>"
            ]
          },
          "metadata": {
            "tags": [],
            "needs_background": "light"
          }
        }
      ]
    },
    {
      "cell_type": "markdown",
      "metadata": {
        "id": "frj1mMXehEtM",
        "colab_type": "text"
      },
      "source": [
        "# Запускаем изображение в обрезанную модель"
      ]
    },
    {
      "cell_type": "code",
      "metadata": {
        "id": "LWFTOXWVg7ut",
        "colab_type": "code",
        "colab": {
          "base_uri": "https://localhost:8080/",
          "height": 136
        },
        "outputId": "dd33f38f-befe-4098-ba7c-8f7ed9a3c7a5"
      },
      "source": [
        "network.eval()"
      ],
      "execution_count": 17,
      "outputs": [
        {
          "output_type": "execute_result",
          "data": {
            "text/plain": [
              "Net(\n",
              "  (conv1): Conv2d(1, 10, kernel_size=(5, 5), stride=(1, 1))\n",
              "  (conv2): Conv2d(10, 20, kernel_size=(5, 5), stride=(1, 1))\n",
              "  (conv2_drop): Dropout2d(p=0.5, inplace=False)\n",
              "  (fc1): Linear(in_features=320, out_features=50, bias=True)\n",
              "  (fc2): Linear(in_features=50, out_features=10, bias=True)\n",
              ")"
            ]
          },
          "metadata": {
            "tags": []
          },
          "execution_count": 17
        }
      ]
    },
    {
      "cell_type": "code",
      "metadata": {
        "id": "o2ruM6qLi5Y6",
        "colab_type": "code",
        "colab": {}
      },
      "source": [
        "img_array = image.img_to_array(img)\n",
        "img_array = np.expand_dims(img_array, axis=0)\n",
        "img_array /= 255.\n",
        "img_array = torch.from_numpy(img_array)"
      ],
      "execution_count": 20,
      "outputs": []
    },
    {
      "cell_type": "code",
      "metadata": {
        "id": "mTh97x5rjAFX",
        "colab_type": "code",
        "colab": {
          "base_uri": "https://localhost:8080/",
          "height": 34
        },
        "outputId": "739c036b-ba82-44d1-cf6d-6bf95e1b4996"
      },
      "source": [
        "img_array = img_array.reshape(-1, 1, 28, 28)\n",
        "img_array.shape\n"
      ],
      "execution_count": 21,
      "outputs": [
        {
          "output_type": "execute_result",
          "data": {
            "text/plain": [
              "torch.Size([1, 1, 28, 28])"
            ]
          },
          "metadata": {
            "tags": []
          },
          "execution_count": 21
        }
      ]
    },
    {
      "cell_type": "code",
      "metadata": {
        "id": "4EYxVNv5jLhA",
        "colab_type": "code",
        "colab": {
          "base_uri": "https://localhost:8080/",
          "height": 316
        },
        "outputId": "3af796bb-d93c-450d-8132-7ca1d93fbd8e"
      },
      "source": [
        "activation = network.conv1(img_array)\n",
        "activation = activation.detach().numpy()\n",
        "activation = activation.reshape(-1, 24, 24)\n",
        "print(activation.shape)\n",
        "print(len(activation)/10)\n",
        "plt.imshow(activation[0]/2+.5)\n"
      ],
      "execution_count": 22,
      "outputs": [
        {
          "output_type": "stream",
          "text": [
            "(10, 24, 24)\n",
            "1.0\n"
          ],
          "name": "stdout"
        },
        {
          "output_type": "execute_result",
          "data": {
            "text/plain": [
              "<matplotlib.image.AxesImage at 0x7fc4e59c4710>"
            ]
          },
          "metadata": {
            "tags": []
          },
          "execution_count": 22
        },
        {
          "output_type": "display_data",
          "data": {
            "image/png": "[encoded data removed]",
            "text/plain": [
              "<Figure size 432x288 with 1 Axes>"
            ]
          },
          "metadata": {
            "tags": [],
            "needs_background": "light"
          }
        }
      ]
    },
    {
      "cell_type": "code",
      "metadata": {
        "id": "31_yEuTykXPu",
        "colab_type": "code",
        "colab": {
          "base_uri": "https://localhost:8080/",
          "height": 197
        },
        "outputId": "52b89736-8138-45f5-e90d-08be3088eae4"
      },
      "source": [
        "f = plt.figure(figsize=(12, 4))\n",
        "f.suptitle('conv1 layer')\n",
        "for i in range(10):\n",
        "    f.add_subplot(np.ceil(len(activation)/10), 10, i+1)\n",
        "    plt.imshow(activation[i]/2+.5)\n",
        "    plt.axis('off')\n",
        "    plt.title('filter # %d' % i)"
      ],
      "execution_count": 23,
      "outputs": [
        {
          "output_type": "display_data",
          "data": {
            "image/png": "[encoded data removed]",
            "text/plain": [
              "<Figure size 864x288 with 10 Axes>"
            ]
          },
          "metadata": {
            "tags": [],
            "needs_background": "light"
          }
        }
      ]
    },
    {
      "cell_type": "code",
      "metadata": {
        "id": "AKGzIPTnkznB",
        "colab_type": "code",
        "colab": {
          "base_uri": "https://localhost:8080/",
          "height": 256
        },
        "outputId": "6fad2f8a-c5b6-4f61-e8cc-741f4a32873d"
      },
      "source": [
        "activation = network.conv2(network.conv1(img_array))\n",
        "activation = activation.detach().numpy()\n",
        "activation = activation.reshape(-1, 20, 20)\n",
        "f = plt.figure(figsize=(12, 4))\n",
        "f.suptitle('conv1 layer')\n",
        "for i in range(20):\n",
        "    f.add_subplot(np.ceil(len(activation)/10), 10, i+1)\n",
        "    plt.imshow(activation[i]/2+.5)\n",
        "    plt.axis('off')\n",
        "    plt.title('filter # %d' % i)\n"
      ],
      "execution_count": 24,
      "outputs": [
        {
          "output_type": "display_data",
          "data": {
            "image/png": "[encoded data removed]",
            "text/plain": [
              "<Figure size 864x288 with 20 Axes>"
            ]
          },
          "metadata": {
            "tags": [],
            "needs_background": "light"
          }
        }
      ]
    },
    {
      "cell_type": "code",
      "metadata": {
        "id": "uIV_ZUVHpxgl",
        "colab_type": "code",
        "colab": {}
      },
      "source": [
        "device = torch.device(\"cuda:0\" if torch.cuda.is_available() else \"cpu\")"
      ],
      "execution_count": 25,
      "outputs": []
    },
    {
      "cell_type": "markdown",
      "metadata": {
        "id": "e_iuWQBtpn9i",
        "colab_type": "text"
      },
      "source": [
        "# Создаем обучаемый тензор со случайными числами и с размерностью картинки 1 на 28 на 28"
      ]
    },
    {
      "cell_type": "code",
      "metadata": {
        "id": "Dx6SZL3Zos7T",
        "colab_type": "code",
        "colab": {}
      },
      "source": [
        "image = torch.randn((1,28,28))*0.001\n",
        "image = image.to(device)\n",
        "image.requires_grad = True"
      ],
      "execution_count": 26,
      "outputs": []
    },
    {
      "cell_type": "code",
      "metadata": {
        "id": "KZxuuiE_qxHz",
        "colab_type": "code",
        "colab": {
          "base_uri": "https://localhost:8080/",
          "height": 163
        },
        "outputId": "d9d9fbcb-4109-49f6-cec2-fd31622421ba"
      },
      "source": [
        "plt.imshow(image.detach().numpy().reshape(28, 28))"
      ],
      "execution_count": 27,
      "outputs": [
        {
          "output_type": "error",
          "ename": "TypeError",
          "evalue": "ignored",
          "traceback": [
            "\u001b[0;31m---------------------------------------------------------------------------\u001b[0m",
            "\u001b[0;31mTypeError\u001b[0m                                 Traceback (most recent call last)",
            "\u001b[0;32m<ipython-input-27-55800572dcae>\u001b[0m in \u001b[0;36m<module>\u001b[0;34m()\u001b[0m\n\u001b[0;32m----> 1\u001b[0;31m \u001b[0mplt\u001b[0m\u001b[0;34m.\u001b[0m\u001b[0mimshow\u001b[0m\u001b[0;34m(\u001b[0m\u001b[0mimage\u001b[0m\u001b[0;34m.\u001b[0m\u001b[0mdetach\u001b[0m\u001b[0;34m(\u001b[0m\u001b[0;34m)\u001b[0m\u001b[0;34m.\u001b[0m\u001b[0mnumpy\u001b[0m\u001b[0;34m(\u001b[0m\u001b[0;34m)\u001b[0m\u001b[0;34m.\u001b[0m\u001b[0mreshape\u001b[0m\u001b[0;34m(\u001b[0m\u001b[0;36m28\u001b[0m\u001b[0;34m,\u001b[0m \u001b[0;36m28\u001b[0m\u001b[0;34m)\u001b[0m\u001b[0;34m)\u001b[0m\u001b[0;34m\u001b[0m\u001b[0;34m\u001b[0m\u001b[0m\n\u001b[0m",
            "\u001b[0;31mTypeError\u001b[0m: can't convert cuda:0 device type tensor to numpy. Use Tensor.cpu() to copy the tensor to host memory first."
          ]
        }
      ]
    },
    {
      "cell_type": "code",
      "metadata": {
        "id": "P7iP_cPEqcPB",
        "colab_type": "code",
        "colab": {
          "base_uri": "https://localhost:8080/",
          "height": 119
        },
        "outputId": "ccb2cd7a-0aee-4b2b-fa37-12c8f511f548"
      },
      "source": [
        "# быстрая проверка что сейчас выдаёт модель на картинку\n",
        "model.to(device)\n",
        "image.to(device)\n",
        "\n",
        "output = network(image.unsqueeze(0))\n",
        "print(output)\n",
        "print(torch.argmax(output))\n",
        "target = get_target(4)\n",
        "print((target-output)*(target-output).sum())\n",
        "r = (target-output)*(target-output).sum()\n",
        "torch.sum(r)"
      ],
      "execution_count": 109,
      "outputs": [
        {
          "output_type": "stream",
          "text": [
            "tensor([[-2.2880, -1.9464, -2.3487, -2.4380, -2.3279, -2.4815, -2.4258, -2.3876,\n",
            "         -2.2017, -2.2933]], grad_fn=<LogSoftmaxBackward>)\n",
            "tensor(1, grad_fn=<NotImplemented>)\n",
            "tensor([[55.2310, 71.1224, 56.6948, 58.8507, 56.1941, 59.9007, 58.5569, 57.6352,\n",
            "         53.1478, 55.3573]], grad_fn=<MulBackward0>)\n"
          ],
          "name": "stdout"
        },
        {
          "output_type": "execute_result",
          "data": {
            "text/plain": [
              "tensor(582.6909, grad_fn=<SumBackward0>)"
            ]
          },
          "metadata": {
            "tags": []
          },
          "execution_count": 109
        }
      ]
    },
    {
      "cell_type": "code",
      "metadata": {
        "id": "diH0zIsmHRG0",
        "colab_type": "code",
        "colab": {
          "base_uri": "https://localhost:8080/",
          "height": 34
        },
        "outputId": "08fb34dc-5f54-42aa-b3e8-589cdee4f898"
      },
      "source": [
        "torch.sum(target-output)"
      ],
      "execution_count": 111,
      "outputs": [
        {
          "output_type": "execute_result",
          "data": {
            "text/plain": [
              "tensor(24.1390, grad_fn=<SumBackward0>)"
            ]
          },
          "metadata": {
            "tags": []
          },
          "execution_count": 111
        }
      ]
    },
    {
      "cell_type": "markdown",
      "metadata": {
        "id": "ua8uAOUOruvA",
        "colab_type": "text"
      },
      "source": [
        "# Функция оптимизации"
      ]
    },
    {
      "cell_type": "code",
      "metadata": {
        "id": "uHyWtDDz0tDo",
        "colab_type": "code",
        "colab": {}
      },
      "source": [
        "def get_target(class_number):\n",
        "  target = [0] * 10\n",
        "  target[class_number] = 1\n",
        "  target = np.array(target)\n",
        "  target = target.reshape(1, 10)\n",
        "  target = torch.Tensor(target)\n",
        "  return target"
      ],
      "execution_count": 39,
      "outputs": []
    },
    {
      "cell_type": "code",
      "metadata": {
        "id": "oRh4fW-ars42",
        "colab_type": "code",
        "colab": {}
      },
      "source": [
        "def optimize_image_by_class(class_number, num_steps=50000):   \n",
        "    image = torch.randn((1,28,28))*0.001\n",
        "    # image = image.to(device)\n",
        "    image.requires_grad = True\n",
        "\n",
        "    plt.imshow(image.detach().numpy().reshape(28, 28))\n",
        "\n",
        "    optimizer = torch.optim.Adam([image], lr=1e-4)\n",
        "    target = get_target(class_number)\n",
        "    \n",
        "    grads = []\n",
        "    losses = []\n",
        "    ax = []\n",
        "    j = 0\n",
        "    for i in range(num_steps):\n",
        "      optimizer.zero_grad()\n",
        "      output = network(image.unsqueeze(0))\n",
        "      loss = torch.sum((output - target_ohe)**2)\n",
        "      loss.backward()\n",
        "      optimizer.step()\n",
        "      losses.append(loss)\n",
        "      grads.append(image.grad)\n",
        "      if i % 100 == 0:\n",
        "        print(\"iter {} loss {}\".format(i, loss))\n",
        "        plt.title(\"looking for {}\".format(torch.argmax(target_ohe[0])))\n",
        "\n",
        "        ax.append(fig.add_subplot(num_steps / 100 / 10, 10, j + 1))\n",
        "        ax[j].set(title = '{}'.format(j), xticks=[], yticks=[])\n",
        "        j += 1\n",
        "        plt.imshow(image.detach().numpy().reshape(28, 28))\n",
        "    return image, losses, grads"
      ],
      "execution_count": 115,
      "outputs": []
    },
    {
      "cell_type": "markdown",
      "metadata": {
        "id": "0LhBgXXiwX6O",
        "colab_type": "text"
      },
      "source": [
        "Мы хотим, чтобы сетка нарисовала 9.\n",
        "Для функции потерь делаем  one-hot-encoding вектор."
      ]
    },
    {
      "cell_type": "code",
      "metadata": {
        "id": "XragnOeDKIng",
        "colab_type": "code",
        "colab": {
          "base_uri": "https://localhost:8080/",
          "height": 34
        },
        "outputId": "190e7204-8e2c-4ac0-bfe4-f7ca4904a244"
      },
      "source": [
        "target_number = 9\n",
        "target_ohe = get_target(target_number)\n",
        "torch.argmax(target_ohe[0])"
      ],
      "execution_count": 116,
      "outputs": [
        {
          "output_type": "execute_result",
          "data": {
            "text/plain": [
              "tensor(9)"
            ]
          },
          "metadata": {
            "tags": []
          },
          "execution_count": 116
        }
      ]
    },
    {
      "cell_type": "markdown",
      "metadata": {
        "id": "_NYrWQ72wno6",
        "colab_type": "text"
      },
      "source": [
        "запускаем функцию оптимизации изображения"
      ]
    },
    {
      "cell_type": "code",
      "metadata": {
        "id": "qNn7-shDzZ3m",
        "colab_type": "code",
        "colab": {
          "base_uri": "https://localhost:8080/",
          "height": 1000
        },
        "outputId": "1df1c8aa-e21f-45e6-cd06-ea05d015740e"
      },
      "source": [
        "img, l, g = optimize_image_by_class(target_number, 100000)"
      ],
      "execution_count": 117,
      "outputs": [
        {
          "output_type": "stream",
          "text": [
            "iter 0 loss 0.8888038396835327\n",
            "iter 100 loss 0.7641567587852478\n",
            "iter 200 loss 0.6297065615653992\n",
            "iter 300 loss 0.4815177321434021\n",
            "iter 400 loss 0.3551411032676697\n",
            "iter 500 loss 0.24412348866462708\n",
            "iter 600 loss 0.1592075228691101\n",
            "iter 700 loss 0.11030548810958862\n",
            "iter 800 loss 0.07920929789543152\n",
            "iter 900 loss 0.05888398736715317\n",
            "iter 1000 loss 0.04599028080701828\n",
            "iter 1100 loss 0.03633679077029228\n",
            "iter 1200 loss 0.029316600412130356\n",
            "iter 1300 loss 0.023885421454906464\n",
            "iter 1400 loss 0.0199908297508955\n",
            "iter 1500 loss 0.01708805561065674\n",
            "iter 1600 loss 0.014805542305111885\n",
            "iter 1700 loss 0.012927168980240822\n",
            "iter 1800 loss 0.011342458426952362\n",
            "iter 1900 loss 0.010028517805039883\n",
            "iter 2000 loss 0.008916197344660759\n",
            "iter 2100 loss 0.007967717945575714\n",
            "iter 2200 loss 0.007158349268138409\n",
            "iter 2300 loss 0.006459522061049938\n",
            "iter 2400 loss 0.005857204087078571\n",
            "iter 2500 loss 0.005327954422682524\n",
            "iter 2600 loss 0.004865907598286867\n",
            "iter 2700 loss 0.004458277486264706\n",
            "iter 2800 loss 0.00408141128718853\n",
            "iter 2900 loss 0.0037431903183460236\n",
            "iter 3000 loss 0.0034469047095626593\n",
            "iter 3100 loss 0.0031795832328498363\n",
            "iter 3200 loss 0.0029386216774582863\n",
            "iter 3300 loss 0.0027216444723308086\n",
            "iter 3400 loss 0.0025265575386583805\n",
            "iter 3500 loss 0.00235084374435246\n",
            "iter 3600 loss 0.002188747748732567\n",
            "iter 3700 loss 0.0020400320645421743\n",
            "iter 3800 loss 0.0019058878533542156\n",
            "iter 3900 loss 0.0017830315046012402\n",
            "iter 4000 loss 0.0016700397245585918\n",
            "iter 4100 loss 0.0015657807234674692\n",
            "iter 4200 loss 0.0014693797565996647\n",
            "iter 4300 loss 0.0013802630128338933\n",
            "iter 4400 loss 0.001297532464377582\n",
            "iter 4500 loss 0.001220600213855505\n",
            "iter 4600 loss 0.001148850191384554\n",
            "iter 4700 loss 0.001081961439922452\n",
            "iter 4800 loss 0.0010195899521932006\n",
            "iter 4900 loss 0.0009612903231754899\n",
            "iter 5000 loss 0.0009066583588719368\n",
            "iter 5100 loss 0.0008548879413865507\n",
            "iter 5200 loss 0.0008065035799518228\n",
            "iter 5300 loss 0.0007611651089973748\n",
            "iter 5400 loss 0.0007184458081610501\n",
            "iter 5500 loss 0.0006781269912607968\n",
            "iter 5600 loss 0.0006402888102456927\n",
            "iter 5700 loss 0.0006046302733011544\n",
            "iter 5800 loss 0.0005711928242817521\n",
            "iter 5900 loss 0.0005398162757046521\n",
            "iter 6000 loss 0.000510390498675406\n",
            "iter 6100 loss 0.00048272593994624913\n",
            "iter 6200 loss 0.0004569790617097169\n",
            "iter 6300 loss 0.0004328280920162797\n",
            "iter 6400 loss 0.0004101063823327422\n",
            "iter 6500 loss 0.00038875258178450167\n",
            "iter 6600 loss 0.00036855548387393355\n",
            "iter 6700 loss 0.0003494829579722136\n",
            "iter 6800 loss 0.00033146439818665385\n",
            "iter 6900 loss 0.0003144295187667012\n",
            "iter 7000 loss 0.00029830943094566464\n",
            "iter 7100 loss 0.00028302380815148354\n",
            "iter 7200 loss 0.0002685299259610474\n",
            "iter 7300 loss 0.0002548206248320639\n",
            "iter 7400 loss 0.0002418382209725678\n",
            "iter 7500 loss 0.00022937111498322338\n",
            "iter 7600 loss 0.00021760659001301974\n",
            "iter 7700 loss 0.00020648173813242465\n",
            "iter 7800 loss 0.0001960068184416741\n",
            "iter 7900 loss 0.00018613184511195868\n",
            "iter 8000 loss 0.00017679244047030807\n",
            "iter 8100 loss 0.00016793599934317172\n",
            "iter 8200 loss 0.00015953776892274618\n",
            "iter 8300 loss 0.00015157743473537266\n",
            "iter 8400 loss 0.0001440272608306259\n",
            "iter 8500 loss 0.00013685962767340243\n",
            "iter 8600 loss 0.00013005518121644855\n",
            "iter 8700 loss 0.0001235970266861841\n",
            "iter 8800 loss 0.00011747080134227872\n",
            "iter 8900 loss 0.00011166829790454358\n",
            "iter 9000 loss 0.00010616004874464124\n",
            "iter 9100 loss 0.00010092921002069488\n",
            "iter 9200 loss 9.596707241144031e-05\n",
            "iter 9300 loss 9.12105169845745e-05\n",
            "iter 9400 loss 8.66940026753582e-05\n",
            "iter 9500 loss 8.24073504190892e-05\n",
            "iter 9600 loss 7.834917050786316e-05\n",
            "iter 9700 loss 7.44966819183901e-05\n",
            "iter 9800 loss 7.082486990839243e-05\n",
            "iter 9900 loss 6.736106297466904e-05\n",
            "iter 10000 loss 6.406985630746931e-05\n",
            "iter 10100 loss 6.094101263443008e-05\n",
            "iter 10200 loss 5.7965000451076776e-05\n",
            "iter 10300 loss 5.513974610948935e-05\n",
            "iter 10400 loss 5.246450018603355e-05\n",
            "iter 10500 loss 4.9927286454476416e-05\n",
            "iter 10600 loss 4.7507357521681115e-05\n",
            "iter 10700 loss 4.520802031038329e-05\n",
            "iter 10800 loss 4.301778972148895e-05\n",
            "iter 10900 loss 4.0934985008789226e-05\n",
            "iter 11000 loss 3.895458939950913e-05\n",
            "iter 11100 loss 3.707252471940592e-05\n",
            "iter 11200 loss 3.527968510752544e-05\n",
            "iter 11300 loss 3.3576099667698145e-05\n",
            "iter 11400 loss 3.195378667442128e-05\n",
            "iter 11500 loss 3.0416855224757455e-05\n",
            "iter 11600 loss 2.895221405196935e-05\n",
            "iter 11700 loss 2.7555604901863262e-05\n",
            "iter 11800 loss 2.6225741748930886e-05\n",
            "iter 11900 loss 2.4956654669949785e-05\n",
            "iter 12000 loss 2.3735450668027624e-05\n",
            "iter 12100 loss 2.2575479306397028e-05\n",
            "iter 12200 loss 2.1470994397532195e-05\n",
            "iter 12300 loss 2.0422827219590545e-05\n",
            "iter 12400 loss 1.943033203133382e-05\n",
            "iter 12500 loss 1.8484457541489974e-05\n",
            "iter 12600 loss 1.7578631741343997e-05\n",
            "iter 12700 loss 1.6717334801796824e-05\n",
            "iter 12800 loss 1.589801649970468e-05\n",
            "iter 12900 loss 1.5125471691135317e-05\n",
            "iter 13000 loss 1.4392147022590507e-05\n",
            "iter 13100 loss 1.3683003999176435e-05\n",
            "iter 13200 loss 1.3003413187107071e-05\n",
            "iter 13300 loss 1.2363246241875459e-05\n",
            "iter 13400 loss 1.1753591024898924e-05\n",
            "iter 13500 loss 1.1175035979249515e-05\n",
            "iter 13600 loss 1.0625511094985995e-05\n",
            "iter 13700 loss 1.0106718946190085e-05\n",
            "iter 13800 loss 9.616378520149738e-06\n",
            "iter 13900 loss 9.150530786428135e-06\n",
            "iter 14000 loss 8.707708730071317e-06\n",
            "iter 14100 loss 8.287609489343595e-06\n",
            "iter 14200 loss 7.885456398071256e-06\n",
            "iter 14300 loss 7.500868377974257e-06\n",
            "iter 14400 loss 7.133665349101648e-06\n",
            "iter 14500 loss 6.785048299207119e-06\n",
            "iter 14600 loss 6.45202590021654e-06\n",
            "iter 14700 loss 6.137512627901742e-06\n",
            "iter 14800 loss 5.837974640598986e-06\n",
            "iter 14900 loss 5.554325980483554e-06\n",
            "iter 15000 loss 5.282799975248054e-06\n",
            "iter 15100 loss 5.024940946896095e-06\n",
            "iter 15200 loss 4.7789599193492904e-06\n",
            "iter 15300 loss 4.544961939245695e-06\n",
            "iter 15400 loss 4.321885171520989e-06\n",
            "iter 15500 loss 4.110539521207102e-06\n",
            "iter 15600 loss 3.909275164915016e-06\n",
            "iter 15700 loss 3.718068910529837e-06\n",
            "iter 15800 loss 3.5364851100894157e-06\n",
            "iter 15900 loss 3.3636074476817157e-06\n",
            "iter 16000 loss 3.1990821298677474e-06\n",
            "iter 16100 loss 3.0433866413659416e-06\n",
            "iter 16200 loss 2.8950066734978464e-06\n",
            "iter 16300 loss 2.754565230134176e-06\n",
            "iter 16400 loss 2.6220436666335445e-06\n",
            "iter 16500 loss 2.495085482223658e-06\n",
            "iter 16600 loss 2.3744182726659346e-06\n",
            "iter 16700 loss 2.2595652353629703e-06\n",
            "iter 16800 loss 2.149689180441783e-06\n",
            "iter 16900 loss 2.045339442702243e-06\n",
            "iter 17000 loss 1.9465869627310894e-06\n",
            "iter 17100 loss 1.852342506936111e-06\n",
            "iter 17200 loss 1.7625918644625926e-06\n",
            "iter 17300 loss 1.6769879493949702e-06\n",
            "iter 17400 loss 1.5958344192767981e-06\n",
            "iter 17500 loss 1.5190651083685225e-06\n",
            "iter 17600 loss 1.445200950911385e-06\n",
            "iter 17700 loss 1.374120529362699e-06\n",
            "iter 17800 loss 1.3071784223939176e-06\n",
            "iter 17900 loss 1.2434913969627814e-06\n",
            "iter 18000 loss 1.1829316690636915e-06\n",
            "iter 18100 loss 1.12503607851977e-06\n",
            "iter 18200 loss 1.0699125141400145e-06\n",
            "iter 18300 loss 1.0179910532315262e-06\n",
            "iter 18400 loss 9.684174528956646e-07\n",
            "iter 18500 loss 9.217048955179052e-07\n",
            "iter 18600 loss 8.76926776527398e-07\n",
            "iter 18700 loss 8.343859008164145e-07\n",
            "iter 18800 loss 7.940026307551307e-07\n",
            "iter 18900 loss 7.555071306342143e-07\n",
            "iter 19000 loss 7.191648592197453e-07\n",
            "iter 19100 loss 6.843749815743649e-07\n",
            "iter 19200 loss 6.512469781227992e-07\n",
            "iter 19300 loss 6.200331199579523e-07\n",
            "iter 19400 loss 5.900252517676563e-07\n",
            "iter 19500 loss 5.617210376840376e-07\n",
            "iter 19600 loss 5.34686023456743e-07\n",
            "iter 19700 loss 5.091483785690798e-07\n",
            "iter 19800 loss 4.846802426072827e-07\n",
            "iter 19900 loss 4.6124782215883897e-07\n",
            "iter 20000 loss 4.392932737573574e-07\n",
            "iter 20100 loss 4.1820757701316325e-07\n",
            "iter 20200 loss 3.9803785512049217e-07\n",
            "iter 20300 loss 3.788801734572189e-07\n",
            "iter 20400 loss 3.609871157550515e-07\n",
            "iter 20500 loss 3.438374562847457e-07\n",
            "iter 20600 loss 3.2744787858973723e-07\n",
            "iter 20700 loss 3.1189989613267244e-07\n",
            "iter 20800 loss 2.969369745642325e-07\n",
            "iter 20900 loss 2.8302753207753995e-07\n",
            "iter 21000 loss 2.693898579764209e-07\n",
            "iter 21100 loss 2.565873842286237e-07\n",
            "iter 21200 loss 2.444772349008417e-07\n",
            "iter 21300 loss 2.3273894100839243e-07\n",
            "iter 21400 loss 2.2184067915986816e-07\n",
            "iter 21500 loss 2.1127650029484357e-07\n",
            "iter 21600 loss 2.0117558108267986e-07\n",
            "iter 21700 loss 1.9169550569131388e-07\n",
            "iter 21800 loss 1.8259220269101206e-07\n",
            "iter 21900 loss 1.739438175718533e-07\n",
            "iter 22000 loss 1.6581363126988435e-07\n",
            "iter 22100 loss 1.5801235520029877e-07\n",
            "iter 22200 loss 1.5045031886984361e-07\n",
            "iter 22300 loss 1.434298440017301e-07\n",
            "iter 22400 loss 1.3662119613400137e-07\n",
            "iter 22500 loss 1.3016591537962086e-07\n",
            "iter 22600 loss 1.2408654015416687e-07\n",
            "iter 22700 loss 1.1836547741950199e-07\n",
            "iter 22800 loss 1.12682741360004e-07\n",
            "iter 22900 loss 1.0744014389274525e-07\n",
            "iter 23000 loss 1.0235768144184476e-07\n",
            "iter 23100 loss 9.749565776928648e-08\n",
            "iter 23200 loss 9.297038161548699e-08\n",
            "iter 23300 loss 8.864294898103253e-08\n",
            "iter 23400 loss 8.450690813788242e-08\n",
            "iter 23500 loss 8.055548761376485e-08\n",
            "iter 23600 loss 7.689282455203283e-08\n",
            "iter 23700 loss 7.328564066710896e-08\n",
            "iter 23800 loss 6.983787415038023e-08\n",
            "iter 23900 loss 6.665088392310281e-08\n",
            "iter 24000 loss 6.350904868668295e-08\n",
            "iter 24100 loss 6.056281165456312e-08\n",
            "iter 24200 loss 5.775499545279672e-08\n",
            "iter 24300 loss 5.498637278833485e-08\n",
            "iter 24400 loss 5.253491153212053e-08\n",
            "iter 24500 loss 5.0068315715634526e-08\n",
            "iter 24600 loss 4.776548934160019e-08\n",
            "iter 24700 loss 4.5575252016760714e-08\n",
            "iter 24800 loss 4.349366378164632e-08\n",
            "iter 24900 loss 4.15355891902891e-08\n",
            "iter 25000 loss 3.9655088102108493e-08\n",
            "iter 25100 loss 3.783120661182693e-08\n",
            "iter 25200 loss 3.610042043078465e-08\n",
            "iter 25300 loss 3.442148965859815e-08\n",
            "iter 25400 loss 3.286616490072447e-08\n",
            "iter 25500 loss 3.1358226237898634e-08\n",
            "iter 25600 loss 2.9930831146884884e-08\n",
            "iter 25700 loss 2.858060810240204e-08\n",
            "iter 25800 loss 2.7271259028793793e-08\n",
            "iter 25900 loss 2.603410997892297e-08\n",
            "iter 26000 loss 2.486599193218808e-08\n",
            "iter 26100 loss 2.3702298790340137e-08\n",
            "iter 26200 loss 2.2665124888021637e-08\n",
            "iter 26300 loss 2.1629199764561235e-08\n",
            "iter 26400 loss 2.065350379609754e-08\n",
            "iter 26500 loss 1.9763485070711795e-08\n",
            "iter 26600 loss 1.8899612541645183e-08\n",
            "iter 26700 loss 1.8061349749132205e-08\n",
            "iter 26800 loss 1.7300688881505266e-08\n",
            "iter 26900 loss 1.6562182736379327e-08\n",
            "iter 27000 loss 1.5845099454736555e-08\n",
            "iter 27100 loss 1.5124598462534777e-08\n",
            "iter 27200 loss 1.4474309750767134e-08\n",
            "iter 27300 loss 1.3842912593986512e-08\n",
            "iter 27400 loss 1.3275297305881395e-08\n",
            "iter 27500 loss 1.2656030889957037e-08\n",
            "iter 27600 loss 1.2143610561565765e-08\n",
            "iter 27700 loss 1.1624368134732777e-08\n",
            "iter 27800 loss 1.1141481515153373e-08\n",
            "iter 27900 loss 1.069318678048603e-08\n",
            "iter 28000 loss 1.0237515724043078e-08\n",
            "iter 28100 loss 9.83470194171332e-09\n",
            "iter 28200 loss 9.423786195839057e-09\n",
            "iter 28300 loss 9.024662794843152e-09\n",
            "iter 28400 loss 8.674156504184793e-09\n",
            "iter 28500 loss 8.333412182537359e-09\n",
            "iter 28600 loss 7.98435628723837e-09\n",
            "iter 28700 loss 7.662749546000214e-09\n",
            "iter 28800 loss 7.382740641048713e-09\n",
            "iter 28900 loss 7.076788932636191e-09\n",
            "iter 29000 loss 6.795983331642219e-09\n",
            "iter 29100 loss 6.5230940649030345e-09\n",
            "iter 29200 loss 6.28947827152615e-09\n",
            "iter 29300 loss 6.062132573703138e-09\n",
            "iter 29400 loss 5.825679494364522e-09\n",
            "iter 29500 loss 5.610590214644162e-09\n",
            "iter 29600 loss 5.401320279929678e-09\n",
            "iter 29700 loss 5.18338261201734e-09\n",
            "iter 29800 loss 5.013696124933631e-09\n",
            "iter 29900 loss 4.834605604742137e-09\n",
            "iter 30000 loss 4.66020377842824e-09\n",
            "iter 30100 loss 4.490269045476225e-09\n",
            "iter 30200 loss 4.3377959002555144e-09\n",
            "iter 30300 loss 4.189348423722095e-09\n",
            "iter 30400 loss 4.044628632016156e-09\n",
            "iter 30500 loss 3.903644962832686e-09\n",
            "iter 30600 loss 3.778460211378842e-09\n",
            "iter 30700 loss 3.6444309792216245e-09\n",
            "iter 30800 loss 3.537284909427285e-09\n",
            "iter 30900 loss 3.409573956503209e-09\n",
            "iter 31000 loss 3.3192786297320254e-09\n",
            "iter 31100 loss 3.197412556943391e-09\n",
            "iter 31200 loss 3.111720658921513e-09\n",
            "iter 31300 loss 3.0170830278564154e-09\n",
            "iter 31400 loss 2.924695596817628e-09\n",
            "iter 31500 loss 2.834443124655195e-09\n",
            "iter 31600 loss 2.7359816634486833e-09\n",
            "iter 31700 loss 2.6604005665120667e-09\n",
            "iter 31800 loss 2.5865503072708407e-09\n",
            "iter 31900 loss 2.524217279642471e-09\n",
            "iter 32000 loss 2.4436668244476323e-09\n",
            "iter 32100 loss 2.384241692965361e-09\n",
            "iter 32200 loss 2.3164963280919437e-09\n",
            "iter 32300 loss 2.250253761104659e-09\n",
            "iter 32400 loss 2.185487346650916e-09\n",
            "iter 32500 loss 2.14035300594162e-09\n",
            "iter 32600 loss 2.0690533730771676e-09\n",
            "iter 32700 loss 2.017178424296162e-09\n",
            "iter 32800 loss 1.9751023039304982e-09\n",
            "iter 32900 loss 1.925139825331712e-09\n",
            "iter 33000 loss 1.867665577748312e-09\n",
            "iter 33100 loss 1.828296847250499e-09\n",
            "iter 33200 loss 1.781325309480053e-09\n",
            "iter 33300 loss 1.7435004551202837e-09\n",
            "iter 33400 loss 1.6982634187812096e-09\n",
            "iter 33500 loss 1.6459622553810505e-09\n",
            "iter 33600 loss 1.6105856648351846e-09\n",
            "iter 33700 loss 1.5836741917851782e-09\n",
            "iter 33800 loss 1.5417394028105491e-09\n",
            "iter 33900 loss 1.5082954885059507e-09\n",
            "iter 34000 loss 1.475442212850453e-09\n",
            "iter 34100 loss 1.4507011147912863e-09\n",
            "iter 34200 loss 1.4189458497071428e-09\n",
            "iter 34300 loss 1.3877432536446577e-09\n",
            "iter 34400 loss 1.3571239687593106e-09\n",
            "iter 34500 loss 1.3270509136020792e-09\n",
            "iter 34600 loss 1.3046010938211339e-09\n",
            "iter 34700 loss 1.2825444040132084e-09\n",
            "iter 34800 loss 1.253864345684974e-09\n",
            "iter 34900 loss 1.2325688247827316e-09\n",
            "iter 35000 loss 1.2048243513973489e-09\n",
            "iter 35100 loss 1.1843070968353686e-09\n",
            "iter 35200 loss 1.1640979291627218e-09\n",
            "iter 35300 loss 1.1508800579207445e-09\n",
            "iter 35400 loss 1.11807652025675e-09\n",
            "iter 35500 loss 1.0988712162429692e-09\n",
            "iter 35600 loss 1.0864307231628345e-09\n",
            "iter 35700 loss 1.0613319112451336e-09\n",
            "iter 35800 loss 1.0493417246237868e-09\n",
            "iter 35900 loss 1.0312112275201457e-09\n",
            "iter 36000 loss 1.0133416328272915e-09\n",
            "iter 36100 loss 9.957391577941621e-10\n",
            "iter 36200 loss 9.78387815209203e-10\n",
            "iter 36300 loss 9.613191354063133e-10\n",
            "iter 36400 loss 9.505221054695312e-10\n",
            "iter 36500 loss 9.338805284642149e-10\n",
            "iter 36600 loss 9.174754289631437e-10\n",
            "iter 36700 loss 9.013190749307398e-10\n",
            "iter 36800 loss 8.970928999652017e-10\n",
            "iter 36900 loss 8.812667262603213e-10\n",
            "iter 37000 loss 8.714453603175798e-10\n",
            "iter 37100 loss 8.559925546158809e-10\n",
            "iter 37200 loss 8.46449799141169e-10\n",
            "iter 37300 loss 8.257177164239238e-10\n",
            "iter 37400 loss 8.165016440742079e-10\n",
            "iter 37500 loss 8.129773521048378e-10\n",
            "iter 37600 loss 7.98400234813812e-10\n",
            "iter 37700 loss 7.840220694887989e-10\n",
            "iter 37800 loss 7.698417459067741e-10\n",
            "iter 37900 loss 7.612483421404193e-10\n",
            "iter 38000 loss 7.58139051537654e-10\n",
            "iter 38100 loss 7.443505811721707e-10\n",
            "iter 38200 loss 7.360589915350602e-10\n",
            "iter 38300 loss 7.331534268573137e-10\n",
            "iter 38400 loss 7.197433204986226e-10\n",
            "iter 38500 loss 7.11732561775591e-10\n",
            "iter 38600 loss 7.03801406043425e-10\n",
            "iter 38700 loss 6.908052463394654e-10\n",
            "iter 38800 loss 6.831001875262643e-10\n",
            "iter 38900 loss 6.805750407679056e-10\n",
            "iter 39000 loss 6.679298780731813e-10\n",
            "iter 39100 loss 6.604678470800707e-10\n",
            "iter 39200 loss 6.530869178789089e-10\n",
            "iter 39300 loss 6.457996359898743e-10\n",
            "iter 39400 loss 6.336581259702712e-10\n",
            "iter 39500 loss 6.314601619372695e-10\n",
            "iter 39600 loss 6.243952022089161e-10\n",
            "iter 39700 loss 6.222787285459219e-10\n",
            "iter 39800 loss 6.104864946898658e-10\n",
            "iter 39900 loss 6.084578951792707e-10\n",
            "iter 40000 loss 6.016480647019762e-10\n",
            "iter 40100 loss 5.996883545300591e-10\n",
            "iter 40200 loss 5.882226372655452e-10\n",
            "iter 40300 loss 5.863403096384445e-10\n",
            "iter 40400 loss 5.797622382175405e-10\n",
            "iter 40500 loss 5.779451361931365e-10\n",
            "iter 40600 loss 5.621436094394028e-10\n",
            "iter 40700 loss 5.604084973853674e-10\n",
            "iter 40800 loss 5.540858327712783e-10\n",
            "iter 40900 loss 5.524065649353815e-10\n",
            "iter 41000 loss 5.416023740600906e-10\n",
            "iter 41100 loss 5.399921065851743e-10\n",
            "iter 41200 loss 5.338719466507769e-10\n",
            "iter 41300 loss 5.278119052931629e-10\n",
            "iter 41400 loss 5.218085408209561e-10\n",
            "iter 41500 loss 5.158586890985362e-10\n",
            "iter 41600 loss 5.099664579510943e-10\n",
            "iter 41700 loss 5.085202259280663e-10\n",
            "iter 41800 loss 5.070941999640866e-10\n",
            "iter 41900 loss 5.013006676435339e-10\n",
            "iter 42000 loss 4.99920937979681e-10\n",
            "iter 42100 loss 4.898670358244317e-10\n",
            "iter 42200 loss 4.885313265035052e-10\n",
            "iter 42300 loss 4.872112158160746e-10\n",
            "iter 42400 loss 4.816064214097082e-10\n",
            "iter 42500 loss 4.803272224407351e-10\n",
            "iter 42600 loss 4.705413836347816e-10\n",
            "iter 42700 loss 4.693127553245802e-10\n",
            "iter 42800 loss 4.680990595140599e-10\n",
            "iter 42900 loss 4.6267953357492786e-10\n",
            "iter 43000 loss 4.6149944976647816e-10\n",
            "iter 43100 loss 4.603304681882747e-10\n",
            "iter 43200 loss 4.508275419645713e-10\n",
            "iter 43300 loss 4.4556419664942837e-10\n",
            "iter 43400 loss 4.444593026953214e-10\n",
            "iter 43500 loss 4.392633479177732e-10\n",
            "iter 43600 loss 4.381926488328247e-10\n",
            "iter 43700 loss 4.371306649986195e-10\n",
            "iter 43800 loss 4.32008318007604e-10\n",
            "iter 43900 loss 4.269321285388372e-10\n",
            "iter 44000 loss 4.259180785837202e-10\n",
            "iter 44100 loss 4.208988158005411e-10\n",
            "iter 44200 loss 4.1991449206690845e-10\n",
            "iter 44300 loss 4.149472154768574e-10\n",
            "iter 44400 loss 4.1002817807722636e-10\n",
            "iter 44500 loss 4.051501634183552e-10\n",
            "iter 44600 loss 4.042226275924321e-10\n",
            "iter 44700 loss 3.994038988430759e-10\n",
            "iter 44800 loss 3.9850442390410024e-10\n",
            "iter 44900 loss 3.976146079054388e-10\n",
            "iter 45000 loss 3.9285313890857765e-10\n",
            "iter 45100 loss 3.9198472245871585e-10\n",
            "iter 45200 loss 3.911266865941343e-10\n",
            "iter 45300 loss 3.8642644639708124e-10\n",
            "iter 45400 loss 3.817729188337893e-10\n",
            "iter 45500 loss 3.8095343546373783e-10\n",
            "iter 45600 loss 3.8013917014190213e-10\n",
            "iter 45700 loss 3.793346192715319e-10\n",
            "iter 45800 loss 3.7474756631183936e-10\n",
            "iter 45900 loss 3.739617504550097e-10\n",
            "iter 46000 loss 3.7318542700504054e-10\n",
            "iter 46100 loss 3.649149593609735e-10\n",
            "iter 46200 loss 3.641656975972296e-10\n",
            "iter 46300 loss 3.6342376330544823e-10\n",
            "iter 46400 loss 3.626870470618826e-10\n",
            "iter 46500 loss 3.582495411436071e-10\n",
            "iter 46600 loss 3.575317542026113e-10\n",
            "iter 46700 loss 3.5681912979868e-10\n",
            "iter 46800 loss 3.561169137356046e-10\n",
            "iter 46900 loss 3.5174449464214774e-10\n",
            "iter 47000 loss 3.474108500878259e-10\n",
            "iter 47100 loss 3.4674052518113285e-10\n",
            "iter 47200 loss 3.4607547383380677e-10\n",
            "iter 47300 loss 3.4179353791685685e-10\n",
            "iter 47400 loss 3.375523749404863e-10\n",
            "iter 47500 loss 3.369161061250736e-10\n",
            "iter 47600 loss 3.362838896237008e-10\n",
            "iter 47700 loss 3.3565666912593883e-10\n",
            "iter 47800 loss 3.314723495684291e-10\n",
            "iter 47900 loss 3.308607554597387e-10\n",
            "iter 48000 loss 3.2671804151007677e-10\n",
            "iter 48100 loss 3.261229897244533e-10\n",
            "iter 48200 loss 3.220234634504493e-10\n",
            "iter 48300 loss 3.2144392703159497e-10\n",
            "iter 48400 loss 3.2086761025951205e-10\n",
            "iter 48500 loss 3.202961784687375e-10\n",
            "iter 48600 loss 3.197279108135831e-10\n",
            "iter 48700 loss 3.156852557140155e-10\n",
            "iter 48800 loss 3.1513017195727855e-10\n",
            "iter 48900 loss 3.1457891846997654e-10\n",
            "iter 49000 loss 3.140320781191974e-10\n",
            "iter 49100 loss 3.1004082634567e-10\n",
            "iter 49200 loss 3.0269289852391523e-10\n",
            "iter 49300 loss 3.021753403054106e-10\n",
            "iter 49400 loss 3.016605021333163e-10\n",
            "iter 49500 loss 3.0114963300853503e-10\n",
            "iter 49600 loss 3.006425108864619e-10\n",
            "iter 49700 loss 2.967731616010383e-10\n",
            "iter 49800 loss 2.9627744702054315e-10\n",
            "iter 49900 loss 2.9578395288609727e-10\n",
            "iter 50000 loss 2.952944000433888e-10\n",
            "iter 50100 loss 2.948076227582419e-10\n",
            "iter 50200 loss 2.8767560555920113e-10\n",
            "iter 50300 loss 2.8720717470953616e-10\n",
            "iter 50400 loss 2.8674229657355e-10\n",
            "iter 50500 loss 2.8628016623954977e-10\n",
            "iter 50600 loss 2.858208114631111e-10\n",
            "iter 50700 loss 2.8536464857786825e-10\n",
            "iter 50800 loss 2.8163166243544424e-10\n",
            "iter 50900 loss 2.8118465889015454e-10\n",
            "iter 51000 loss 2.8074104152508994e-10\n",
            "iter 51100 loss 2.803005605400699e-10\n",
            "iter 51200 loss 2.79862744090309e-10\n",
            "iter 51300 loss 2.761736950240845e-10\n",
            "iter 51400 loss 2.757464256930575e-10\n",
            "iter 51500 loss 2.7209573483233385e-10\n",
            "iter 51600 loss 2.7167879057543587e-10\n",
            "iter 51700 loss 2.7126370594210414e-10\n",
            "iter 51800 loss 2.7085139686633397e-10\n",
            "iter 51900 loss 2.6724586432713693e-10\n",
            "iter 52000 loss 2.6684365828089085e-10\n",
            "iter 52100 loss 2.66444033503177e-10\n",
            "iter 52200 loss 2.660469067272686e-10\n",
            "iter 52300 loss 2.6565183386395574e-10\n",
            "iter 52400 loss 2.652594532914776e-10\n",
            "iter 52500 loss 2.617008554306466e-10\n",
            "iter 52600 loss 2.6131646846394574e-10\n",
            "iter 52700 loss 2.609354954330456e-10\n",
            "iter 52800 loss 2.6055638202571174e-10\n",
            "iter 52900 loss 2.6017885068618796e-10\n",
            "iter 53000 loss 2.5666768710408405e-10\n",
            "iter 53100 loss 2.5630028654965997e-10\n",
            "iter 53200 loss 2.528250941935539e-10\n",
            "iter 53300 loss 2.524659370450877e-10\n",
            "iter 53400 loss 2.5210877829806577e-10\n",
            "iter 53500 loss 2.5175359019691257e-10\n",
            "iter 53600 loss 2.5140106663101847e-10\n",
            "iter 53700 loss 2.510512353559591e-10\n",
            "iter 53800 loss 2.507026253262268e-10\n",
            "iter 53900 loss 2.4727628278320424e-10\n",
            "iter 54000 loss 2.46935610848098e-10\n",
            "iter 54100 loss 2.4354421257477554e-10\n",
            "iter 54200 loss 2.432116452677491e-10\n",
            "iter 54300 loss 2.4288077105083516e-10\n",
            "iter 54400 loss 2.425512568571264e-10\n",
            "iter 54500 loss 2.3919771718894367e-10\n",
            "iter 54600 loss 2.358810369251785e-10\n",
            "iter 54700 loss 2.3556451234085785e-10\n",
            "iter 54800 loss 2.35250097180284e-10\n",
            "iter 54900 loss 2.3493815226593995e-10\n",
            "iter 55000 loss 2.3462770615267914e-10\n",
            "iter 55100 loss 2.3431850904032103e-10\n",
            "iter 55200 loss 2.34011254818256e-10\n",
            "iter 55300 loss 2.3073759569669505e-10\n",
            "iter 55400 loss 2.3043733587968518e-10\n",
            "iter 55500 loss 2.3013804750782185e-10\n",
            "iter 55600 loss 2.298412155044005e-10\n",
            "iter 55700 loss 2.2954593781321364e-10\n",
            "iter 55800 loss 2.2925153442265866e-10\n",
            "iter 55900 loss 2.2895864371097474e-10\n",
            "iter 56000 loss 2.2866808446764253e-10\n",
            "iter 56100 loss 2.2543922284512519e-10\n",
            "iter 56200 loss 2.2515431186143076e-10\n",
            "iter 56300 loss 2.2195907611877175e-10\n",
            "iter 56400 loss 2.2168028523950056e-10\n",
            "iter 56500 loss 2.2140253519431496e-10\n",
            "iter 56600 loss 2.2112631170578823e-10\n",
            "iter 56700 loss 2.20852072740918e-10\n",
            "iter 56800 loss 2.2057967952182622e-10\n",
            "iter 56900 loss 2.1742684042092009e-10\n",
            "iter 57000 loss 2.1716062281740278e-10\n",
            "iter 57100 loss 2.1689597340390776e-10\n",
            "iter 57200 loss 2.1663290605822283e-10\n",
            "iter 57300 loss 2.1637078240210883e-10\n",
            "iter 57400 loss 2.161100187692e-10\n",
            "iter 57500 loss 2.1585067067064756e-10\n",
            "iter 57600 loss 2.155926964730881e-10\n",
            "iter 57700 loss 2.1248069970170036e-10\n",
            "iter 57800 loss 2.0940077449793648e-10\n",
            "iter 57900 loss 2.09152334340601e-10\n",
            "iter 58000 loss 2.089049766507145e-10\n",
            "iter 58100 loss 2.0865897898403318e-10\n",
            "iter 58200 loss 2.0841403602922526e-10\n",
            "iter 58300 loss 2.0537237188644752e-10\n",
            "iter 58400 loss 2.051327718799456e-10\n",
            "iter 58500 loss 2.0489379637389504e-10\n",
            "iter 58600 loss 2.0188667404497096e-10\n",
            "iter 58700 loss 2.0165311087616544e-10\n",
            "iter 58800 loss 2.014209354861407e-10\n",
            "iter 58900 loss 2.0119013399710894e-10\n",
            "iter 59000 loss 2.009598876195895e-10\n",
            "iter 59100 loss 2.0073162576572656e-10\n",
            "iter 59200 loss 2.0050465454612976e-10\n",
            "iter 59300 loss 2.002788490607088e-10\n",
            "iter 59400 loss 2.000541954316759e-10\n",
            "iter 59500 loss 1.970886093216606e-10\n",
            "iter 59600 loss 1.9686831331799937e-10\n",
            "iter 59700 loss 1.9664897488169686e-10\n",
            "iter 59800 loss 1.9643094095744829e-10\n",
            "iter 59900 loss 1.9621390623392188e-10\n",
            "iter 60000 loss 1.9599791234448105e-10\n",
            "iter 60100 loss 1.95782584588855e-10\n",
            "iter 60200 loss 1.9556828378952673e-10\n",
            "iter 60300 loss 1.9535537076897924e-10\n",
            "iter 60400 loss 1.9514366511597103e-10\n",
            "iter 60500 loss 1.8953549840716732e-10\n",
            "iter 60600 loss 1.8933057899239714e-10\n",
            "iter 60700 loss 1.8912638122259295e-10\n",
            "iter 60800 loss 1.8892284958660355e-10\n",
            "iter 60900 loss 1.8872091389621204e-10\n",
            "iter 61000 loss 1.885196443396353e-10\n",
            "iter 61100 loss 1.8831922132811485e-10\n",
            "iter 61200 loss 1.88119186894653e-10\n",
            "iter 61300 loss 1.8792030431757922e-10\n",
            "iter 61400 loss 1.8772286503043745e-10\n",
            "iter 61500 loss 1.8486898123448725e-10\n",
            "iter 61600 loss 1.84674608938451e-10\n",
            "iter 61700 loss 1.8448180483243704e-10\n",
            "iter 61800 loss 1.8428919501545238e-10\n",
            "iter 61900 loss 1.840981395107022e-10\n",
            "iter 62000 loss 1.8390855505145964e-10\n",
            "iter 62100 loss 1.837198726484246e-10\n",
            "iter 62200 loss 1.8353171760132625e-10\n",
            "iter 62300 loss 1.8334422868804268e-10\n",
            "iter 62400 loss 1.8315735039742265e-10\n",
            "iter 62500 loss 1.8297172110770532e-10\n",
            "iter 62600 loss 1.8015947067517857e-10\n",
            "iter 62700 loss 1.7997781043277428e-10\n",
            "iter 62800 loss 1.7979696897985065e-10\n",
            "iter 62900 loss 1.7961654386056125e-10\n",
            "iter 63000 loss 1.7683780828559037e-10\n",
            "iter 63100 loss 1.7666179630282386e-10\n",
            "iter 63200 loss 1.7648592309793543e-10\n",
            "iter 63300 loss 1.7631109072713258e-10\n",
            "iter 63400 loss 1.7613688285678109e-10\n",
            "iter 63500 loss 1.7596334112024437e-10\n",
            "iter 63600 loss 1.7579018796176626e-10\n",
            "iter 63700 loss 1.7304654931216135e-10\n",
            "iter 63800 loss 1.7287694886736205e-10\n",
            "iter 63900 loss 1.7270809782310437e-10\n",
            "iter 64000 loss 1.7253970474584435e-10\n",
            "iter 64100 loss 1.7237183902452102e-10\n",
            "iter 64200 loss 1.7220458392586124e-10\n",
            "iter 64300 loss 1.7203782842756254e-10\n",
            "iter 64400 loss 1.7187236356352997e-10\n",
            "iter 64500 loss 1.7170734278870725e-10\n",
            "iter 64600 loss 1.7154291875876027e-10\n",
            "iter 64700 loss 1.7137909147368902e-10\n",
            "iter 64800 loss 1.7121599971137158e-10\n",
            "iter 64900 loss 1.6851010864460392e-10\n",
            "iter 65000 loss 1.6835030591799693e-10\n",
            "iter 65100 loss 1.681911276918413e-10\n",
            "iter 65200 loss 1.680325323327736e-10\n",
            "iter 65300 loss 1.678749916855793e-10\n",
            "iter 65400 loss 1.6771811717219975e-10\n",
            "iter 65500 loss 1.6756161735909103e-10\n",
            "iter 65600 loss 1.6740567265749462e-10\n",
            "iter 65700 loss 1.6473618302814685e-10\n",
            "iter 65800 loss 1.6458415186271225e-10\n",
            "iter 65900 loss 1.644327729533046e-10\n",
            "iter 66000 loss 1.6428171323301655e-10\n",
            "iter 66100 loss 1.6164414251562675e-10\n",
            "iter 66200 loss 1.5903794947647043e-10\n",
            "iter 66300 loss 1.5889185800421757e-10\n",
            "iter 66400 loss 1.587461273544477e-10\n",
            "iter 66500 loss 1.5860164570558055e-10\n",
            "iter 66600 loss 1.584575387569842e-10\n",
            "iter 66700 loss 1.5831398691990017e-10\n",
            "iter 66800 loss 1.5817061549405764e-10\n",
            "iter 66900 loss 1.5802772979078838e-10\n",
            "iter 67000 loss 1.5788539919903144e-10\n",
            "iter 67100 loss 1.5774329065187942e-10\n",
            "iter 67200 loss 1.5760248661678133e-10\n",
            "iter 67300 loss 1.574617936039857e-10\n",
            "iter 67400 loss 1.573218499917317e-10\n",
            "iter 67500 loss 1.54753668213381e-10\n",
            "iter 67600 loss 1.546162364807202e-10\n",
            "iter 67700 loss 1.5447951251523762e-10\n",
            "iter 67800 loss 1.5434317712781365e-10\n",
            "iter 67900 loss 1.542072580740239e-10\n",
            "iter 68000 loss 1.540721022985636e-10\n",
            "iter 68100 loss 1.53937834701523e-10\n",
            "iter 68200 loss 1.5380365037120924e-10\n",
            "iter 68300 loss 1.5366996564125657e-10\n",
            "iter 68400 loss 1.5353673887830155e-10\n",
            "iter 68500 loss 1.5340367864880022e-10\n",
            "iter 68600 loss 1.532711596530234e-10\n",
            "iter 68700 loss 1.5313914025760766e-10\n",
            "iter 68800 loss 1.5060626357144002e-10\n",
            "iter 68900 loss 1.4810505599704982e-10\n",
            "iter 69000 loss 1.47978240772062e-10\n",
            "iter 69100 loss 1.478519806585865e-10\n",
            "iter 69200 loss 1.477260397342306e-10\n",
            "iter 69300 loss 1.4760018207660153e-10\n",
            "iter 69400 loss 1.4747504606393846e-10\n",
            "iter 69500 loss 1.4735013209588033e-10\n",
            "iter 69600 loss 1.4722691121793474e-10\n",
            "iter 69700 loss 1.4710435647380393e-10\n",
            "iter 69800 loss 1.4698209316321709e-10\n",
            "iter 69900 loss 1.468603016974157e-10\n",
            "iter 70000 loss 1.467390098319754e-10\n",
            "iter 70100 loss 1.466178567444132e-10\n",
            "iter 70200 loss 1.464972726461511e-10\n",
            "iter 70300 loss 1.440326885537857e-10\n",
            "iter 70400 loss 1.4391446367945093e-10\n",
            "iter 70500 loss 1.4379678003884067e-10\n",
            "iter 70600 loss 1.4368006784337695e-10\n",
            "iter 70700 loss 1.4356368871482061e-10\n",
            "iter 70800 loss 1.4344758714202044e-10\n",
            "iter 70900 loss 1.4333180475833984e-10\n",
            "iter 71000 loss 1.4321621666368856e-10\n",
            "iter 71100 loss 1.4310107265824712e-10\n",
            "iter 71200 loss 1.4298610906404718e-10\n",
            "iter 71300 loss 1.4287143690339121e-10\n",
            "iter 71400 loss 1.4275719495415728e-10\n",
            "iter 71500 loss 1.4264378567219183e-10\n",
            "iter 71600 loss 1.4253069557934595e-10\n",
            "iter 71700 loss 1.424183548870417e-10\n",
            "iter 71800 loss 1.4230600031694962e-10\n",
            "iter 71900 loss 1.3987852542918233e-10\n",
            "iter 72000 loss 1.397683774273517e-10\n",
            "iter 72100 loss 1.3965850698127724e-10\n",
            "iter 72200 loss 1.3954901123547359e-10\n",
            "iter 72300 loss 1.3943984855657732e-10\n",
            "iter 72400 loss 1.393307968999835e-10\n",
            "iter 72500 loss 1.3693529643532543e-10\n",
            "iter 72600 loss 1.3682899258071757e-10\n",
            "iter 72700 loss 1.367228691373512e-10\n",
            "iter 72800 loss 1.3661749509452648e-10\n",
            "iter 72900 loss 1.3651231534073105e-10\n",
            "iter 73000 loss 1.3640730212038932e-10\n",
            "iter 73100 loss 1.363026774781062e-10\n",
            "iter 73200 loss 1.3619810834697432e-10\n",
            "iter 73300 loss 1.3609403881620352e-10\n",
            "iter 73400 loss 1.3599013581888642e-10\n",
            "iter 73500 loss 1.3362740081124258e-10\n",
            "iter 73600 loss 1.3352553784873322e-10\n",
            "iter 73700 loss 1.3342382754188975e-10\n",
            "iter 73800 loss 1.3332225601292436e-10\n",
            "iter 73900 loss 1.3322107306201758e-10\n",
            "iter 74000 loss 1.3312013991129135e-10\n",
            "iter 74100 loss 1.3301967860535058e-10\n",
            "iter 74200 loss 1.3291934219950008e-10\n",
            "iter 74300 loss 1.3281949151622285e-10\n",
            "iter 74400 loss 1.3271952981064317e-10\n",
            "iter 74500 loss 1.3262016484993921e-10\n",
            "iter 74600 loss 1.3252127173402073e-10\n",
            "iter 74700 loss 1.3242279495173648e-10\n",
            "iter 74800 loss 1.3232454021405715e-10\n",
            "iter 74900 loss 1.322272985548878e-10\n",
            "iter 75000 loss 1.321299875067794e-10\n",
            "iter 75100 loss 1.3203299564779059e-10\n",
            "iter 75200 loss 1.3193636461128477e-10\n",
            "iter 75300 loss 1.296099616521218e-10\n",
            "iter 75400 loss 1.2951593963972385e-10\n",
            "iter 75500 loss 1.294219037495381e-10\n",
            "iter 75600 loss 1.2932817317068412e-10\n",
            "iter 75700 loss 1.2923480341431315e-10\n",
            "iter 75800 loss 1.2914211366954476e-10\n",
            "iter 75900 loss 1.2904961821380567e-10\n",
            "iter 76000 loss 1.2675444027721028e-10\n",
            "iter 76100 loss 1.266631938223739e-10\n",
            "iter 76200 loss 1.2657233594559614e-10\n",
            "iter 76300 loss 1.2648178338015015e-10\n",
            "iter 76400 loss 1.2639155000382374e-10\n",
            "iter 76500 loss 1.2630131662749733e-10\n",
            "iter 76600 loss 1.2403819638073799e-10\n",
            "iter 76700 loss 1.239502944727633e-10\n",
            "iter 76800 loss 1.2386244807593982e-10\n",
            "iter 76900 loss 1.2377518454620429e-10\n",
            "iter 77000 loss 1.2368847612798106e-10\n",
            "iter 77100 loss 1.2145595640333795e-10\n",
            "iter 77200 loss 1.2137069127504674e-10\n",
            "iter 77300 loss 1.2128546778011895e-10\n",
            "iter 77400 loss 1.2120056347431074e-10\n",
            "iter 77500 loss 1.2111590896868307e-10\n",
            "iter 77600 loss 1.2103132385199444e-10\n",
            "iter 77700 loss 1.2094686363539608e-10\n",
            "iter 77800 loss 1.2086262546340265e-10\n",
            "iter 77900 loss 1.207787064805288e-10\n",
            "iter 78000 loss 1.2069502342004768e-10\n",
            "iter 78100 loss 1.206116040375349e-10\n",
            "iter 78200 loss 1.205290312000784e-10\n",
            "iter 78300 loss 1.2044612529571452e-10\n",
            "iter 78400 loss 1.2036373286949953e-10\n",
            "iter 78500 loss 1.2028149309895042e-10\n",
            "iter 78600 loss 1.20199419861855e-10\n",
            "iter 78700 loss 1.201175409137889e-10\n",
            "iter 78800 loss 1.2003598115484237e-10\n",
            "iter 78900 loss 1.1995443527368366e-10\n",
            "iter 79000 loss 1.1987341674846164e-10\n",
            "iter 79100 loss 1.1767525842643067e-10\n",
            "iter 79200 loss 1.1759587748016997e-10\n",
            "iter 79300 loss 1.175165520450605e-10\n",
            "iter 79400 loss 1.174373376322535e-10\n",
            "iter 79500 loss 1.1735852567529292e-10\n",
            "iter 79600 loss 1.172803243409959e-10\n",
            "iter 79700 loss 1.1720242831803063e-10\n",
            "iter 79800 loss 1.1712462943958002e-10\n",
            "iter 79900 loss 1.170469832167953e-10\n",
            "iter 80000 loss 1.1696946189410085e-10\n",
            "iter 80100 loss 1.1689221812716255e-10\n",
            "iter 80200 loss 1.1681512701589014e-10\n",
            "iter 80300 loss 1.1673843836046416e-10\n",
            "iter 80400 loss 1.1666154153822106e-10\n",
            "iter 80500 loss 1.1658500553846096e-10\n",
            "iter 80600 loss 1.1650876097224483e-10\n",
            "iter 80700 loss 1.1643244701708966e-10\n",
            "iter 80800 loss 1.1635642449547845e-10\n",
            "iter 80900 loss 1.1628084606307709e-10\n",
            "iter 81000 loss 1.1620559375868922e-10\n",
            "iter 81100 loss 1.1613054962111846e-10\n",
            "iter 81200 loss 1.1605583855045509e-10\n",
            "iter 81300 loss 1.1183320935970187e-10\n",
            "iter 81400 loss 1.1176104486310123e-10\n",
            "iter 81500 loss 1.1168935915017997e-10\n",
            "iter 81600 loss 1.1161763180389528e-10\n",
            "iter 81700 loss 1.1154597384654963e-10\n",
            "iter 81800 loss 1.1147475997841383e-10\n",
            "iter 81900 loss 1.1140401101616959e-10\n",
            "iter 82000 loss 1.1133341470959124e-10\n",
            "iter 82100 loss 1.1126302656983e-10\n",
            "iter 82200 loss 1.1119269394122e-10\n",
            "iter 82300 loss 1.1112265274615396e-10\n",
            "iter 82400 loss 1.1105279196232942e-10\n",
            "iter 82500 loss 1.1098340302329035e-10\n",
            "iter 82600 loss 1.1091424306775011e-10\n",
            "iter 82700 loss 1.1084520801230013e-10\n",
            "iter 82800 loss 1.1077617989574406e-10\n",
            "iter 82900 loss 1.1070744321273196e-10\n",
            "iter 83000 loss 1.1063898408547601e-10\n",
            "iter 83100 loss 1.1057046944706883e-10\n",
            "iter 83200 loss 1.1050213521990315e-10\n",
            "iter 83300 loss 1.1043393283172165e-10\n",
            "iter 83400 loss 1.1036577901579747e-10\n",
            "iter 83500 loss 1.0826572277577995e-10\n",
            "iter 83600 loss 1.0819895673863655e-10\n",
            "iter 83700 loss 1.0813214212923583e-10\n",
            "iter 83800 loss 1.080656675256364e-10\n",
            "iter 83900 loss 1.0799905414415889e-10\n",
            "iter 84000 loss 1.0793303750755712e-10\n",
            "iter 84100 loss 1.0786739557122615e-10\n",
            "iter 84200 loss 1.0780190629056108e-10\n",
            "iter 84300 loss 1.0773650027662285e-10\n",
            "iter 84400 loss 1.0767114977383585e-10\n",
            "iter 84500 loss 1.076060698879111e-10\n",
            "iter 84600 loss 1.0754111490207663e-10\n",
            "iter 84700 loss 1.0747631257190804e-10\n",
            "iter 84800 loss 1.0741171840855657e-10\n",
            "iter 84900 loss 1.0734702710069044e-10\n",
            "iter 85000 loss 1.0728268273751951e-10\n",
            "iter 85100 loss 1.0721839388549981e-10\n",
            "iter 85200 loss 1.0715418136131305e-10\n",
            "iter 85300 loss 1.0709018394283731e-10\n",
            "iter 85400 loss 1.0702621427993719e-10\n",
            "iter 85500 loss 1.069624805394298e-10\n",
            "iter 85600 loss 1.0689879537117974e-10\n",
            "iter 85700 loss 1.0683547102541269e-10\n",
            "iter 85800 loss 1.0677240341872007e-10\n",
            "iter 85900 loss 1.0670950928437506e-10\n",
            "iter 86000 loss 1.0464412669719536e-10\n",
            "iter 86100 loss 1.045829325918568e-10\n",
            "iter 86200 loss 1.045220021644866e-10\n",
            "iter 86300 loss 1.0446107867601029e-10\n",
            "iter 86400 loss 1.0440022457647302e-10\n",
            "iter 86500 loss 1.043396202771163e-10\n",
            "iter 86600 loss 1.0427894658882053e-10\n",
            "iter 86700 loss 1.0224372737344112e-10\n",
            "iter 86800 loss 1.0218447615839565e-10\n",
            "iter 86900 loss 1.0212573148260518e-10\n",
            "iter 87000 loss 1.0206679945667929e-10\n",
            "iter 87100 loss 1.0200799926973758e-10\n",
            "iter 87200 loss 1.0194926847173491e-10\n",
            "iter 87300 loss 1.0189067645161032e-10\n",
            "iter 87400 loss 1.0183216769821257e-10\n",
            "iter 87500 loss 1.0177399895061612e-10\n",
            "iter 87600 loss 1.0171612163656363e-10\n",
            "iter 87700 loss 1.0165844555043435e-10\n",
            "iter 87800 loss 1.0160079721988069e-10\n",
            "iter 87900 loss 1.0154324603384168e-10\n",
            "iter 88000 loss 1.0148569484780268e-10\n",
            "iter 88100 loss 1.0142840040083811e-10\n",
            "iter 88200 loss 1.0137114064834307e-10\n",
            "iter 88300 loss 1.0131413763492247e-10\n",
            "iter 88400 loss 1.0125707217145674e-10\n",
            "iter 88500 loss 1.0120024956927764e-10\n",
            "iter 88600 loss 9.919725457718798e-11\n",
            "iter 88700 loss 9.914151444245789e-11\n",
            "iter 88800 loss 9.908587839113636e-11\n",
            "iter 88900 loss 9.903056152893441e-11\n",
            "iter 89000 loss 9.897509201106658e-11\n",
            "iter 89100 loss 9.891975433218292e-11\n",
            "iter 89200 loss 9.886455543117734e-11\n",
            "iter 89300 loss 9.880934265238395e-11\n",
            "iter 89400 loss 9.875433804040767e-11\n",
            "iter 89500 loss 9.869993711220104e-11\n",
            "iter 89600 loss 9.864575128970543e-11\n",
            "iter 89700 loss 9.859157934499763e-11\n",
            "iter 89800 loss 9.853751148369838e-11\n",
            "iter 89900 loss 9.84835546447016e-11\n",
            "iter 90000 loss 9.842959780570482e-11\n",
            "iter 90100 loss 9.83759462780398e-11\n",
            "iter 90200 loss 9.832219066696624e-11\n",
            "iter 90300 loss 9.826864322270978e-11\n",
            "iter 90400 loss 9.821508883955943e-11\n",
            "iter 90500 loss 9.816168711207496e-11\n",
            "iter 90600 loss 9.810843804025637e-11\n",
            "iter 90700 loss 9.805511957949875e-11\n",
            "iter 90800 loss 9.80019398966192e-11\n",
            "iter 90900 loss 9.794891286940555e-11\n",
            "iter 91000 loss 9.789606625343339e-11\n",
            "iter 91100 loss 9.784306698179535e-11\n",
            "iter 91200 loss 9.779055343273058e-11\n",
            "iter 91300 loss 9.581993531959654e-11\n",
            "iter 91400 loss 9.576865689364666e-11\n",
            "iter 91500 loss 9.571782255690664e-11\n",
            "iter 91600 loss 9.56671269980447e-11\n",
            "iter 91700 loss 9.561664654489377e-11\n",
            "iter 91800 loss 9.556629793072702e-11\n",
            "iter 91900 loss 9.551592849987856e-11\n",
            "iter 92000 loss 9.546568396912036e-11\n",
            "iter 92100 loss 9.541545331614998e-11\n",
            "iter 92200 loss 9.536551409672356e-11\n",
            "iter 92300 loss 9.531556099950933e-11\n",
            "iter 92400 loss 9.52657744357488e-11\n",
            "iter 92500 loss 9.521590460526141e-11\n",
            "iter 92600 loss 9.516647192508998e-11\n",
            "iter 92700 loss 9.511694210040389e-11\n",
            "iter 92800 loss 9.506745390908122e-11\n",
            "iter 92900 loss 9.312838000763435e-11\n",
            "iter 93000 loss 9.121876171080956e-11\n",
            "iter 93100 loss 9.117112620415924e-11\n",
            "iter 93200 loss 9.112350457529672e-11\n",
            "iter 93300 loss 9.107589682422201e-11\n",
            "iter 93400 loss 9.102855969000956e-11\n",
            "iter 93500 loss 9.098113235017635e-11\n",
            "iter 93600 loss 9.09338021548578e-11\n",
            "iter 93700 loss 9.088679114865883e-11\n",
            "iter 93800 loss 9.084009933157944e-11\n",
            "iter 93900 loss 9.079355323127203e-11\n",
            "iter 94000 loss 9.074699325317681e-11\n",
            "iter 94100 loss 9.070046103065721e-11\n",
            "iter 94200 loss 9.065416473053034e-11\n",
            "iter 94300 loss 8.877469592771803e-11\n",
            "iter 94400 loss 8.87293571949499e-11\n",
            "iter 94500 loss 8.868402540107567e-11\n",
            "iter 94600 loss 8.863885320176124e-11\n",
            "iter 94700 loss 8.859373651359803e-11\n",
            "iter 94800 loss 8.854870309216167e-11\n",
            "iter 94900 loss 8.850378763192168e-11\n",
            "iter 95000 loss 8.845886523278779e-11\n",
            "iter 95100 loss 8.841406773374416e-11\n",
            "iter 95200 loss 8.836947840151765e-11\n",
            "iter 95300 loss 8.832473641362526e-11\n",
            "iter 95400 loss 8.828020259254998e-11\n",
            "iter 95500 loss 8.823590469386744e-11\n",
            "iter 95600 loss 8.819173169527517e-11\n",
            "iter 95700 loss 8.81475725744707e-11\n",
            "iter 95800 loss 8.810351059818089e-11\n",
            "iter 95900 loss 8.805969842207162e-11\n",
            "iter 96000 loss 8.801567807914523e-11\n",
            "iter 96100 loss 8.797196304755062e-11\n",
            "iter 96200 loss 8.792823413816819e-11\n",
            "iter 96300 loss 8.788450522878577e-11\n",
            "iter 96400 loss 8.784097060843266e-11\n",
            "iter 96500 loss 8.779757476595762e-11\n",
            "iter 96600 loss 8.775408177896793e-11\n",
            "iter 96700 loss 8.77106928753868e-11\n",
            "iter 96800 loss 8.76675537719862e-11\n",
            "iter 96900 loss 8.762459507982712e-11\n",
            "iter 97000 loss 8.75815947543046e-11\n",
            "iter 97100 loss 8.753868463440284e-11\n",
            "iter 97200 loss 8.749587859790964e-11\n",
            "iter 97300 loss 8.745315582814328e-11\n",
            "iter 97400 loss 8.741048163063425e-11\n",
            "iter 97500 loss 8.736761314409591e-11\n",
            "iter 97600 loss 8.552057673139046e-11\n",
            "iter 97700 loss 8.547883234566456e-11\n",
            "iter 97800 loss 8.543707408215084e-11\n",
            "iter 97900 loss 8.539546847430302e-11\n",
            "iter 98000 loss 8.535396001096984e-11\n",
            "iter 98100 loss 8.531264583666598e-11\n",
            "iter 98200 loss 8.527137329572554e-11\n",
            "iter 98300 loss 8.52300938158912e-11\n",
            "iter 98400 loss 8.518888372499589e-11\n",
            "iter 98500 loss 8.514784710644818e-11\n",
            "iter 98600 loss 8.510683824347609e-11\n",
            "iter 98700 loss 8.506580856382229e-11\n",
            "iter 98800 loss 8.502519521780272e-11\n",
            "iter 98900 loss 8.498425574376967e-11\n",
            "iter 99000 loss 8.494351055876592e-11\n",
            "iter 99100 loss 8.490289027385245e-11\n",
            "iter 99200 loss 8.486235325566582e-11\n",
            "iter 99300 loss 8.482183705416091e-11\n",
            "iter 99400 loss 8.478140411938284e-11\n",
            "iter 99500 loss 8.47411862903158e-11\n",
            "iter 99600 loss 8.47010517279756e-11\n",
            "iter 99700 loss 8.466089634895368e-11\n",
            "iter 99800 loss 8.462082423665862e-11\n",
            "iter 99900 loss 8.458077294104527e-11\n"
          ],
          "name": "stdout"
        },
        {
          "output_type": "display_data",
          "data": {
            "image/png": "[encoded data removed]",
            "text/plain": [
              "<Figure size 432x288 with 1 Axes>"
            ]
          },
          "metadata": {
            "tags": [],
            "needs_background": "light"
          }
        }
      ]
    },
    {
      "cell_type": "code",
      "metadata": {
        "id": "ZLQcpFv71jLM",
        "colab_type": "code",
        "colab": {
          "base_uri": "https://localhost:8080/",
          "height": 282
        },
        "outputId": "a1edd52f-91e3-4e7f-9af1-c56124842cab"
      },
      "source": [
        "plt.plot(l)"
      ],
      "execution_count": 119,
      "outputs": [
        {
          "output_type": "execute_result",
          "data": {
            "text/plain": [
              "[<matplotlib.lines.Line2D at 0x7fc4a3914470>]"
            ]
          },
          "metadata": {
            "tags": []
          },
          "execution_count": 119
        },
        {
          "output_type": "display_data",
          "data": {
            "image/png": "[encoded data removed]",
            "text/plain": [
              "<Figure size 432x288 with 1 Axes>"
            ]
          },
          "metadata": {
            "tags": [],
            "needs_background": "light"
          }
        }
      ]
    },
    {
      "cell_type": "markdown",
      "metadata": {
        "id": "ZvX7qY8XwvNz",
        "colab_type": "text"
      },
      "source": [
        "Рисуем получившееся изображение, и ура, оно действительно похоже на 9ку!"
      ]
    },
    {
      "cell_type": "code",
      "metadata": {
        "id": "0fmKzHr7yZ7t",
        "colab_type": "code",
        "colab": {
          "base_uri": "https://localhost:8080/",
          "height": 282
        },
        "outputId": "5caafca6-d742-4f10-e013-b06eb82bd880"
      },
      "source": [
        "plt.imshow(img.detach().numpy().reshape(28, 28))"
      ],
      "execution_count": 121,
      "outputs": [
        {
          "output_type": "execute_result",
          "data": {
            "text/plain": [
              "<matplotlib.image.AxesImage at 0x7fc4a2b9e400>"
            ]
          },
          "metadata": {
            "tags": []
          },
          "execution_count": 121
        },
        {
          "output_type": "display_data",
          "data": {
            "image/png": "[encoded data removed]",
            "text/plain": [
              "<Figure size 432x288 with 1 Axes>"
            ]
          },
          "metadata": {
            "tags": [],
            "needs_background": "light"
          }
        }
      ]
    },
    {
      "cell_type": "code",
      "metadata": {
        "id": "rtHKOeoOBYws",
        "colab_type": "code",
        "colab": {}
      },
      "source": [
        "# получаем предсказание по этой картинке\n",
        "activation = network(img.unsqueeze(0))"
      ],
      "execution_count": 122,
      "outputs": []
    },
    {
      "cell_type": "code",
      "metadata": {
        "id": "EPLn2WvABeZT",
        "colab_type": "code",
        "colab": {
          "base_uri": "https://localhost:8080/",
          "height": 68
        },
        "outputId": "c468f413-2537-4c63-9d59-593c7879a293"
      },
      "source": [
        "activation"
      ],
      "execution_count": 123,
      "outputs": [
        {
          "output_type": "execute_result",
          "data": {
            "text/plain": [
              "tensor([[9.9899e-15, 6.0838e-10, 5.7372e-13, 6.2080e-09, 4.8616e-06, 2.7964e-07,\n",
              "         3.1033e-15, 2.0912e-06, 2.2591e-07, 9.9999e-01]],\n",
              "       grad_fn=<SoftmaxBackward>)"
            ]
          },
          "metadata": {
            "tags": []
          },
          "execution_count": 123
        }
      ]
    },
    {
      "cell_type": "code",
      "metadata": {
        "id": "O0RtpsUtJTJU",
        "colab_type": "code",
        "colab": {
          "base_uri": "https://localhost:8080/",
          "height": 34
        },
        "outputId": "fa95e3be-6d9f-45fc-98a9-222ca979f850"
      },
      "source": [
        "# оно равно 9\n",
        "torch.argmax(activation[0])"
      ],
      "execution_count": 125,
      "outputs": [
        {
          "output_type": "execute_result",
          "data": {
            "text/plain": [
              "tensor(9, grad_fn=<NotImplemented>)"
            ]
          },
          "metadata": {
            "tags": []
          },
          "execution_count": 125
        }
      ]
    },
    {
      "cell_type": "markdown",
      "metadata": {
        "id": "77WslKGlwRTo",
        "colab_type": "text"
      },
      "source": [
        "Как видим, сеть научилась рисовать 9))"
      ]
    },
    {
      "cell_type": "code",
      "metadata": {
        "id": "nnx-X5vElLCp",
        "colab_type": "code",
        "colab": {}
      },
      "source": [
        ""
      ],
      "execution_count": null,
      "outputs": []
    }
  ]
}