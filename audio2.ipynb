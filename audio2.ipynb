{
  "nbformat": 4,
  "nbformat_minor": 0,
  "metadata": {
    "colab": {
      "name": "audio2",
      "provenance": [],
      "collapsed_sections": []
    },
    "kernelspec": {
      "name": "python3",
      "display_name": "Python 3"
    },
    "accelerator": "TPU"
  },
  "cells": [
    {
      "cell_type": "code",
      "metadata": {
        "id": "fHdJYB0a6dA6",
        "colab_type": "code",
        "colab": {}
      },
      "source": [
        "from google.colab import files \n",
        "from tensorflow.keras import utils\n",
        "import os\n",
        "import librosa\n",
        "import librosa.display\n",
        "import numpy as np\n",
        "import matplotlib.pyplot as plt\n",
        "%matplotlib inline \n",
        "\n",
        "from tensorflow.keras.optimizers import Adam, RMSprop \n",
        "from tensorflow.keras.models import Sequential, Model \n",
        "from tensorflow.keras.layers import concatenate, Input, Dense, Dropout, BatchNormalization, Flatten, Conv1D, Conv2D, LSTM, MaxPooling1D, Embedding, Activation\n",
        "from sklearn.preprocessing import LabelEncoder, StandardScaler\n",
        "\n",
        "import warnings\n",
        "warnings.filterwarnings('ignore')"
      ],
      "execution_count": 2,
      "outputs": []
    },
    {
      "cell_type": "code",
      "metadata": {
        "id": "vH15-lTV8Exs",
        "colab_type": "code",
        "colab": {
          "base_uri": "https://localhost:8080/",
          "height": 122
        },
        "outputId": "0a5740bb-ed20-48ce-8710-cca7e63c847f"
      },
      "source": [
        "from google.colab import drive\n",
        "drive.mount('/content/drive')"
      ],
      "execution_count": 3,
      "outputs": [
        {
          "output_type": "stream",
          "text": [
            "Go to this URL in a browser: https://accounts.google.com/o/oauth2/auth?client_id=947318989803-6bn6qk8qdgf4n4g3pfee6491hc0brc4i.apps.googleusercontent.com&redirect_uri=urn%3aietf%3awg%3aoauth%3a2.0%3aoob&response_type=code&scope=email%20https%3a%2f%2fwww.googleapis.com%2fauth%2fdocs.test%20https%3a%2f%2fwww.googleapis.com%2fauth%2fdrive%20https%3a%2f%2fwww.googleapis.com%2fauth%2fdrive.photos.readonly%20https%3a%2f%2fwww.googleapis.com%2fauth%2fpeopleapi.readonly\n",
            "\n",
            "Enter your authorization code:\n",
            "··········\n",
            "Mounted at /content/drive\n"
          ],
          "name": "stdout"
        }
      ]
    },
    {
      "cell_type": "code",
      "metadata": {
        "id": "KBVDDwji8J6h",
        "colab_type": "code",
        "colab": {}
      },
      "source": [
        "import zipfile\n",
        "z = zipfile.ZipFile(\"/content/drive/My Drive/Music/genres.zip\")\n",
        "z.extractall()"
      ],
      "execution_count": 4,
      "outputs": []
    },
    {
      "cell_type": "code",
      "metadata": {
        "id": "iz2XBNaS92ym",
        "colab_type": "code",
        "colab": {}
      },
      "source": [
        "genres = 'blues classical country disco hiphop jazz metal pop reggae rock'.split()"
      ],
      "execution_count": 6,
      "outputs": []
    },
    {
      "cell_type": "code",
      "metadata": {
        "id": "cIBXgvY0_dk-",
        "colab_type": "code",
        "colab": {}
      },
      "source": [
        "def get_features(y, sr):\n",
        "  chroma_stft = librosa.feature.chroma_stft(y=y, sr=sr)\n",
        "  rmse = np.mean(librosa.feature.rmse(y=y))\n",
        "  spec_cent = np.mean(librosa.feature.spectral_centroid(y=y, sr=sr))\n",
        "  spec_bw = np.mean(librosa.feature.spectral_bandwidth(y=y, sr=sr))\n",
        "  rolloff = np.mean(librosa.feature.spectral_rolloff(y=y, sr=sr))\n",
        "  zcr = np.mean(librosa.feature.zero_crossing_rate(y=y))\n",
        "  mfcc = librosa.feature.mfcc(y=y, sr=sr)\n",
        "\n",
        "  out = []\n",
        "  out.append(rmse)\n",
        "  out.append(spec_cent)\n",
        "  out.append(spec_bw)\n",
        "  out.append(rolloff)\n",
        "  out.append(zcr)\n",
        "\n",
        "  c = []\n",
        "  for chr in chroma_stft:\n",
        "    for r in chr:\n",
        "      c.append(r)\n",
        "\n",
        "  m = []\n",
        "  for mf in mfcc:\n",
        "    for r in mf:\n",
        "      m.append(r)\n",
        "\n",
        "  return out, c[:15480], m[:25800]\n"
      ],
      "execution_count": 60,
      "outputs": []
    },
    {
      "cell_type": "markdown",
      "metadata": {
        "id": "pPoVjYw-MSLQ",
        "colab_type": "text"
      },
      "source": [
        "# Готовим данные"
      ]
    },
    {
      "cell_type": "code",
      "metadata": {
        "id": "nOG45E1ZBojC",
        "colab_type": "code",
        "colab": {
          "base_uri": "https://localhost:8080/",
          "height": 255
        },
        "outputId": "b73ca22a-f0dc-46b0-f29f-7c9919e4437f"
      },
      "source": [
        "import time\n",
        "x_train1 = []\n",
        "x_train2 = []\n",
        "x_train3 = []\n",
        "y_train = []\n",
        "curr_time = time.time()\n",
        "\n",
        "for i in range(len(genres)):\n",
        "# for i in range(1):\n",
        "  g = genres[i]\n",
        "  for filename in os.listdir(f\"./genres/{g}\"):\n",
        "    songname = f\"./genres/{g}/{filename}\"\n",
        "    y, sr = librosa.load(songname, mono=True, duration=50)\n",
        "    out, c, m = get_features(y, sr)\n",
        "    x_train1.append(out)\n",
        "    for _c in c:\n",
        "      x_train2.append(_c)\n",
        "    for t in m:\n",
        "      x_train3.append(t)\n",
        "\n",
        "    y_train.append(utils.to_categorical(i, len(genres)))\n",
        "  \n",
        "  print(\"Жанр \", g, \" готов -> \", round(time.time() - curr_time), \"c\", sep=\"\")\n",
        "  curr_time = time.time()\n",
        "\n",
        "print(\"min c {}\".format(min2))\n",
        "print(\"max c {}\".format(max2))\n",
        "print(\"min m {}\".format(min3))\n",
        "print(\"max m {}\".format(max3))\n",
        "\n",
        "x_train1 = np.array(x_train1)\n",
        "# x_train2 = np.array(x_train2).reshape(-1, 12, 1293)\n",
        "# x_train3 = np.array(x_train3).reshape(-1, 20, 1293)\n",
        "y_train = np.array(y_train)\n"
      ],
      "execution_count": 72,
      "outputs": [
        {
          "output_type": "stream",
          "text": [
            "Жанр blues готов -> 115c\n",
            "Жанр classical готов -> 114c\n",
            "Жанр country готов -> 115c\n",
            "Жанр disco готов -> 119c\n",
            "Жанр hiphop готов -> 119c\n",
            "Жанр jazz готов -> 119c\n",
            "Жанр metal готов -> 122c\n",
            "Жанр pop готов -> 124c\n",
            "Жанр reggae готов -> 124c\n",
            "Жанр rock готов -> 126c\n",
            "min c 15480\n",
            "max c 15480\n",
            "min m 25800\n",
            "max m 25800\n"
          ],
          "name": "stdout"
        }
      ]
    },
    {
      "cell_type": "code",
      "metadata": {
        "id": "DWLKaZZVific",
        "colab_type": "code",
        "colab": {
          "base_uri": "https://localhost:8080/",
          "height": 68
        },
        "outputId": "f33468c1-79c0-4a2e-813d-cda1d8288cd3"
      },
      "source": [
        "# Делаем reshape чтобы данные были нужной формы\n",
        "# x_train2 = np.array(x_train2).reshape(-1, 12, 1293)\n",
        "x_train2 = np.array(x_train2).reshape(1000, 12, -1)\n",
        "x_train3 = np.array(x_train3).reshape(1000, 20, -1)\n",
        "\n",
        "print(x_train1.shape)\n",
        "print(x_train2.shape)\n",
        "print(x_train3.shape)"
      ],
      "execution_count": 77,
      "outputs": [
        {
          "output_type": "stream",
          "text": [
            "(1000, 5)\n",
            "(1000, 12, 1290)\n",
            "(1000, 20, 1290)\n"
          ],
          "name": "stdout"
        }
      ]
    },
    {
      "cell_type": "code",
      "metadata": {
        "id": "fO9gcTZbFSPD",
        "colab_type": "code",
        "colab": {}
      },
      "source": [
        "x_train1_backup = x_train1.copy()\n",
        "x_train2_backup = x_train2.copy()\n",
        "x_train3_backup = x_train3.copy()\n",
        "y_train_backup = y_train.copy()"
      ],
      "execution_count": 79,
      "outputs": []
    },
    {
      "cell_type": "code",
      "metadata": {
        "id": "8cGy2bPYZqdn",
        "colab_type": "code",
        "colab": {}
      },
      "source": [
        "# x_train1 = x_train1_backup.copy()\n",
        "# x_train2 = x_train2_backup.copy()\n",
        "# x_train3 = x_train3_backup.copy()\n",
        "# y_train = y_train_backup.copy()"
      ],
      "execution_count": 335,
      "outputs": []
    },
    {
      "cell_type": "code",
      "metadata": {
        "id": "dueFYZbGZCjx",
        "colab_type": "code",
        "colab": {
          "base_uri": "https://localhost:8080/",
          "height": 85
        },
        "outputId": "d638f7c6-4773-4d65-c9dd-2efc3358a4fd"
      },
      "source": [
        "print(x_train1.shape)\n",
        "print(x_train2.shape)\n",
        "print(x_train3.shape)\n",
        "print(y_train.shape)"
      ],
      "execution_count": 336,
      "outputs": [
        {
          "output_type": "stream",
          "text": [
            "(1000, 5)\n",
            "(1000, 12, 1290)\n",
            "(1000, 20, 1290)\n",
            "(1000, 10)\n"
          ],
          "name": "stdout"
        }
      ]
    },
    {
      "cell_type": "code",
      "metadata": {
        "id": "xnzjOcOVT8s9",
        "colab_type": "code",
        "colab": {}
      },
      "source": [
        "# Разбиваем на батчи\n",
        "def get_multi_batch(x_train, x_len, step):\n",
        "  x_sample = []\n",
        "  x_train_len = len(x_train)\n",
        "  index = 0\n",
        "\n",
        "  while (index + x_len <= x_train_len):\n",
        "    x_sample.append(x_train[index:index+x_len])\n",
        "    index += step\n",
        "  return x_sample\n"
      ],
      "execution_count": 327,
      "outputs": []
    },
    {
      "cell_type": "markdown",
      "metadata": {
        "id": "Nw3REvwqma7e",
        "colab_type": "text"
      },
      "source": [
        "# Создаем сеть с тремя input"
      ]
    },
    {
      "cell_type": "code",
      "metadata": {
        "id": "s0I8dO-Mtw2e",
        "colab_type": "code",
        "colab": {
          "base_uri": "https://localhost:8080/",
          "height": 1000
        },
        "outputId": "f114938f-864a-40a0-e1a6-4ef1589fa032"
      },
      "source": [
        "from keras.utils import plot_model\n",
        "from keras.models import Model\n",
        "from keras.layers import Input\n",
        "from keras.layers import Dense\n",
        "from keras.layers import Flatten\n",
        "from keras.layers.convolutional import Conv2D\n",
        "from keras.layers.pooling import MaxPooling2D, MaxPool1D\n",
        "from keras.layers.merge import concatenate\n",
        "\n",
        "# first input model\n",
        "visible1 = keras.layers.Input(shape=(12, 1290))\n",
        "x1 = keras.layers.Dense(30, activation=\"tanh\")(visible1)\n",
        "x1 = keras.layers.Dense(256, activation=\"elu\")(x1)\n",
        "x1 = keras.layers.Conv1D(32, 3, activation=\"tanh\")(x1)\n",
        "x1 = keras.layers.Conv1D(16, 3, activation=\"tanh\")(x1)\n",
        "# x1 = keras.layers.Flatten()(x1)\n",
        "x1 = keras.layers.LSTM(units=64)(x1)\n",
        "\n",
        "visible2 = keras.layers.Input(shape=(20, 1290))\n",
        "x2 = keras.layers.Dense(30, activation=\"elu\")(visible2)\n",
        "x2 = keras.layers.Dense(256, activation=\"elu\")(x2)\n",
        "x2 = keras.layers.Dense(32, activation=\"elu\")(x2)\n",
        "x2 = keras.layers.Conv1D(32, 3, activation=\"tanh\")(x2)\n",
        "x2 = keras.layers.LSTM(units=64)(x2)\n",
        "# x2 = keras.layers.MaxPool1D()(x2)\n",
        "# x2 = keras.layers.Flatten()(x2)\n",
        "\n",
        "visible3 = keras.layers.Input(shape=(5, ))\n",
        "x3 = keras.layers.Dense(30, activation=\"tanh\")(visible3)\n",
        "x3 = keras.layers.Dense(256, activation=\"tanh\")(x3)\n",
        "x3 = keras.layers.Dense(32, activation=\"tanh\")(x3)\n",
        "\n",
        "print(\"x3: {}\".format(x3.shape))\n",
        "\n",
        "merge = keras.layers.merge.concatenate([x1, x2, x3])\n",
        "# merge = keras.layers.merge.concatenate([x1])\n",
        "\n",
        "print(x1)\n",
        "print(x2)\n",
        "print(merge)\n",
        "\n",
        "output = keras.layers.Dense(256, activation=\"relu\")(merge)\n",
        "output = keras.layers.Dense(1024, activation=\"tanh\")(merge)\n",
        "output = keras.layers.Dense(512, activation=\"tanh\")(merge)\n",
        "output = keras.layers.Dense(1024, activation=\"tanh\")(merge)\n",
        "output = keras.layers.Dense(32, activation=\"relu\")(output)\n",
        "output = keras.layers.Dense(10, activation=\"softmax\")(output)\n",
        "\n",
        "print(output)\n",
        "\n",
        "model = Model(inputs=[visible1, visible2, visible3], outputs=output)\n",
        "\n",
        "\n",
        "print(model.summary())\n",
        "# plot graph\n",
        "plot_model(model, to_file='multiple_inputs.png')\n",
        "\n"
      ],
      "execution_count": 329,
      "outputs": [
        {
          "output_type": "stream",
          "text": [
            "x3: (None, 32)\n",
            "Tensor(\"lstm_7/strided_slice_18:0\", shape=(None, 64), dtype=float32)\n",
            "Tensor(\"lstm_8/strided_slice_18:0\", shape=(None, 64), dtype=float32)\n",
            "Tensor(\"concatenate_25/concat:0\", shape=(None, 160), dtype=float32)\n",
            "Tensor(\"dense_250/Softmax:0\", shape=(None, 10), dtype=float32)\n",
            "Model: \"model_27\"\n",
            "__________________________________________________________________________________________________\n",
            "Layer (type)                    Output Shape         Param #     Connected to                     \n",
            "==================================================================================================\n",
            "input_79 (InputLayer)           (None, 12, 1290)     0                                            \n",
            "__________________________________________________________________________________________________\n",
            "input_80 (InputLayer)           (None, 20, 1290)     0                                            \n",
            "__________________________________________________________________________________________________\n",
            "dense_237 (Dense)               (None, 12, 30)       38730       input_79[0][0]                   \n",
            "__________________________________________________________________________________________________\n",
            "dense_239 (Dense)               (None, 20, 30)       38730       input_80[0][0]                   \n",
            "__________________________________________________________________________________________________\n",
            "dense_238 (Dense)               (None, 12, 256)      7936        dense_237[0][0]                  \n",
            "__________________________________________________________________________________________________\n",
            "dense_240 (Dense)               (None, 20, 256)      7936        dense_239[0][0]                  \n",
            "__________________________________________________________________________________________________\n",
            "input_81 (InputLayer)           (None, 5)            0                                            \n",
            "__________________________________________________________________________________________________\n",
            "conv1d_50 (Conv1D)              (None, 10, 32)       24608       dense_238[0][0]                  \n",
            "__________________________________________________________________________________________________\n",
            "dense_241 (Dense)               (None, 20, 32)       8224        dense_240[0][0]                  \n",
            "__________________________________________________________________________________________________\n",
            "dense_242 (Dense)               (None, 30)           180         input_81[0][0]                   \n",
            "__________________________________________________________________________________________________\n",
            "conv1d_51 (Conv1D)              (None, 8, 16)        1552        conv1d_50[0][0]                  \n",
            "__________________________________________________________________________________________________\n",
            "conv1d_52 (Conv1D)              (None, 18, 32)       3104        dense_241[0][0]                  \n",
            "__________________________________________________________________________________________________\n",
            "dense_243 (Dense)               (None, 256)          7936        dense_242[0][0]                  \n",
            "__________________________________________________________________________________________________\n",
            "lstm_7 (LSTM)                   (None, 64)           20736       conv1d_51[0][0]                  \n",
            "__________________________________________________________________________________________________\n",
            "lstm_8 (LSTM)                   (None, 64)           24832       conv1d_52[0][0]                  \n",
            "__________________________________________________________________________________________________\n",
            "dense_244 (Dense)               (None, 32)           8224        dense_243[0][0]                  \n",
            "__________________________________________________________________________________________________\n",
            "concatenate_25 (Concatenate)    (None, 160)          0           lstm_7[0][0]                     \n",
            "                                                                 lstm_8[0][0]                     \n",
            "                                                                 dense_244[0][0]                  \n",
            "__________________________________________________________________________________________________\n",
            "dense_248 (Dense)               (None, 1024)         164864      concatenate_25[0][0]             \n",
            "__________________________________________________________________________________________________\n",
            "dense_249 (Dense)               (None, 32)           32800       dense_248[0][0]                  \n",
            "__________________________________________________________________________________________________\n",
            "dense_250 (Dense)               (None, 10)           330         dense_249[0][0]                  \n",
            "==================================================================================================\n",
            "Total params: 390,722\n",
            "Trainable params: 390,722\n",
            "Non-trainable params: 0\n",
            "__________________________________________________________________________________________________\n",
            "None\n"
          ],
          "name": "stdout"
        },
        {
          "output_type": "execute_result",
          "data": {
            "image/png": "[encoded data removed]",
            "text/plain": [
              "<IPython.core.display.Image object>"
            ]
          },
          "metadata": {
            "tags": []
          },
          "execution_count": 329
        }
      ]
    },
    {
      "cell_type": "code",
      "metadata": {
        "id": "2aJK_cOVbkss",
        "colab_type": "code",
        "colab": {}
      },
      "source": [
        "model.compile(optimizer=\"Adadelta\", loss=\"mse\", metrics=[\"accuracy\"])"
      ],
      "execution_count": 330,
      "outputs": []
    },
    {
      "cell_type": "markdown",
      "metadata": {
        "id": "l1rvdfSULm-u",
        "colab_type": "text"
      },
      "source": [
        "# Готовим данные"
      ]
    },
    {
      "cell_type": "code",
      "metadata": {
        "id": "B0YBJXcnlb4g",
        "colab_type": "code",
        "colab": {
          "base_uri": "https://localhost:8080/",
          "height": 85
        },
        "outputId": "f362b141-c5ab-47ab-854d-b5477e57a54d"
      },
      "source": [
        "# Обогащаем данные\n",
        "x_train1 = np.array(get_multi_batch(x_train1, 100, 10)).reshape(-1, 5)\n",
        "x_train2 = np.array(get_multi_batch(x_train2, 100, 10)).reshape(-1, 12, 1290)\n",
        "x_train3 = np.array(get_multi_batch(x_train3, 100, 10)).reshape(-1, 20, 1290)\n",
        "y_train = np.array(get_multi_batch(y_train, 100, 10)).reshape(-1, 10)\n",
        "\n",
        "\n",
        "print(x_train1.shape)\n",
        "print(x_train2.shape)\n",
        "print(x_train3.shape)\n",
        "print(y_train.shape)"
      ],
      "execution_count": 337,
      "outputs": [
        {
          "output_type": "stream",
          "text": [
            "(9100, 5)\n",
            "(9100, 12, 1290)\n",
            "(9100, 20, 1290)\n",
            "(9100, 10)\n"
          ],
          "name": "stdout"
        }
      ]
    },
    {
      "cell_type": "code",
      "metadata": {
        "id": "lN6W_arZKkNZ",
        "colab_type": "code",
        "colab": {}
      },
      "source": [
        "# Делим на тестовую и проверочную выборки\n",
        "from sklearn.model_selection import train_test_split\n",
        "x_train1, x_test1, x_train2, x_test2, x_train3, x_test3, y_train, y_test = train_test_split(x_train1, x_train2, x_train3, y_train, test_size=0.2)"
      ],
      "execution_count": 338,
      "outputs": []
    },
    {
      "cell_type": "code",
      "metadata": {
        "id": "8882Eh0ap3Pb",
        "colab_type": "code",
        "colab": {
          "base_uri": "https://localhost:8080/",
          "height": 85
        },
        "outputId": "be2cded5-feab-4d94-d115-2f78c055f949"
      },
      "source": [
        "# Проверяем размерность\n",
        "print(x_train1.shape)\n",
        "print(x_train2.shape)\n",
        "print(x_train3.shape)\n",
        "print(y_train.shape)"
      ],
      "execution_count": 339,
      "outputs": [
        {
          "output_type": "stream",
          "text": [
            "(7280, 5)\n",
            "(7280, 12, 1290)\n",
            "(7280, 20, 1290)\n",
            "(7280, 10)\n"
          ],
          "name": "stdout"
        }
      ]
    },
    {
      "cell_type": "markdown",
      "metadata": {
        "id": "n7pXgiWrl_X7",
        "colab_type": "text"
      },
      "source": [
        "# Обучение сети"
      ]
    },
    {
      "cell_type": "code",
      "metadata": {
        "id": "ra4JfdAqWaW6",
        "colab_type": "code",
        "colab": {
          "base_uri": "https://localhost:8080/",
          "height": 1000
        },
        "outputId": "b3106b6b-87d2-4434-a100-2f46041a404a"
      },
      "source": [
        "history = model.fit([x_train2, x_train3, x_train1], y_train, \n",
        "                    batch_size=128, \n",
        "                    epochs=300, \n",
        "                    validation_data=([x_test2, x_test3, x_test1], y_test),\n",
        "                    callbacks=[keras.callbacks.EarlyStopping(patience=4)])\n",
        "\n"
      ],
      "execution_count": 340,
      "outputs": [
        {
          "output_type": "stream",
          "text": [
            "Train on 7280 samples, validate on 1820 samples\n",
            "Epoch 1/300\n",
            "7280/7280 [==============================] - 10s 1ms/step - loss: 0.0875 - accuracy: 0.1963 - val_loss: 0.0847 - val_accuracy: 0.2225\n",
            "Epoch 2/300\n",
            "7280/7280 [==============================] - 8s 1ms/step - loss: 0.0813 - accuracy: 0.3257 - val_loss: 0.0772 - val_accuracy: 0.3918\n",
            "Epoch 3/300\n",
            "7280/7280 [==============================] - 8s 1ms/step - loss: 0.0749 - accuracy: 0.4016 - val_loss: 0.0714 - val_accuracy: 0.4407\n",
            "Epoch 4/300\n",
            "7280/7280 [==============================] - 8s 1ms/step - loss: 0.0694 - accuracy: 0.4690 - val_loss: 0.0682 - val_accuracy: 0.4582\n",
            "Epoch 5/300\n",
            "7280/7280 [==============================] - 9s 1ms/step - loss: 0.0632 - accuracy: 0.5299 - val_loss: 0.0587 - val_accuracy: 0.5720\n",
            "Epoch 6/300\n",
            "7280/7280 [==============================] - 8s 1ms/step - loss: 0.0533 - accuracy: 0.6187 - val_loss: 0.0474 - val_accuracy: 0.6786\n",
            "Epoch 7/300\n",
            "7280/7280 [==============================] - 9s 1ms/step - loss: 0.0459 - accuracy: 0.6782 - val_loss: 0.0464 - val_accuracy: 0.6615\n",
            "Epoch 8/300\n",
            "7280/7280 [==============================] - 9s 1ms/step - loss: 0.0326 - accuracy: 0.7780 - val_loss: 0.0268 - val_accuracy: 0.8170\n",
            "Epoch 9/300\n",
            "7280/7280 [==============================] - 8s 1ms/step - loss: 0.0272 - accuracy: 0.8198 - val_loss: 0.0268 - val_accuracy: 0.8236\n",
            "Epoch 10/300\n",
            "7280/7280 [==============================] - 8s 1ms/step - loss: 0.0156 - accuracy: 0.9089 - val_loss: 0.0240 - val_accuracy: 0.8335\n",
            "Epoch 11/300\n",
            "7280/7280 [==============================] - 8s 1ms/step - loss: 0.0133 - accuracy: 0.9255 - val_loss: 0.0102 - val_accuracy: 0.9434\n",
            "Epoch 12/300\n",
            "7280/7280 [==============================] - 8s 1ms/step - loss: 0.0117 - accuracy: 0.9293 - val_loss: 0.0114 - val_accuracy: 0.9330\n",
            "Epoch 13/300\n",
            "7280/7280 [==============================] - 8s 1ms/step - loss: 0.0052 - accuracy: 0.9732 - val_loss: 0.0066 - val_accuracy: 0.9593\n",
            "Epoch 14/300\n",
            "7280/7280 [==============================] - 8s 1ms/step - loss: 0.0036 - accuracy: 0.9810 - val_loss: 0.0068 - val_accuracy: 0.9637\n",
            "Epoch 15/300\n",
            "7280/7280 [==============================] - 8s 1ms/step - loss: 0.0123 - accuracy: 0.9203 - val_loss: 0.0046 - val_accuracy: 0.9698\n",
            "Epoch 16/300\n",
            "7280/7280 [==============================] - 8s 1ms/step - loss: 0.0024 - accuracy: 0.9863 - val_loss: 0.0036 - val_accuracy: 0.9769\n",
            "Epoch 17/300\n",
            "7280/7280 [==============================] - 8s 1ms/step - loss: 0.0019 - accuracy: 0.9882 - val_loss: 0.0032 - val_accuracy: 0.9786\n",
            "Epoch 18/300\n",
            "7280/7280 [==============================] - 9s 1ms/step - loss: 0.0017 - accuracy: 0.9893 - val_loss: 0.0031 - val_accuracy: 0.9791\n",
            "Epoch 19/300\n",
            "7280/7280 [==============================] - 8s 1ms/step - loss: 0.0016 - accuracy: 0.9894 - val_loss: 0.0028 - val_accuracy: 0.9797\n",
            "Epoch 20/300\n",
            "7280/7280 [==============================] - 8s 1ms/step - loss: 0.0014 - accuracy: 0.9898 - val_loss: 0.0028 - val_accuracy: 0.9797\n",
            "Epoch 21/300\n",
            "7280/7280 [==============================] - 8s 1ms/step - loss: 0.0014 - accuracy: 0.9904 - val_loss: 0.0027 - val_accuracy: 0.9797\n",
            "Epoch 22/300\n",
            "7280/7280 [==============================] - 9s 1ms/step - loss: 0.0013 - accuracy: 0.9901 - val_loss: 0.0027 - val_accuracy: 0.9797\n",
            "Epoch 23/300\n",
            "7280/7280 [==============================] - 8s 1ms/step - loss: 0.0013 - accuracy: 0.9902 - val_loss: 0.0027 - val_accuracy: 0.9797\n",
            "Epoch 24/300\n",
            "7280/7280 [==============================] - 8s 1ms/step - loss: 0.0013 - accuracy: 0.9900 - val_loss: 0.0027 - val_accuracy: 0.9797\n",
            "Epoch 25/300\n",
            "7280/7280 [==============================] - 8s 1ms/step - loss: 0.0013 - accuracy: 0.9902 - val_loss: 0.0026 - val_accuracy: 0.9797\n",
            "Epoch 26/300\n",
            "7280/7280 [==============================] - 8s 1ms/step - loss: 0.0013 - accuracy: 0.9902 - val_loss: 0.0027 - val_accuracy: 0.9797\n",
            "Epoch 27/300\n",
            "7280/7280 [==============================] - 8s 1ms/step - loss: 0.0013 - accuracy: 0.9902 - val_loss: 0.0026 - val_accuracy: 0.9797\n",
            "Epoch 28/300\n",
            "7280/7280 [==============================] - 8s 1ms/step - loss: 0.0012 - accuracy: 0.9905 - val_loss: 0.0026 - val_accuracy: 0.9808\n",
            "Epoch 29/300\n",
            "7280/7280 [==============================] - 8s 1ms/step - loss: 0.0013 - accuracy: 0.9902 - val_loss: 0.0025 - val_accuracy: 0.9808\n",
            "Epoch 30/300\n",
            "7280/7280 [==============================] - 9s 1ms/step - loss: 0.0012 - accuracy: 0.9904 - val_loss: 0.0025 - val_accuracy: 0.9808\n",
            "Epoch 31/300\n",
            "7280/7280 [==============================] - 9s 1ms/step - loss: 0.0012 - accuracy: 0.9905 - val_loss: 0.0025 - val_accuracy: 0.9808\n",
            "Epoch 32/300\n",
            "7280/7280 [==============================] - 8s 1ms/step - loss: 0.0012 - accuracy: 0.9904 - val_loss: 0.0025 - val_accuracy: 0.9808\n",
            "Epoch 33/300\n",
            "7280/7280 [==============================] - 9s 1ms/step - loss: 0.0012 - accuracy: 0.9901 - val_loss: 0.0025 - val_accuracy: 0.9808\n",
            "Epoch 34/300\n",
            "7280/7280 [==============================] - 9s 1ms/step - loss: 0.0012 - accuracy: 0.9905 - val_loss: 0.0023 - val_accuracy: 0.9824\n",
            "Epoch 35/300\n",
            "7280/7280 [==============================] - 8s 1ms/step - loss: 0.0011 - accuracy: 0.9909 - val_loss: 0.0022 - val_accuracy: 0.9824\n",
            "Epoch 36/300\n",
            "7280/7280 [==============================] - 9s 1ms/step - loss: 0.0011 - accuracy: 0.9907 - val_loss: 0.0023 - val_accuracy: 0.9824\n",
            "Epoch 37/300\n",
            "7280/7280 [==============================] - 9s 1ms/step - loss: 0.0011 - accuracy: 0.9912 - val_loss: 0.0023 - val_accuracy: 0.9824\n",
            "Epoch 38/300\n",
            "7280/7280 [==============================] - 8s 1ms/step - loss: 0.0011 - accuracy: 0.9909 - val_loss: 0.0023 - val_accuracy: 0.9824\n",
            "Epoch 39/300\n",
            "7280/7280 [==============================] - 8s 1ms/step - loss: 0.0011 - accuracy: 0.9905 - val_loss: 0.0023 - val_accuracy: 0.9824\n"
          ],
          "name": "stdout"
        }
      ]
    },
    {
      "cell_type": "code",
      "metadata": {
        "id": "lSFmdlQHo51P",
        "colab_type": "code",
        "colab": {
          "base_uri": "https://localhost:8080/",
          "height": 295
        },
        "outputId": "fa99b47b-d7f6-4c3a-9781-6511c9c2f533"
      },
      "source": [
        "# Визуализируем обучение\n",
        "fig, ax = plt.subplots(2, 1)\n",
        "ax[0].plot(history.history[\"loss\"], label=\"Loss на обучающей выборке\")\n",
        "ax[0].plot(history.history[\"val_loss\"], label=\"Loss на проверочной выборке\")\n",
        "ax[1].plot(history.history[\"accuracy\"], label=\"Accuracy на обучающей выборке\")\n",
        "ax[1].plot(history.history[\"val_accuracy\"], label=\"Accuracy на проверочной выборке\")\n",
        "fig.legend()\n",
        "plt.show()"
      ],
      "execution_count": 341,
      "outputs": [
        {
          "output_type": "display_data",
          "data": {
            "image/png": "[encoded data removed]",
            "text/plain": [
              "<Figure size 432x288 with 2 Axes>"
            ]
          },
          "metadata": {
            "tags": [],
            "needs_background": "light"
          }
        }
      ]
    },
    {
      "cell_type": "markdown",
      "metadata": {
        "id": "BFh43t6-mO7S",
        "colab_type": "text"
      },
      "source": [
        "# Проверяем предсказание сети"
      ]
    },
    {
      "cell_type": "code",
      "metadata": {
        "id": "2mtK7iN6mTW6",
        "colab_type": "code",
        "colab": {
          "base_uri": "https://localhost:8080/",
          "height": 68
        },
        "outputId": "acdf51fb-92dd-4b8f-eefe-faf670d1ad3a"
      },
      "source": [
        "y, sr = librosa.load(\"/content/genres/metal/metal.00007.au\", mono=True, duration=50)\n",
        "x1, x2, x3 = get_features(y, sr)\n",
        "\n",
        "x1 = np.array(x1).reshape(-1, 5)\n",
        "x2 = np.array(x2).reshape(-1, 12, 1290)\n",
        "x3 = np.array(x3).reshape(-1, 20, 1290)\n",
        "# x_train2 = np.array(x_train2).reshape(1000, 12, -1)\n",
        "# x_train3 = np.array(x_train3).reshape(1000, 20, -1)\n",
        "\n",
        "print(x1.shape)\n",
        "print(x2.shape)\n",
        "print(x3.shape)\n"
      ],
      "execution_count": 342,
      "outputs": [
        {
          "output_type": "stream",
          "text": [
            "(1, 5)\n",
            "(1, 12, 1290)\n",
            "(1, 20, 1290)\n"
          ],
          "name": "stdout"
        }
      ]
    },
    {
      "cell_type": "code",
      "metadata": {
        "id": "qqcEBSUCsoFx",
        "colab_type": "code",
        "colab": {}
      },
      "source": [
        "# Получаем предсказание сети по файлу\n",
        "val = model.predict([x2, x3, x1])"
      ],
      "execution_count": 343,
      "outputs": []
    },
    {
      "cell_type": "code",
      "metadata": {
        "id": "7EqoBhEAtAjZ",
        "colab_type": "code",
        "colab": {
          "base_uri": "https://localhost:8080/",
          "height": 68
        },
        "outputId": "485acdcb-0192-44d2-f67a-9b6cafa0371e"
      },
      "source": [
        "val"
      ],
      "execution_count": 344,
      "outputs": [
        {
          "output_type": "execute_result",
          "data": {
            "text/plain": [
              "array([[8.2208298e-06, 6.4949091e-07, 8.9824331e-05, 3.7927655e-04,\n",
              "        2.2444169e-06, 2.6499645e-08, 9.9770808e-01, 6.4538923e-11,\n",
              "        9.6015573e-10, 1.8116424e-03]], dtype=float32)"
            ]
          },
          "metadata": {
            "tags": []
          },
          "execution_count": 344
        }
      ]
    },
    {
      "cell_type": "code",
      "metadata": {
        "id": "9IfNpPNptFCw",
        "colab_type": "code",
        "colab": {
          "base_uri": "https://localhost:8080/",
          "height": 34
        },
        "outputId": "ecc7b71d-dd1c-4aba-ae80-2dd1fd41a7b7"
      },
      "source": [
        "# Получаем жанр и убеждаемся, что сеть права, это метал\n",
        "res = np.argmax(val)\n",
        "print(genres[res])"
      ],
      "execution_count": 345,
      "outputs": [
        {
          "output_type": "stream",
          "text": [
            "metal\n"
          ],
          "name": "stdout"
        }
      ]
    },
    {
      "cell_type": "code",
      "metadata": {
        "id": "296O8-qItVq0",
        "colab_type": "code",
        "colab": {
          "base_uri": "https://localhost:8080/",
          "height": 34
        },
        "outputId": "dad71c49-19ea-4d34-98ea-16d23c0154d2"
      },
      "source": [
        "# Попробуем еще\n",
        "y, sr = librosa.load(\"/content/genres/disco/disco.00017.au\", mono=True, duration=50)\n",
        "x1, x2, x3 = get_features(y, sr)\n",
        "\n",
        "x1 = np.array(x1).reshape(-1, 5)\n",
        "x2 = np.array(x2).reshape(-1, 12, 1290)\n",
        "x3 = np.array(x3).reshape(-1, 20, 1290)\n",
        "val = model.predict([x2, x3, x1])\n",
        "res = np.argmax(val)\n",
        "print(genres[res])\n"
      ],
      "execution_count": 346,
      "outputs": [
        {
          "output_type": "stream",
          "text": [
            "disco\n"
          ],
          "name": "stdout"
        }
      ]
    },
    {
      "cell_type": "markdown",
      "metadata": {
        "id": "zFra6vwytvnP",
        "colab_type": "text"
      },
      "source": [
        "Сеть опять права, это диско )"
      ]
    }
  ]
}