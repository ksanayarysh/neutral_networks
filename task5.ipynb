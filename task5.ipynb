{
  "nbformat": 4,
  "nbformat_minor": 0,
  "metadata": {
    "colab": {
      "name": "task5",
      "provenance": [],
      "collapsed_sections": [],
      "machine_shape": "hm"
    },
    "kernelspec": {
      "name": "python3",
      "display_name": "Python 3"
    },
    "accelerator": "GPU"
  },
  "cells": [
    {
      "cell_type": "code",
      "metadata": {
        "id": "9c-p9wyqmSKJ",
        "colab_type": "code",
        "colab": {}
      },
      "source": [
        "from google.colab import files \n",
        "import numpy as np \n",
        "import pandas as pd\n",
        "import matplotlib.pyplot as plt \n",
        "%matplotlib inline\n",
        "\n",
        "from tensorflow.keras import utils\n",
        "from tensorflow.keras.models import Sequential \n",
        "from tensorflow.keras.layers import Dense, Dropout, BatchNormalization, Embedding, Flatten, Activation\n",
        "from tensorflow.keras.layers import Conv1D, SpatialDropout1D, MaxPooling1D, GlobalAveragePooling1D, GlobalMaxPooling1D\n",
        "from tensorflow.keras.layers import LSTM, GRU, SimpleRNN, Bidirectional\n",
        "from tensorflow.python.keras.optimizers import Adam, RMSprop\n",
        "\n",
        "from keras.preprocessing.text import Tokenizer, text_to_word_sequence \n",
        "from sklearn.model_selection import train_test_split "
      ],
      "execution_count": 0,
      "outputs": []
    },
    {
      "cell_type": "code",
      "metadata": {
        "id": "X7sTBsOrA_gb",
        "colab_type": "code",
        "outputId": "60f89420-95ae-4265-8ebb-195ed95b21a3",
        "colab": {
          "base_uri": "https://localhost:8080/",
          "height": 118
        }
      },
      "source": [
        "from google.colab import drive\n",
        "drive.mount('/content/drive',  force_remount=True)"
      ],
      "execution_count": 6,
      "outputs": [
        {
          "output_type": "stream",
          "text": [
            "Go to this URL in a browser: https://accounts.google.com/o/oauth2/auth?client_id=947318989803-6bn6qk8qdgf4n4g3pfee6491hc0brc4i.apps.googleusercontent.com&redirect_uri=urn%3aietf%3awg%3aoauth%3a2.0%3aoob&response_type=code&scope=email%20https%3a%2f%2fwww.googleapis.com%2fauth%2fdocs.test%20https%3a%2f%2fwww.googleapis.com%2fauth%2fdrive%20https%3a%2f%2fwww.googleapis.com%2fauth%2fdrive.photos.readonly%20https%3a%2f%2fwww.googleapis.com%2fauth%2fpeopleapi.readonly\n",
            "\n",
            "Enter your authorization code:\n",
            "··········\n",
            "Mounted at /content/drive\n"
          ],
          "name": "stdout"
        }
      ]
    },
    {
      "cell_type": "code",
      "metadata": {
        "colab_type": "code",
        "id": "axpjh6YdzX9r",
        "colab": {}
      },
      "source": [
        "def read_text(file_name): \n",
        "  f = open(file_name, 'r')\n",
        "  text = f.read()        \n",
        "  text = text.replace(\"\\n\", \" \") \n",
        "  \n",
        "  return text                    \n",
        "\n",
        "train_text = []\n",
        "train_text.append(read_text('/content/drive/My Drive/Поэты/Пушкин/pushkin1.txt'))\n",
        "train_text.append(read_text('/content/drive/My Drive/Поэты/Лермонтов/lerm1.txt'))\n",
        "train_text.append(read_text('/content/drive/My Drive/Поэты/Шекспир/sh1.txt'))\n",
        "train_text.append(read_text('/content/drive/My Drive/Поэты/Есенин/es1.txt'))\n",
        "train_text.append(read_text('/content/drive/My Drive/Поэты/Маяковский/m1.txt'))\n",
        "\n",
        "class_name = [\"Пушкин\", \"Лермонтов\", \"Шекспир\", \"Есенин\", \"Маяковский\"]\n",
        "n_classes = len(class_name)\n",
        "\n",
        "test_text = []\n",
        "test_text.append(read_text('/content/drive/My Drive/Поэты/Пушкин/pushkin2.txt'))\n",
        "test_text.append(read_text('/content/drive/My Drive/Поэты/Лермонтов/lerm2.txt'))\n",
        "test_text.append(read_text('/content/drive/My Drive/Поэты/Шекспир/sh2.txt'))\n",
        "test_text.append(read_text('/content/drive/My Drive/Поэты/Есенин/es2.txt'))\n",
        "test_text.append(read_text('/content/drive/My Drive/Поэты/Маяковский/m2.txt'))\n"
      ],
      "execution_count": 0,
      "outputs": []
    },
    {
      "cell_type": "code",
      "metadata": {
        "id": "0Ya_ToPGHAYV",
        "colab_type": "code",
        "colab": {
          "base_uri": "https://localhost:8080/",
          "height": 33
        },
        "outputId": "3db267e4-8354-4154-a914-f69879eb99e9"
      },
      "source": [
        "len(test_text)"
      ],
      "execution_count": 8,
      "outputs": [
        {
          "output_type": "execute_result",
          "data": {
            "text/plain": [
              "5"
            ]
          },
          "metadata": {
            "tags": []
          },
          "execution_count": 8
        }
      ]
    },
    {
      "cell_type": "code",
      "metadata": {
        "id": "63vllsfyo2Og",
        "colab_type": "code",
        "colab": {}
      },
      "source": [
        "max_words_count = 20000\n",
        "\n",
        "tokenizer = Tokenizer(num_words=max_words_count, filters='–—!\"#$%&()*+,-./:;<=>?@[\\\\]^_`{|}~\\t\\n\\xa0–\\ufeff', lower=True, split=' ', char_level=False, oov_token = 'unknown')\n",
        "\n",
        "tokenizer.fit_on_texts(train_text)\n",
        "items = list(tokenizer.word_index.items()) "
      ],
      "execution_count": 0,
      "outputs": []
    },
    {
      "cell_type": "code",
      "metadata": {
        "id": "Ex9rbnPBo5yC",
        "colab_type": "code",
        "outputId": "f09fe459-4b4e-4f70-9fa4-f57ac922240d",
        "colab": {
          "base_uri": "https://localhost:8080/",
          "height": 53
        }
      },
      "source": [
        "print(items[:100]) # взглянем на содержимое словаря"
      ],
      "execution_count": 10,
      "outputs": [
        {
          "output_type": "stream",
          "text": [
            "[('unknown', 9979), ('и', 2), ('в', 3), ('не', 4), ('я', 5), ('на', 6), ('с', 7), ('как', 8), ('ты', 9), ('что', 10), ('но', 11), ('он', 12), ('мне', 13), ('о', 14), ('все', 15), ('к', 16), ('а', 17), ('за', 18), ('то', 19), ('так', 20), ('по', 21), ('его', 22), ('когда', 23), ('от', 24), ('мой', 25), ('меня', 26), ('где', 27), ('у', 28), ('x', 29), ('из', 30), ('and', 31), ('для', 32), ('их', 33), ('тебя', 34), ('под', 35), ('the', 36), ('to', 37), ('кто', 38), ('нет', 39), ('она', 40), ('ни', 41), ('тебе', 42), ('был', 43), ('of', 44), ('же', 45), ('мы', 46), ('my', 47), ('i', 48), ('ли', 49), ('над', 50), ('любви', 51), ('ее', 52), ('твой', 53), ('that', 54), ('in', 55), ('без', 56), ('бы', 57), ('вы', 58), ('если', 59), ('вот', 60), ('там', 61), ('уж', 62), ('сердце', 63), ('лишь', 64), ('моей', 65), ('это', 66), ('любовь', 67), ('во', 68), ('ж', 69), ('thy', 70), ('до', 71), ('друг', 72), ('только', 73), ('моя', 74), ('ль', 75), ('да', 76), ('thou', 77), ('быть', 78), ('чтоб', 79), ('б', 80), ('может', 81), ('один', 82), ('иль', 83), ('или', 84), ('они', 85), ('здесь', 86), ('чем', 87), ('нам', 88), ('мои', 89), ('хоть', 90), ('будет', 91), ('есть', 92), ('теперь', 93), ('вас', 94), ('жизнь', 95), ('нас', 96), ('a', 97), ('with', 98), ('еще', 99), ('день', 100)]\n"
          ],
          "name": "stdout"
        }
      ]
    },
    {
      "cell_type": "code",
      "metadata": {
        "id": "V_N8QMdypQTG",
        "colab_type": "code",
        "outputId": "c23887b0-eca3-49e2-84ee-a0d669074e8a",
        "colab": {
          "base_uri": "https://localhost:8080/",
          "height": 66
        }
      },
      "source": [
        "print(\"Протестируем словарь частотности\")\n",
        "print(\"Интересующее слово имеет индекс: \", tokenizer.word_index[input(\"уточните слово: \")]) #протестируем словарь частотности"
      ],
      "execution_count": 11,
      "outputs": [
        {
          "output_type": "stream",
          "text": [
            "Протестируем словарь частотности\n",
            "уточните слово: он\n",
            "Интересующее слово имеет индекс:  12\n"
          ],
          "name": "stdout"
        }
      ]
    },
    {
      "cell_type": "code",
      "metadata": {
        "id": "qmHQK2HpWx3K",
        "colab_type": "code",
        "outputId": "3898bbbc-f633-4cb7-b127-ea7b98cfe926",
        "colab": {
          "base_uri": "https://localhost:8080/",
          "height": 342
        }
      },
      "source": [
        "train_word_indexes = tokenizer.texts_to_sequences(train_text) \n",
        "test_word_indexes = tokenizer.texts_to_sequences(test_text)   \n",
        "\n",
        "print(\"Взглянем на фрагмент обучающего текста:\")\n",
        "print(\"В виде оригинального текста:              \", train_text[1] [:87])\n",
        "print(\"Он же в виде последовательности индексов: \", train_word_indexes[1][:20])\n",
        "\n",
        "print()\n",
        "print()\n",
        "\n",
        "print(\"Статистика по обучающим текстам:\")\n",
        "for i in range(n_classes):\n",
        "  print(class_name[i], \" \", len(train_text[i]), \" символов, \", len(train_word_indexes[i]), \" слов\")\n",
        "print(\"В сумме \", len(train_text[0])+len(train_text[1]), \" символов, \", len(train_word_indexes[0])+len(train_word_indexes[1]), \" слов\")\n",
        "print()\n",
        "print(\"Статистика по проверочным текстам:\")\n",
        "for i in range(n_classes):\n",
        "  print(class_name[i], \" \", len(test_text[i]), \" символов, \", len(test_word_indexes[i]), \" слов\")\n",
        "print(\"В сумме \", len(test_text[0])+len(test_text[1]), \" символов, \", len(test_word_indexes[0])+len(test_word_indexes[1]), \" слов\")"
      ],
      "execution_count": 12,
      "outputs": [
        {
          "output_type": "stream",
          "text": [
            "Взглянем на фрагмент обучающего текста:\n",
            "В виде оригинального текста:                Михаил Юрьевич Лермонтов. Стихотворения               СТИХОТВОРЕНИЯ      1837-1841    \n",
            "Он же в виде последовательности индексов:  [9979, 9979, 13314, 1785, 1785, 13315, 13316, 13315, 216, 371, 1945, 164, 5005, 992, 718, 9979, 4915, 7, 13317, 3]\n",
            "\n",
            "\n",
            "Статистика по обучающим текстам:\n",
            "Пушкин   419974  символов,  64855  слов\n",
            "Лермонтов   441371  символов,  62445  слов\n",
            "Шекспир   248182  символов,  37451  слов\n",
            "Есенин   231578  символов,  24694  слов\n",
            "Маяковский   204845  символов,  15559  слов\n",
            "В сумме  861345  символов,  127300  слов\n",
            "\n",
            "Статистика по проверочным текстам:\n",
            "Пушкин   187683  символов,  29607  слов\n",
            "Лермонтов   218522  символов,  30837  слов\n",
            "Шекспир   106108  символов,  10286  слов\n",
            "Есенин   5263  символов,  553  слов\n",
            "Маяковский   92434  символов,  6693  слов\n",
            "В сумме  406205  символов,  60444  слов\n"
          ],
          "name": "stdout"
        }
      ]
    },
    {
      "cell_type": "code",
      "metadata": {
        "id": "CP69cPxWdHq3",
        "colab_type": "code",
        "colab": {}
      },
      "source": [
        "###########################\n",
        "# Формирование обучающей выборки по листу индексов слов\n",
        "# (разделение на короткие векторы)\n",
        "##########################\n",
        "def get_set_from_indexes(word_indexes, x_len, step):\n",
        "  x_sample = []\n",
        "  words_len = len(word_indexes)\n",
        "  index = 0\n",
        "  \n",
        "  while (index + x_len <= words_len):\n",
        "    x_sample.append(word_indexes[index:index+x_len])\n",
        "    index += step\n",
        "    \n",
        "  return x_sample"
      ],
      "execution_count": 0,
      "outputs": []
    },
    {
      "cell_type": "code",
      "metadata": {
        "id": "wnVyegrxcnZM",
        "colab_type": "code",
        "colab": {}
      },
      "source": [
        "###########################\n",
        "# Формирование обучающей и проверочной выборки\n",
        "# Из двух листов индексов от двух классов\n",
        "##########################\n",
        "def create_sets_multi_classes(word_indexes, x_len, step): \n",
        "\n",
        "  n_classes = len(word_indexes) \n",
        "  classes_x_samples = []        \n",
        "  for wI in word_indexes:      \n",
        "    classes_x_samples.append(get_set_from_indexes(wI, x_len, step)) \n",
        "\n",
        "  x_samples = []\n",
        "  y_samples = []\n",
        "  \n",
        "  for t in range(n_classes): \n",
        "    xT = classes_x_samples[t]  \n",
        "    for i in range(len(xT)): \n",
        "      x_samples.append(xT[i]) \n",
        "    \n",
        "    # Формируем ySamples по номеру класса\n",
        "    currY = utils.to_categorical(t, n_classes) # текущий класс переводится в вектор длиной 6 вида [0.0.0.1.0.0.]\n",
        "    for i in range(len(xT)): # на каждое окно выборки \n",
        "      y_samples.append(currY) # добавляем соответствующий вектор класса\n",
        "\n",
        "  x_samples = np.array(x_samples)\n",
        "  y_samples = np.array(y_samples)\n",
        "\n",
        "  \n",
        "  return (x_samples, y_samples)  "
      ],
      "execution_count": 0,
      "outputs": []
    },
    {
      "cell_type": "code",
      "metadata": {
        "id": "SgzoAiyawSwJ",
        "colab_type": "code",
        "colab": {}
      },
      "source": [
        "x_len = 200 \n",
        "step = 10 "
      ],
      "execution_count": 0,
      "outputs": []
    },
    {
      "cell_type": "code",
      "metadata": {
        "id": "CqAgZWT8RH0b",
        "colab_type": "code",
        "outputId": "3c36a493-ae31-4db5-92b7-692b944e1f86",
        "colab": {
          "base_uri": "https://localhost:8080/",
          "height": 82
        }
      },
      "source": [
        "# Формируем обучающую и тестовую выборку\n",
        "x_train, y_train = create_sets_multi_classes(train_word_indexes, x_len, step) # извлекаем обучающую выборку\n",
        "x_test, y_test = create_sets_multi_classes(test_word_indexes, x_len, step)    # извлекаем тестовую выборку\n",
        "print(x_train.shape)\n",
        "print(y_train.shape)\n",
        "print(x_test.shape)\n",
        "print(y_test.shape)\n",
        "# получили обучающий/тестовый набор, достаточный для запуска Embedding, но для Bag of Words нужно xTrain и xTest представить в виде векторов из 0 и 1"
      ],
      "execution_count": 16,
      "outputs": [
        {
          "output_type": "stream",
          "text": [
            "(20403, 200)\n",
            "(20403, 5)\n",
            "(7700, 200)\n",
            "(7700, 5)\n"
          ],
          "name": "stdout"
        }
      ]
    },
    {
      "cell_type": "code",
      "metadata": {
        "id": "stHRW8-4mf7G",
        "colab_type": "code",
        "colab": {}
      },
      "source": [
        "###########################\n",
        "# Представляем тестовую выборку в удобных для распознавания размерах\n",
        "##########################\n",
        "def create_test_multi_classes(word_indexes, x_len, step): \n",
        "\n",
        "  n_classes = len(word_indexes) \n",
        "  x_test2_classes01 = []        \n",
        "  x_test2_classes = []          \n",
        "  for wI in word_indexes:       \n",
        "    sample = (get_set_from_indexes(wI, x_len, step)) \n",
        "    x_test2_classes.append(np.array(sample))       \n",
        "    x_test2_classes01.append(tokenizer.sequences_to_matrix(sample)) \n",
        "  x_test2_classes01 = np.array(x_test2_classes01)                   \n",
        "  \n",
        "  return x_test2_classes01, x_test2_classes\n",
        "\n",
        "###########################\n",
        "# Расспознаём тестовую выборку и выводим результаты\n",
        "##########################\n",
        "def recognize_multi_class(model, x_test, model_name):\n",
        "  print(\"НЕЙРОНКА: \", model_name)\n",
        "  print()\n",
        "  \n",
        "  val = []\n",
        "  pred = []\n",
        "  \n",
        "  totalSumRec = []\n",
        "  \n",
        "  for i in range(n_classes):\n",
        "    currPred = model.predict(x_test[i])\n",
        "    pred.append(currPred)\n",
        "    currOut = np.argmax(currPred, axis=1)\n",
        "    \n",
        "    evVal = []\n",
        "    sumRec = []\n",
        "    for j in range(n_classes):\n",
        "      sumRec.append(0)\n",
        "      for t in range(len(currOut)):\n",
        "        if (currOut[t] == j):\n",
        "          sumRec[j] += 1\n",
        "      evVal.append(sumRec[j] / len(currOut))\n",
        "    \n",
        "    totalSumRec.append(sumRec[i])\n",
        "    \n",
        "    val.append(evVal[i])\n",
        "    recognizedClass = np.argmax(evVal)\n",
        "    \n",
        "    isRecognized = \"распознано НЕ ВЕРНО!\"\n",
        "    if (recognizedClass == i):\n",
        "      isRecognized = \"распознано ВЕРНО!\"\n",
        "    print(class_name[i], \" распознано \", int(100*evVal[i]), \"% сеть считает, что это \", class_name[recognizedClass], \", \", isRecognized)\n",
        "  \n",
        "  # Выводим вредний процент распознавания по всем классам вместе\n",
        "  print()\n",
        "  sumVal = 0\n",
        "  sumCount = 0\n",
        "  lenXtest = []\n",
        "  for i in range(n_classes):\n",
        "    sumCount += len(x_test[i])\n",
        "    sumVal += totalSumRec[i]\n",
        "  print(\"Средний процент распознавания \", int(100*sumVal/sumCount), \"%\")\n",
        "  print()\n",
        "  return sumVal/sumCount\n",
        "\n",
        "xTest2Classes01, xTest2Classes = create_test_multi_classes(test_word_indexes, x_len, step) # подгоним форму тестовых классов под функцию recognizeMultiClass"
      ],
      "execution_count": 0,
      "outputs": []
    },
    {
      "cell_type": "markdown",
      "metadata": {
        "id": "-3wem2kF0IlC",
        "colab_type": "text"
      },
      "source": [
        "## Рекуррентная нейросеть"
      ]
    },
    {
      "cell_type": "code",
      "metadata": {
        "id": "XwAE3_dRtyHv",
        "colab_type": "code",
        "outputId": "a76351ff-8027-4391-fbda-5f697e7cf2af",
        "colab": {
          "base_uri": "https://localhost:8080/",
          "height": 1000
        }
      },
      "source": [
        "modelEL = Sequential()\n",
        "\n",
        "modelEL.add(Embedding(max_words_count, 5, input_length=x_len))\n",
        "\n",
        "modelEL.add(SpatialDropout1D(0.2)) \n",
        "modelEL.add(BatchNormalization()) \n",
        "modelEL.add(SimpleRNN(4, dropout=0.2, recurrent_dropout=0.2, activation=\"relu\"))\n",
        "modelEL.add(Dense(5, activation='softmax')) \n",
        "\n",
        "modelEL.compile(optimizer='rmsprop', \n",
        "              loss='categorical_crossentropy', \n",
        "              metrics=['accuracy'])\n",
        "\n",
        "history = modelEL.fit(x_train, \n",
        "                    y_train, \n",
        "                    epochs=30,\n",
        "                    batch_size=512,\n",
        "                    validation_data=(x_test, y_test))\n",
        "\n",
        "plt.plot(history.history['accuracy'], \n",
        "         label='Доля верных ответов на обучающем наборе')\n",
        "plt.plot(history.history['val_accuracy'], \n",
        "         label='Доля верных ответов на проверочном наборе')\n",
        "plt.xlabel('Эпоха обучения')\n",
        "plt.ylabel('Доля верных ответов')\n",
        "plt.legend()\n",
        "plt.show()\n",
        "\n",
        "pred = recognize_multi_class(modelEL, xTest2Classes, \"SimpleRNN\") #функция покажет какие классы и как распознаны верно"
      ],
      "execution_count": 19,
      "outputs": [
        {
          "output_type": "stream",
          "text": [
            "Epoch 1/30\n",
            "40/40 [==============================] - 7s 184ms/step - loss: 1.6554 - accuracy: 0.1997 - val_loss: 1.5757 - val_accuracy: 0.3922\n",
            "Epoch 2/30\n",
            "40/40 [==============================] - 7s 179ms/step - loss: 1.5809 - accuracy: 0.2731 - val_loss: 1.5498 - val_accuracy: 0.3964\n",
            "Epoch 3/30\n",
            "40/40 [==============================] - 7s 176ms/step - loss: 1.5338 - accuracy: 0.3200 - val_loss: 1.5247 - val_accuracy: 0.3839\n",
            "Epoch 4/30\n",
            "40/40 [==============================] - 7s 177ms/step - loss: 1.5002 - accuracy: 0.3347 - val_loss: 1.4992 - val_accuracy: 0.3953\n",
            "Epoch 5/30\n",
            "40/40 [==============================] - 7s 185ms/step - loss: 1.4664 - accuracy: 0.3479 - val_loss: 1.4730 - val_accuracy: 0.3923\n",
            "Epoch 6/30\n",
            "40/40 [==============================] - 7s 177ms/step - loss: 1.4343 - accuracy: 0.3654 - val_loss: 1.4504 - val_accuracy: 0.3964\n",
            "Epoch 7/30\n",
            "40/40 [==============================] - 7s 177ms/step - loss: 1.4067 - accuracy: 0.3829 - val_loss: 1.4289 - val_accuracy: 0.4014\n",
            "Epoch 8/30\n",
            "40/40 [==============================] - 7s 178ms/step - loss: 1.3753 - accuracy: 0.4052 - val_loss: 1.4135 - val_accuracy: 0.4016\n",
            "Epoch 9/30\n",
            "40/40 [==============================] - 7s 176ms/step - loss: 1.3458 - accuracy: 0.4218 - val_loss: 1.3981 - val_accuracy: 0.4039\n",
            "Epoch 10/30\n",
            "40/40 [==============================] - 7s 178ms/step - loss: 1.3158 - accuracy: 0.4340 - val_loss: 1.3862 - val_accuracy: 0.4091\n",
            "Epoch 11/30\n",
            "40/40 [==============================] - 7s 176ms/step - loss: 1.2932 - accuracy: 0.4424 - val_loss: 1.3784 - val_accuracy: 0.4112\n",
            "Epoch 12/30\n",
            "40/40 [==============================] - 7s 175ms/step - loss: 1.2709 - accuracy: 0.4552 - val_loss: 1.3771 - val_accuracy: 0.4064\n",
            "Epoch 13/30\n",
            "40/40 [==============================] - 7s 175ms/step - loss: 1.2482 - accuracy: 0.4624 - val_loss: 1.3768 - val_accuracy: 0.4053\n",
            "Epoch 14/30\n",
            "40/40 [==============================] - 7s 175ms/step - loss: 1.2275 - accuracy: 0.4729 - val_loss: 1.3779 - val_accuracy: 0.4086\n",
            "Epoch 15/30\n",
            "40/40 [==============================] - 7s 175ms/step - loss: 1.2117 - accuracy: 0.4754 - val_loss: 1.3844 - val_accuracy: 0.4051\n",
            "Epoch 16/30\n",
            "40/40 [==============================] - 7s 176ms/step - loss: 1.2017 - accuracy: 0.4843 - val_loss: 1.3923 - val_accuracy: 0.4062\n",
            "Epoch 17/30\n",
            "40/40 [==============================] - 7s 176ms/step - loss: 1.1912 - accuracy: 0.4886 - val_loss: 1.3971 - val_accuracy: 0.4090\n",
            "Epoch 18/30\n",
            "40/40 [==============================] - 7s 177ms/step - loss: 1.1661 - accuracy: 0.4987 - val_loss: 1.4053 - val_accuracy: 0.4117\n",
            "Epoch 19/30\n",
            "40/40 [==============================] - 7s 174ms/step - loss: 1.1542 - accuracy: 0.5093 - val_loss: 1.4131 - val_accuracy: 0.4127\n",
            "Epoch 20/30\n",
            "40/40 [==============================] - 7s 178ms/step - loss: 1.1428 - accuracy: 0.5117 - val_loss: 1.4239 - val_accuracy: 0.4091\n",
            "Epoch 21/30\n",
            "40/40 [==============================] - 7s 176ms/step - loss: 1.1276 - accuracy: 0.5149 - val_loss: 1.4269 - val_accuracy: 0.4140\n",
            "Epoch 22/30\n",
            "40/40 [==============================] - 7s 175ms/step - loss: 1.1128 - accuracy: 0.5223 - val_loss: 1.4364 - val_accuracy: 0.4135\n",
            "Epoch 23/30\n",
            "40/40 [==============================] - 7s 174ms/step - loss: 1.1020 - accuracy: 0.5279 - val_loss: 1.4439 - val_accuracy: 0.4152\n",
            "Epoch 24/30\n",
            "40/40 [==============================] - 7s 174ms/step - loss: 1.0903 - accuracy: 0.5284 - val_loss: 1.4528 - val_accuracy: 0.4119\n",
            "Epoch 25/30\n",
            "40/40 [==============================] - 7s 174ms/step - loss: 1.0779 - accuracy: 0.5332 - val_loss: 1.4597 - val_accuracy: 0.4149\n",
            "Epoch 26/30\n",
            "40/40 [==============================] - 7s 175ms/step - loss: 1.0588 - accuracy: 0.5450 - val_loss: 1.4681 - val_accuracy: 0.4140\n",
            "Epoch 27/30\n",
            "40/40 [==============================] - 7s 173ms/step - loss: 1.0545 - accuracy: 0.5392 - val_loss: 1.4756 - val_accuracy: 0.4129\n",
            "Epoch 28/30\n",
            "40/40 [==============================] - 7s 175ms/step - loss: 1.0450 - accuracy: 0.5478 - val_loss: 1.4815 - val_accuracy: 0.4071\n",
            "Epoch 29/30\n",
            "40/40 [==============================] - 7s 177ms/step - loss: 1.0318 - accuracy: 0.5554 - val_loss: 1.4898 - val_accuracy: 0.4003\n",
            "Epoch 30/30\n",
            "40/40 [==============================] - 7s 174ms/step - loss: 1.0225 - accuracy: 0.5574 - val_loss: 1.4933 - val_accuracy: 0.3996\n"
          ],
          "name": "stdout"
        },
        {
          "output_type": "display_data",
          "data": {
            "image/png": "[encoded data removed]",
            "text/plain": [
              "<Figure size 432x288 with 1 Axes>"
            ]
          },
          "metadata": {
            "tags": [],
            "needs_background": "light"
          }
        },
        {
          "output_type": "stream",
          "text": [
            "НЕЙРОНКА:  SimpleRNN\n",
            "\n",
            "Пушкин  распознано  52 % сеть считает, что это  Пушкин ,  распознано ВЕРНО!\n",
            "Лермонтов  распознано  43 % сеть считает, что это  Пушкин ,  распознано НЕ ВЕРНО!\n",
            "Шекспир  распознано  10 % сеть считает, что это  Пушкин ,  распознано НЕ ВЕРНО!\n",
            "Есенин  распознано  0 % сеть считает, что это  Пушкин ,  распознано НЕ ВЕРНО!\n",
            "Маяковский  распознано  14 % сеть считает, что это  Пушкин ,  распознано НЕ ВЕРНО!\n",
            "\n",
            "Средний процент распознавания  39 %\n",
            "\n"
          ],
          "name": "stdout"
        }
      ]
    },
    {
      "cell_type": "code",
      "metadata": {
        "id": "XLAtih8oPVf9",
        "colab_type": "code",
        "outputId": "cb259fca-bef4-42fb-c785-f2159364ef65",
        "colab": {
          "base_uri": "https://localhost:8080/",
          "height": 1000
        }
      },
      "source": [
        "modelEL = Sequential()\n",
        "\n",
        "modelEL.add(Embedding(max_words_count, 5, input_length=x_len))\n",
        "\n",
        "modelEL.add(SpatialDropout1D(0.2))\n",
        "modelEL.add(BatchNormalization()) \n",
        "modelEL.add(GRU(4, dropout=0.2, recurrent_dropout=0.2, activation=\"relu\"))\n",
        "modelEL.add(Dense(5, activation='softmax')) \n",
        "\n",
        "modelEL.compile(optimizer='rmsprop', \n",
        "              loss='categorical_crossentropy', \n",
        "              metrics=['accuracy'])\n",
        "\n",
        "history = modelEL.fit(x_train, \n",
        "                    y_train, \n",
        "                    epochs=30,\n",
        "                    batch_size=512,\n",
        "                    validation_data=(x_test, y_test))\n",
        "\n",
        "plt.plot(history.history['accuracy'], \n",
        "         label='Доля верных ответов на обучающем наборе')\n",
        "plt.plot(history.history['val_accuracy'], \n",
        "         label='Доля верных ответов на проверочном наборе')\n",
        "plt.xlabel('Эпоха обучения')\n",
        "plt.ylabel('Доля верных ответов')\n",
        "plt.legend()\n",
        "plt.show()\n",
        "\n",
        "pred = recognize_multi_class(modelEL, xTest2Classes, \"Embedding + LSTM\") #функция покажет какие классы и как распознаны верно"
      ],
      "execution_count": 20,
      "outputs": [
        {
          "output_type": "stream",
          "text": [
            "WARNING:tensorflow:Layer gru will not use cuDNN kernel since it doesn't meet the cuDNN kernel criteria. It will use generic GPU kernel as fallback when running on GPU\n",
            "Epoch 1/30\n",
            "40/40 [==============================] - 21s 536ms/step - loss: 1.5952 - accuracy: 0.2439 - val_loss: 1.5591 - val_accuracy: 0.3861\n",
            "Epoch 2/30\n",
            "40/40 [==============================] - 21s 535ms/step - loss: 1.4647 - accuracy: 0.3942 - val_loss: 1.5010 - val_accuracy: 0.4316\n",
            "Epoch 3/30\n",
            "40/40 [==============================] - 22s 538ms/step - loss: 1.3351 - accuracy: 0.4563 - val_loss: 1.4422 - val_accuracy: 0.4286\n",
            "Epoch 4/30\n",
            "40/40 [==============================] - 21s 533ms/step - loss: 1.2121 - accuracy: 0.4966 - val_loss: 1.3945 - val_accuracy: 0.4265\n",
            "Epoch 5/30\n",
            "40/40 [==============================] - 21s 532ms/step - loss: 1.0535 - accuracy: 0.5616 - val_loss: 1.3738 - val_accuracy: 0.4504\n",
            "Epoch 6/30\n",
            "40/40 [==============================] - 22s 541ms/step - loss: 0.9362 - accuracy: 0.6080 - val_loss: 1.3843 - val_accuracy: 0.4731\n",
            "Epoch 7/30\n",
            "40/40 [==============================] - 21s 532ms/step - loss: 0.8338 - accuracy: 0.6597 - val_loss: 1.4119 - val_accuracy: 0.4466\n",
            "Epoch 8/30\n",
            "40/40 [==============================] - 22s 538ms/step - loss: 0.7106 - accuracy: 0.7196 - val_loss: 1.4712 - val_accuracy: 0.4049\n",
            "Epoch 9/30\n",
            "40/40 [==============================] - 21s 532ms/step - loss: 0.5786 - accuracy: 0.7705 - val_loss: 1.5142 - val_accuracy: 0.4118\n",
            "Epoch 10/30\n",
            "40/40 [==============================] - 21s 534ms/step - loss: 0.4624 - accuracy: 0.8192 - val_loss: 1.5919 - val_accuracy: 0.4158\n",
            "Epoch 11/30\n",
            "40/40 [==============================] - 22s 538ms/step - loss: 0.3709 - accuracy: 0.8630 - val_loss: 1.6430 - val_accuracy: 0.4583\n",
            "Epoch 12/30\n",
            "40/40 [==============================] - 21s 534ms/step - loss: 0.2932 - accuracy: 0.9008 - val_loss: 1.7918 - val_accuracy: 0.4731\n",
            "Epoch 13/30\n",
            "40/40 [==============================] - 21s 535ms/step - loss: 0.2336 - accuracy: 0.9237 - val_loss: 1.7641 - val_accuracy: 0.5517\n",
            "Epoch 14/30\n",
            "40/40 [==============================] - 21s 535ms/step - loss: 0.1943 - accuracy: 0.9382 - val_loss: 1.8237 - val_accuracy: 0.6242\n",
            "Epoch 15/30\n",
            "40/40 [==============================] - 21s 533ms/step - loss: 0.1608 - accuracy: 0.9493 - val_loss: 1.9205 - val_accuracy: 0.6544\n",
            "Epoch 16/30\n",
            "40/40 [==============================] - 21s 533ms/step - loss: 0.1325 - accuracy: 0.9599 - val_loss: 2.0889 - val_accuracy: 0.6605\n",
            "Epoch 17/30\n",
            "40/40 [==============================] - 22s 540ms/step - loss: 0.1142 - accuracy: 0.9643 - val_loss: 2.1607 - val_accuracy: 0.6766\n",
            "Epoch 18/30\n",
            "40/40 [==============================] - 21s 535ms/step - loss: 0.0936 - accuracy: 0.9713 - val_loss: 2.4126 - val_accuracy: 0.6713\n",
            "Epoch 19/30\n",
            "40/40 [==============================] - 21s 531ms/step - loss: 0.0843 - accuracy: 0.9750 - val_loss: 2.6225 - val_accuracy: 0.6487\n",
            "Epoch 20/30\n",
            "40/40 [==============================] - 22s 540ms/step - loss: 0.0742 - accuracy: 0.9787 - val_loss: 2.7185 - val_accuracy: 0.6405\n",
            "Epoch 21/30\n",
            "40/40 [==============================] - 21s 530ms/step - loss: 0.0689 - accuracy: 0.9811 - val_loss: 2.8990 - val_accuracy: 0.6431\n",
            "Epoch 22/30\n",
            "40/40 [==============================] - 21s 533ms/step - loss: 0.0589 - accuracy: 0.9837 - val_loss: 3.0769 - val_accuracy: 0.6390\n",
            "Epoch 23/30\n",
            "40/40 [==============================] - 21s 532ms/step - loss: 0.0546 - accuracy: 0.9848 - val_loss: 3.1991 - val_accuracy: 0.6368\n",
            "Epoch 24/30\n",
            "40/40 [==============================] - 21s 532ms/step - loss: 0.0518 - accuracy: 0.9853 - val_loss: 3.2773 - val_accuracy: 0.6297\n",
            "Epoch 25/30\n",
            "40/40 [==============================] - 21s 530ms/step - loss: 0.0452 - accuracy: 0.9870 - val_loss: 3.4136 - val_accuracy: 0.6309\n",
            "Epoch 26/30\n",
            "40/40 [==============================] - 22s 538ms/step - loss: 0.0460 - accuracy: 0.9875 - val_loss: 3.4341 - val_accuracy: 0.6158\n",
            "Epoch 27/30\n",
            "40/40 [==============================] - 21s 531ms/step - loss: 0.0436 - accuracy: 0.9869 - val_loss: 3.5475 - val_accuracy: 0.6140\n",
            "Epoch 28/30\n",
            "40/40 [==============================] - 21s 531ms/step - loss: 0.0381 - accuracy: 0.9895 - val_loss: 3.7019 - val_accuracy: 0.6110\n",
            "Epoch 29/30\n",
            "40/40 [==============================] - 21s 531ms/step - loss: 0.0362 - accuracy: 0.9900 - val_loss: 3.7403 - val_accuracy: 0.6234\n",
            "Epoch 30/30\n",
            "40/40 [==============================] - 21s 533ms/step - loss: 0.0326 - accuracy: 0.9904 - val_loss: 3.8176 - val_accuracy: 0.6227\n"
          ],
          "name": "stdout"
        },
        {
          "output_type": "display_data",
          "data": {
            "image/png": "[encoded data removed]",
            "text/plain": [
              "<Figure size 432x288 with 1 Axes>"
            ]
          },
          "metadata": {
            "tags": [],
            "needs_background": "light"
          }
        },
        {
          "output_type": "stream",
          "text": [
            "НЕЙРОНКА:  Embedding + LSTM\n",
            "\n",
            "Пушкин  распознано  82 % сеть считает, что это  Пушкин ,  распознано ВЕРНО!\n",
            "Лермонтов  распознано  58 % сеть считает, что это  Лермонтов ,  распознано ВЕРНО!\n",
            "Шекспир  распознано  0 % сеть считает, что это  Пушкин ,  распознано НЕ ВЕРНО!\n",
            "Есенин  распознано  58 % сеть считает, что это  Есенин ,  распознано ВЕРНО!\n",
            "Маяковский  распознано  86 % сеть считает, что это  Маяковский ,  распознано ВЕРНО!\n",
            "\n",
            "Средний процент распознавания  62 %\n",
            "\n"
          ],
          "name": "stdout"
        }
      ]
    },
    {
      "cell_type": "code",
      "metadata": {
        "id": "as9QWOp2QA0m",
        "colab_type": "code",
        "outputId": "f995594b-e9e3-4724-9182-ddb5667b215c",
        "colab": {
          "base_uri": "https://localhost:8080/",
          "height": 1000
        }
      },
      "source": [
        "modelEL = Sequential() \n",
        "\n",
        "modelEL.add(Embedding(max_words_count, 5, input_length=x_len))\n",
        "\n",
        "modelEL.add(SpatialDropout1D(0.2))\n",
        "modelEL.add(BatchNormalization()) \n",
        "modelEL.add(LSTM(4))\n",
        "modelEL.add(Dense(5, activation='softmax')) \n",
        "\n",
        "modelEL.compile(optimizer='rmsprop', \n",
        "              loss='categorical_crossentropy', \n",
        "              metrics=['accuracy'])\n",
        "\n",
        "# Обучаем сеть с указанием тренировочной выборки, количества эпох, размера минибатча для подачи сети, и тестовой выборки\n",
        "history = modelEL.fit(x_train, \n",
        "                    y_train, \n",
        "                    epochs=30,\n",
        "                    batch_size=64,\n",
        "                    validation_data=(x_test, y_test))\n",
        "\n",
        "# Строим график для отображения динамики обучения и точности предсказания сети\n",
        "plt.plot(history.history['accuracy'], \n",
        "         label='Доля верных ответов на обучающем наборе')\n",
        "plt.plot(history.history['val_accuracy'], \n",
        "         label='Доля верных ответов на проверочном наборе')\n",
        "plt.xlabel('Эпоха обучения')\n",
        "plt.ylabel('Доля верных ответов')\n",
        "plt.legend()\n",
        "plt.show()\n",
        "\n",
        "pred = recognize_multi_class(modelEL, xTest2Classes, \"Embedding + LSTM\") #функция покажет какие классы и как распознаны верно"
      ],
      "execution_count": 21,
      "outputs": [
        {
          "output_type": "stream",
          "text": [
            "Epoch 1/30\n",
            "319/319 [==============================] - 4s 13ms/step - loss: 1.3116 - accuracy: 0.4413 - val_loss: 1.3722 - val_accuracy: 0.3816\n",
            "Epoch 2/30\n",
            "319/319 [==============================] - 4s 12ms/step - loss: 0.9724 - accuracy: 0.5510 - val_loss: 1.4124 - val_accuracy: 0.3779\n",
            "Epoch 3/30\n",
            "319/319 [==============================] - 4s 12ms/step - loss: 0.8164 - accuracy: 0.6410 - val_loss: 1.3933 - val_accuracy: 0.4092\n",
            "Epoch 4/30\n",
            "319/319 [==============================] - 4s 12ms/step - loss: 0.7404 - accuracy: 0.6774 - val_loss: 1.4748 - val_accuracy: 0.4238\n",
            "Epoch 5/30\n",
            "319/319 [==============================] - 4s 12ms/step - loss: 0.6751 - accuracy: 0.7543 - val_loss: 1.4356 - val_accuracy: 0.5247\n",
            "Epoch 6/30\n",
            "319/319 [==============================] - 4s 12ms/step - loss: 0.5555 - accuracy: 0.8413 - val_loss: 1.2942 - val_accuracy: 0.6053\n",
            "Epoch 7/30\n",
            "319/319 [==============================] - 4s 12ms/step - loss: 0.4761 - accuracy: 0.8621 - val_loss: 1.2993 - val_accuracy: 0.6134\n",
            "Epoch 8/30\n",
            "319/319 [==============================] - 4s 12ms/step - loss: 0.4159 - accuracy: 0.8733 - val_loss: 1.4790 - val_accuracy: 0.5655\n",
            "Epoch 9/30\n",
            "319/319 [==============================] - 4s 12ms/step - loss: 0.3751 - accuracy: 0.8804 - val_loss: 1.4174 - val_accuracy: 0.5999\n",
            "Epoch 10/30\n",
            "319/319 [==============================] - 4s 12ms/step - loss: 0.3434 - accuracy: 0.8820 - val_loss: 1.6668 - val_accuracy: 0.5478\n",
            "Epoch 11/30\n",
            "319/319 [==============================] - 4s 12ms/step - loss: 0.3186 - accuracy: 0.8881 - val_loss: 1.7782 - val_accuracy: 0.5421\n",
            "Epoch 12/30\n",
            "319/319 [==============================] - 4s 12ms/step - loss: 0.3057 - accuracy: 0.8975 - val_loss: 1.8604 - val_accuracy: 0.5278\n",
            "Epoch 13/30\n",
            "319/319 [==============================] - 4s 12ms/step - loss: 0.2802 - accuracy: 0.9172 - val_loss: 1.9614 - val_accuracy: 0.5434\n",
            "Epoch 14/30\n",
            "319/319 [==============================] - 4s 12ms/step - loss: 0.2528 - accuracy: 0.9385 - val_loss: 1.9977 - val_accuracy: 0.5617\n",
            "Epoch 15/30\n",
            "319/319 [==============================] - 4s 12ms/step - loss: 0.2179 - accuracy: 0.9548 - val_loss: 1.9480 - val_accuracy: 0.5891\n",
            "Epoch 16/30\n",
            "319/319 [==============================] - 4s 12ms/step - loss: 0.2107 - accuracy: 0.9564 - val_loss: 2.1303 - val_accuracy: 0.5560\n",
            "Epoch 17/30\n",
            "319/319 [==============================] - 4s 13ms/step - loss: 0.1757 - accuracy: 0.9646 - val_loss: 1.7656 - val_accuracy: 0.6325\n",
            "Epoch 18/30\n",
            "319/319 [==============================] - 4s 13ms/step - loss: 0.1689 - accuracy: 0.9658 - val_loss: 2.0064 - val_accuracy: 0.5864\n",
            "Epoch 19/30\n",
            "319/319 [==============================] - 4s 12ms/step - loss: 0.1781 - accuracy: 0.9643 - val_loss: 1.9987 - val_accuracy: 0.5791\n",
            "Epoch 20/30\n",
            "319/319 [==============================] - 4s 12ms/step - loss: 0.1358 - accuracy: 0.9727 - val_loss: 1.7952 - val_accuracy: 0.6335\n",
            "Epoch 21/30\n",
            "319/319 [==============================] - 4s 12ms/step - loss: 0.1313 - accuracy: 0.9741 - val_loss: 2.1229 - val_accuracy: 0.5764\n",
            "Epoch 22/30\n",
            "319/319 [==============================] - 4s 12ms/step - loss: 0.1335 - accuracy: 0.9725 - val_loss: 1.8152 - val_accuracy: 0.6286\n",
            "Epoch 23/30\n",
            "319/319 [==============================] - 4s 12ms/step - loss: 0.1344 - accuracy: 0.9721 - val_loss: 1.9986 - val_accuracy: 0.5883\n",
            "Epoch 24/30\n",
            "319/319 [==============================] - 4s 12ms/step - loss: 0.1305 - accuracy: 0.9736 - val_loss: 2.1245 - val_accuracy: 0.5892\n",
            "Epoch 25/30\n",
            "319/319 [==============================] - 4s 12ms/step - loss: 0.1196 - accuracy: 0.9762 - val_loss: 2.1083 - val_accuracy: 0.5918\n",
            "Epoch 26/30\n",
            "319/319 [==============================] - 4s 12ms/step - loss: 0.1334 - accuracy: 0.9726 - val_loss: 1.9709 - val_accuracy: 0.5983\n",
            "Epoch 27/30\n",
            "319/319 [==============================] - 4s 12ms/step - loss: 0.1290 - accuracy: 0.9734 - val_loss: 2.1789 - val_accuracy: 0.5706\n",
            "Epoch 28/30\n",
            "319/319 [==============================] - 4s 12ms/step - loss: 0.1104 - accuracy: 0.9770 - val_loss: 2.1014 - val_accuracy: 0.5734\n",
            "Epoch 29/30\n",
            "319/319 [==============================] - 4s 12ms/step - loss: 0.1115 - accuracy: 0.9771 - val_loss: 2.1389 - val_accuracy: 0.5929\n",
            "Epoch 30/30\n",
            "319/319 [==============================] - 4s 12ms/step - loss: 0.1032 - accuracy: 0.9787 - val_loss: 2.0306 - val_accuracy: 0.6078\n"
          ],
          "name": "stdout"
        },
        {
          "output_type": "display_data",
          "data": {
            "image/png": "[encoded data removed]",
            "text/plain": [
              "<Figure size 432x288 with 1 Axes>"
            ]
          },
          "metadata": {
            "tags": [],
            "needs_background": "light"
          }
        },
        {
          "output_type": "stream",
          "text": [
            "НЕЙРОНКА:  Embedding + LSTM\n",
            "\n",
            "Пушкин  распознано  40 % сеть считает, что это  Лермонтов ,  распознано НЕ ВЕРНО!\n",
            "Лермонтов  распознано  97 % сеть считает, что это  Лермонтов ,  распознано ВЕРНО!\n",
            "Шекспир  распознано  0 % сеть считает, что это  Лермонтов ,  распознано НЕ ВЕРНО!\n",
            "Есенин  распознано  94 % сеть считает, что это  Есенин ,  распознано ВЕРНО!\n",
            "Маяковский  распознано  73 % сеть считает, что это  Маяковский ,  распознано ВЕРНО!\n",
            "\n",
            "Средний процент распознавания  60 %\n",
            "\n"
          ],
          "name": "stdout"
        }
      ]
    },
    {
      "cell_type": "code",
      "metadata": {
        "id": "noNE62y6ULv2",
        "colab_type": "code",
        "outputId": "621adff0-15c4-4ec3-801f-4bde88de4edc",
        "colab": {
          "base_uri": "https://localhost:8080/",
          "height": 1000
        }
      },
      "source": [
        "modelEL = Sequential() \n",
        "\n",
        "\n",
        "modelEL.add(Embedding(max_words_count, 5, input_length=x_len))\n",
        "\n",
        "modelEL.add(SpatialDropout1D(0.2)) \n",
        "modelEL.add(BatchNormalization())  \n",
        "modelEL.add(LSTM(4, return_sequences=1))\n",
        "modelEL.add(LSTM(4))\n",
        "modelEL.add(Dense(5, activation='softmax')) \n",
        "\n",
        "modelEL.compile(optimizer='rmsprop', \n",
        "              loss='categorical_crossentropy', \n",
        "              metrics=['accuracy'])\n",
        "\n",
        "history = modelEL.fit(x_train, \n",
        "                    y_train, \n",
        "                    epochs=50,\n",
        "                    batch_size=512,\n",
        "                    validation_data=(x_test, y_test))\n",
        "\n",
        "# Строим график для отображения динамики обучения и точности предсказания сети\n",
        "plt.plot(history.history['accuracy'], \n",
        "         label='Доля верных ответов на обучающем наборе')\n",
        "plt.plot(history.history['val_accuracy'], \n",
        "         label='Доля верных ответов на проверочном наборе')\n",
        "plt.xlabel('Эпоха обучения')\n",
        "plt.ylabel('Доля верных ответов')\n",
        "plt.legend()\n",
        "plt.show()\n",
        "\n",
        "pred = recognize_multi_class(modelEL, xTest2Classes, \"Embedding + LSTM\") # функция покажет какие классы и как распознаны верно"
      ],
      "execution_count": 22,
      "outputs": [
        {
          "output_type": "stream",
          "text": [
            "Epoch 1/50\n",
            "40/40 [==============================] - 2s 41ms/step - loss: 1.5287 - accuracy: 0.3701 - val_loss: 1.4735 - val_accuracy: 0.3819\n",
            "Epoch 2/50\n",
            "40/40 [==============================] - 1s 27ms/step - loss: 1.3520 - accuracy: 0.4623 - val_loss: 1.3863 - val_accuracy: 0.3821\n",
            "Epoch 3/50\n",
            "40/40 [==============================] - 1s 27ms/step - loss: 1.1933 - accuracy: 0.4999 - val_loss: 1.3366 - val_accuracy: 0.3819\n",
            "Epoch 4/50\n",
            "40/40 [==============================] - 1s 27ms/step - loss: 1.0730 - accuracy: 0.5122 - val_loss: 1.2900 - val_accuracy: 0.3822\n",
            "Epoch 5/50\n",
            "40/40 [==============================] - 1s 27ms/step - loss: 0.9933 - accuracy: 0.5179 - val_loss: 1.2830 - val_accuracy: 0.3299\n",
            "Epoch 6/50\n",
            "40/40 [==============================] - 1s 28ms/step - loss: 0.9308 - accuracy: 0.5528 - val_loss: 1.2851 - val_accuracy: 0.3161\n",
            "Epoch 7/50\n",
            "40/40 [==============================] - 1s 28ms/step - loss: 0.8706 - accuracy: 0.6943 - val_loss: 1.2924 - val_accuracy: 0.3731\n",
            "Epoch 8/50\n",
            "40/40 [==============================] - 1s 27ms/step - loss: 0.8087 - accuracy: 0.7955 - val_loss: 1.2802 - val_accuracy: 0.4188\n",
            "Epoch 9/50\n",
            "40/40 [==============================] - 1s 28ms/step - loss: 0.7315 - accuracy: 0.8451 - val_loss: 1.4261 - val_accuracy: 0.3755\n",
            "Epoch 10/50\n",
            "40/40 [==============================] - 1s 27ms/step - loss: 0.6644 - accuracy: 0.8677 - val_loss: 1.4130 - val_accuracy: 0.3832\n",
            "Epoch 11/50\n",
            "40/40 [==============================] - 1s 28ms/step - loss: 0.5979 - accuracy: 0.8696 - val_loss: 1.5141 - val_accuracy: 0.3422\n",
            "Epoch 12/50\n",
            "40/40 [==============================] - 1s 27ms/step - loss: 0.5536 - accuracy: 0.8608 - val_loss: 1.6022 - val_accuracy: 0.3547\n",
            "Epoch 13/50\n",
            "40/40 [==============================] - 1s 27ms/step - loss: 0.5065 - accuracy: 0.8678 - val_loss: 1.4079 - val_accuracy: 0.4666\n",
            "Epoch 14/50\n",
            "40/40 [==============================] - 1s 27ms/step - loss: 0.4473 - accuracy: 0.8940 - val_loss: 1.4757 - val_accuracy: 0.4383\n",
            "Epoch 15/50\n",
            "40/40 [==============================] - 1s 27ms/step - loss: 0.4107 - accuracy: 0.9005 - val_loss: 1.3897 - val_accuracy: 0.4813\n",
            "Epoch 16/50\n",
            "40/40 [==============================] - 1s 27ms/step - loss: 0.3830 - accuracy: 0.9039 - val_loss: 1.3839 - val_accuracy: 0.4694\n",
            "Epoch 17/50\n",
            "40/40 [==============================] - 1s 27ms/step - loss: 0.3550 - accuracy: 0.9059 - val_loss: 1.4006 - val_accuracy: 0.4788\n",
            "Epoch 18/50\n",
            "40/40 [==============================] - 1s 27ms/step - loss: 0.3468 - accuracy: 0.9022 - val_loss: 1.6128 - val_accuracy: 0.4932\n",
            "Epoch 19/50\n",
            "40/40 [==============================] - 1s 27ms/step - loss: 0.3247 - accuracy: 0.9009 - val_loss: 1.4468 - val_accuracy: 0.5251\n",
            "Epoch 20/50\n",
            "40/40 [==============================] - 1s 27ms/step - loss: 0.3037 - accuracy: 0.9050 - val_loss: 1.5208 - val_accuracy: 0.5035\n",
            "Epoch 21/50\n",
            "40/40 [==============================] - 1s 27ms/step - loss: 0.2885 - accuracy: 0.9040 - val_loss: 1.6797 - val_accuracy: 0.4929\n",
            "Epoch 22/50\n",
            "40/40 [==============================] - 1s 27ms/step - loss: 0.2628 - accuracy: 0.9252 - val_loss: 1.5417 - val_accuracy: 0.5849\n",
            "Epoch 23/50\n",
            "40/40 [==============================] - 1s 27ms/step - loss: 0.2471 - accuracy: 0.9665 - val_loss: 1.6765 - val_accuracy: 0.5291\n",
            "Epoch 24/50\n",
            "40/40 [==============================] - 1s 26ms/step - loss: 0.2242 - accuracy: 0.9727 - val_loss: 1.8783 - val_accuracy: 0.4865\n",
            "Epoch 25/50\n",
            "40/40 [==============================] - 1s 27ms/step - loss: 0.2233 - accuracy: 0.9731 - val_loss: 2.0433 - val_accuracy: 0.4671\n",
            "Epoch 26/50\n",
            "40/40 [==============================] - 1s 27ms/step - loss: 0.2097 - accuracy: 0.9716 - val_loss: 2.0101 - val_accuracy: 0.4795\n",
            "Epoch 27/50\n",
            "40/40 [==============================] - 1s 27ms/step - loss: 0.2044 - accuracy: 0.9727 - val_loss: 2.1578 - val_accuracy: 0.4675\n",
            "Epoch 28/50\n",
            "40/40 [==============================] - 1s 28ms/step - loss: 0.1722 - accuracy: 0.9809 - val_loss: 2.0324 - val_accuracy: 0.4896\n",
            "Epoch 29/50\n",
            "40/40 [==============================] - 1s 27ms/step - loss: 0.1673 - accuracy: 0.9803 - val_loss: 2.0067 - val_accuracy: 0.5087\n",
            "Epoch 30/50\n",
            "40/40 [==============================] - 1s 27ms/step - loss: 0.1677 - accuracy: 0.9793 - val_loss: 2.3015 - val_accuracy: 0.4399\n",
            "Epoch 31/50\n",
            "40/40 [==============================] - 1s 27ms/step - loss: 0.1532 - accuracy: 0.9792 - val_loss: 2.3489 - val_accuracy: 0.4806\n",
            "Epoch 32/50\n",
            "40/40 [==============================] - 1s 27ms/step - loss: 0.1468 - accuracy: 0.9816 - val_loss: 2.6355 - val_accuracy: 0.4323\n",
            "Epoch 33/50\n",
            "40/40 [==============================] - 1s 27ms/step - loss: 0.1608 - accuracy: 0.9751 - val_loss: 2.1863 - val_accuracy: 0.5256\n",
            "Epoch 34/50\n",
            "40/40 [==============================] - 1s 27ms/step - loss: 0.1408 - accuracy: 0.9805 - val_loss: 2.3868 - val_accuracy: 0.4897\n",
            "Epoch 35/50\n",
            "40/40 [==============================] - 1s 27ms/step - loss: 0.1255 - accuracy: 0.9843 - val_loss: 2.6458 - val_accuracy: 0.4543\n",
            "Epoch 36/50\n",
            "40/40 [==============================] - 1s 27ms/step - loss: 0.1331 - accuracy: 0.9815 - val_loss: 2.3288 - val_accuracy: 0.5095\n",
            "Epoch 37/50\n",
            "40/40 [==============================] - 1s 27ms/step - loss: 0.1356 - accuracy: 0.9781 - val_loss: 2.4991 - val_accuracy: 0.4703\n",
            "Epoch 38/50\n",
            "40/40 [==============================] - 1s 27ms/step - loss: 0.1157 - accuracy: 0.9839 - val_loss: 2.6569 - val_accuracy: 0.4405\n",
            "Epoch 39/50\n",
            "40/40 [==============================] - 1s 27ms/step - loss: 0.1229 - accuracy: 0.9815 - val_loss: 2.6002 - val_accuracy: 0.4621\n",
            "Epoch 40/50\n",
            "40/40 [==============================] - 1s 27ms/step - loss: 0.1332 - accuracy: 0.9789 - val_loss: 2.2296 - val_accuracy: 0.5303\n",
            "Epoch 41/50\n",
            "40/40 [==============================] - 1s 27ms/step - loss: 0.1637 - accuracy: 0.9713 - val_loss: 2.1242 - val_accuracy: 0.5522\n",
            "Epoch 42/50\n",
            "40/40 [==============================] - 1s 27ms/step - loss: 0.1327 - accuracy: 0.9773 - val_loss: 2.4437 - val_accuracy: 0.5090\n",
            "Epoch 43/50\n",
            "40/40 [==============================] - 1s 27ms/step - loss: 0.1144 - accuracy: 0.9825 - val_loss: 2.4982 - val_accuracy: 0.5099\n",
            "Epoch 44/50\n",
            "40/40 [==============================] - 1s 27ms/step - loss: 0.1150 - accuracy: 0.9825 - val_loss: 2.6581 - val_accuracy: 0.4884\n",
            "Epoch 45/50\n",
            "40/40 [==============================] - 1s 27ms/step - loss: 0.1016 - accuracy: 0.9846 - val_loss: 2.4511 - val_accuracy: 0.5032\n",
            "Epoch 46/50\n",
            "40/40 [==============================] - 1s 27ms/step - loss: 0.1034 - accuracy: 0.9827 - val_loss: 2.5452 - val_accuracy: 0.5051\n",
            "Epoch 47/50\n",
            "40/40 [==============================] - 1s 27ms/step - loss: 0.1029 - accuracy: 0.9826 - val_loss: 2.5887 - val_accuracy: 0.5004\n",
            "Epoch 48/50\n",
            "40/40 [==============================] - 1s 27ms/step - loss: 0.1050 - accuracy: 0.9813 - val_loss: 2.5612 - val_accuracy: 0.5029\n",
            "Epoch 49/50\n",
            "40/40 [==============================] - 1s 27ms/step - loss: 0.1448 - accuracy: 0.9746 - val_loss: 2.6949 - val_accuracy: 0.4803\n",
            "Epoch 50/50\n",
            "40/40 [==============================] - 1s 27ms/step - loss: 0.0995 - accuracy: 0.9828 - val_loss: 2.8914 - val_accuracy: 0.4668\n"
          ],
          "name": "stdout"
        },
        {
          "output_type": "display_data",
          "data": {
            "image/png": "[encoded data removed]",
            "text/plain": [
              "<Figure size 432x288 with 1 Axes>"
            ]
          },
          "metadata": {
            "tags": [],
            "needs_background": "light"
          }
        },
        {
          "output_type": "stream",
          "text": [
            "НЕЙРОНКА:  Embedding + LSTM\n",
            "\n",
            "Пушкин  распознано  17 % сеть считает, что это  Лермонтов ,  распознано НЕ ВЕРНО!\n",
            "Лермонтов  распознано  97 % сеть считает, что это  Лермонтов ,  распознано ВЕРНО!\n",
            "Шекспир  распознано  4 % сеть считает, что это  Лермонтов ,  распознано НЕ ВЕРНО!\n",
            "Есенин  распознано  33 % сеть считает, что это  Шекспир ,  распознано НЕ ВЕРНО!\n",
            "Маяковский  распознано  6 % сеть считает, что это  Есенин ,  распознано НЕ ВЕРНО!\n",
            "\n",
            "Средний процент распознавания  46 %\n",
            "\n"
          ],
          "name": "stdout"
        }
      ]
    },
    {
      "cell_type": "code",
      "metadata": {
        "id": "OjMKiGXoEsK_",
        "colab_type": "code",
        "outputId": "ace00155-4ecb-4777-ecdb-114c82d87873",
        "colab": {
          "base_uri": "https://localhost:8080/",
          "height": 1000
        }
      },
      "source": [
        "modelEL = Sequential()\n",
        "\n",
        "modelEL.add(Embedding(max_words_count, 10, input_length=x_len))\n",
        "\n",
        "modelEL.add(SpatialDropout1D(0.4))\n",
        "modelEL.add(BatchNormalization()) \n",
        "modelEL.add(LSTM(4))\n",
        "modelEL.add(Dropout(0.5)) \n",
        "modelEL.add(BatchNormalization()) \n",
        "modelEL.add(Dense(100, activation=\"relu\"))\n",
        "modelEL.add(Dropout(0.5)) \n",
        "modelEL.add(BatchNormalization()) \n",
        "modelEL.add(Dense(5, activation='softmax'))\n",
        "\n",
        "modelEL.compile(optimizer='rmsprop', \n",
        "              loss='categorical_crossentropy', \n",
        "              metrics=['accuracy'])\n",
        "\n",
        "# Обучаем сеть с указанием тренировочной выборки, количества эпох, размера минибатча для подачи сети, и тестовой выборки\n",
        "history = modelEL.fit(x_train, \n",
        "                    y_train, \n",
        "                    epochs=30,\n",
        "                    batch_size=200,\n",
        "                    validation_data=(x_test, y_test))\n",
        "\n",
        "# Строим график для отображения динамики обучения и точности предсказания сети\n",
        "plt.plot(history.history['accuracy'], \n",
        "         label='Доля верных ответов на обучающем наборе')\n",
        "plt.plot(history.history['val_accuracy'], \n",
        "         label='Доля верных ответов на проверочном наборе')\n",
        "plt.xlabel('Эпоха обучения')\n",
        "plt.ylabel('Доля верных ответов')\n",
        "plt.legend()\n",
        "plt.show()\n",
        "\n",
        "pred = recognize_multi_class(modelEL, xTest2Classes, \"Embedding + LSTM\") # функция покажет какие классы и как распознаны верно"
      ],
      "execution_count": 23,
      "outputs": [
        {
          "output_type": "stream",
          "text": [
            "Epoch 1/30\n",
            "103/103 [==============================] - 2s 19ms/step - loss: 1.7959 - accuracy: 0.2621 - val_loss: 1.3759 - val_accuracy: 0.3819\n",
            "Epoch 2/30\n",
            "103/103 [==============================] - 2s 16ms/step - loss: 1.4623 - accuracy: 0.3542 - val_loss: 1.2491 - val_accuracy: 0.3561\n",
            "Epoch 3/30\n",
            "103/103 [==============================] - 2s 15ms/step - loss: 1.1286 - accuracy: 0.4493 - val_loss: 1.4226 - val_accuracy: 0.2171\n",
            "Epoch 4/30\n",
            "103/103 [==============================] - 2s 16ms/step - loss: 0.9740 - accuracy: 0.4834 - val_loss: 1.5869 - val_accuracy: 0.3131\n",
            "Epoch 5/30\n",
            "103/103 [==============================] - 2s 16ms/step - loss: 0.9116 - accuracy: 0.5062 - val_loss: 1.6152 - val_accuracy: 0.3566\n",
            "Epoch 6/30\n",
            "103/103 [==============================] - 2s 16ms/step - loss: 0.8668 - accuracy: 0.5304 - val_loss: 1.6158 - val_accuracy: 0.3817\n",
            "Epoch 7/30\n",
            "103/103 [==============================] - 2s 16ms/step - loss: 0.8260 - accuracy: 0.5576 - val_loss: 1.5334 - val_accuracy: 0.3970\n",
            "Epoch 8/30\n",
            "103/103 [==============================] - 2s 16ms/step - loss: 0.7989 - accuracy: 0.5724 - val_loss: 1.6751 - val_accuracy: 0.3917\n",
            "Epoch 9/30\n",
            "103/103 [==============================] - 2s 16ms/step - loss: 0.7847 - accuracy: 0.5888 - val_loss: 1.6152 - val_accuracy: 0.3922\n",
            "Epoch 10/30\n",
            "103/103 [==============================] - 2s 16ms/step - loss: 0.8038 - accuracy: 0.6086 - val_loss: 1.5151 - val_accuracy: 0.3945\n",
            "Epoch 11/30\n",
            "103/103 [==============================] - 2s 16ms/step - loss: 0.7674 - accuracy: 0.6386 - val_loss: 1.4812 - val_accuracy: 0.3956\n",
            "Epoch 12/30\n",
            "103/103 [==============================] - 2s 16ms/step - loss: 0.7196 - accuracy: 0.6812 - val_loss: 1.5978 - val_accuracy: 0.3947\n",
            "Epoch 13/30\n",
            "103/103 [==============================] - 2s 16ms/step - loss: 0.6820 - accuracy: 0.7108 - val_loss: 1.6602 - val_accuracy: 0.3934\n",
            "Epoch 14/30\n",
            "103/103 [==============================] - 2s 16ms/step - loss: 0.6455 - accuracy: 0.7436 - val_loss: 1.5959 - val_accuracy: 0.3973\n",
            "Epoch 15/30\n",
            "103/103 [==============================] - 2s 16ms/step - loss: 0.6182 - accuracy: 0.7602 - val_loss: 1.7479 - val_accuracy: 0.3956\n",
            "Epoch 16/30\n",
            "103/103 [==============================] - 2s 16ms/step - loss: 0.5727 - accuracy: 0.7817 - val_loss: 1.7330 - val_accuracy: 0.3973\n",
            "Epoch 17/30\n",
            "103/103 [==============================] - 2s 16ms/step - loss: 0.5383 - accuracy: 0.8065 - val_loss: 1.7505 - val_accuracy: 0.4095\n",
            "Epoch 18/30\n",
            "103/103 [==============================] - 2s 16ms/step - loss: 0.4945 - accuracy: 0.8317 - val_loss: 1.5971 - val_accuracy: 0.4347\n",
            "Epoch 19/30\n",
            "103/103 [==============================] - 2s 16ms/step - loss: 0.4497 - accuracy: 0.8489 - val_loss: 1.9413 - val_accuracy: 0.3947\n",
            "Epoch 20/30\n",
            "103/103 [==============================] - 2s 16ms/step - loss: 0.4174 - accuracy: 0.8604 - val_loss: 1.9145 - val_accuracy: 0.4064\n",
            "Epoch 21/30\n",
            "103/103 [==============================] - 2s 16ms/step - loss: 0.4027 - accuracy: 0.8703 - val_loss: 2.0761 - val_accuracy: 0.4147\n",
            "Epoch 22/30\n",
            "103/103 [==============================] - 2s 16ms/step - loss: 0.3875 - accuracy: 0.8732 - val_loss: 1.8482 - val_accuracy: 0.4084\n",
            "Epoch 23/30\n",
            "103/103 [==============================] - 2s 16ms/step - loss: 0.3807 - accuracy: 0.8749 - val_loss: 2.0195 - val_accuracy: 0.3984\n",
            "Epoch 24/30\n",
            "103/103 [==============================] - 2s 15ms/step - loss: 0.3727 - accuracy: 0.8767 - val_loss: 2.2216 - val_accuracy: 0.3981\n",
            "Epoch 25/30\n",
            "103/103 [==============================] - 2s 16ms/step - loss: 0.3568 - accuracy: 0.8798 - val_loss: 1.9423 - val_accuracy: 0.4160\n",
            "Epoch 26/30\n",
            "103/103 [==============================] - 2s 15ms/step - loss: 0.3674 - accuracy: 0.8834 - val_loss: 2.1990 - val_accuracy: 0.3899\n",
            "Epoch 27/30\n",
            "103/103 [==============================] - 2s 15ms/step - loss: 0.3486 - accuracy: 0.8837 - val_loss: 2.0460 - val_accuracy: 0.4030\n",
            "Epoch 28/30\n",
            "103/103 [==============================] - 2s 16ms/step - loss: 0.3351 - accuracy: 0.8905 - val_loss: 2.2738 - val_accuracy: 0.4004\n",
            "Epoch 29/30\n",
            "103/103 [==============================] - 2s 16ms/step - loss: 0.3328 - accuracy: 0.8895 - val_loss: 2.0362 - val_accuracy: 0.4017\n",
            "Epoch 30/30\n",
            "103/103 [==============================] - 2s 15ms/step - loss: 0.3483 - accuracy: 0.8900 - val_loss: 2.1580 - val_accuracy: 0.4031\n"
          ],
          "name": "stdout"
        },
        {
          "output_type": "display_data",
          "data": {
            "image/png": "[encoded data removed]",
            "text/plain": [
              "<Figure size 432x288 with 1 Axes>"
            ]
          },
          "metadata": {
            "tags": [],
            "needs_background": "light"
          }
        },
        {
          "output_type": "stream",
          "text": [
            "НЕЙРОНКА:  Embedding + LSTM\n",
            "\n",
            "Пушкин  распознано  0 % сеть считает, что это  Лермонтов ,  распознано НЕ ВЕРНО!\n",
            "Лермонтов  распознано  99 % сеть считает, что это  Лермонтов ,  распознано ВЕРНО!\n",
            "Шекспир  распознано  0 % сеть считает, что это  Лермонтов ,  распознано НЕ ВЕРНО!\n",
            "Есенин  распознано  100 % сеть считает, что это  Есенин ,  распознано ВЕРНО!\n",
            "Маяковский  распознано  0 % сеть считает, что это  Есенин ,  распознано НЕ ВЕРНО!\n",
            "\n",
            "Средний процент распознавания  40 %\n",
            "\n"
          ],
          "name": "stdout"
        }
      ]
    },
    {
      "cell_type": "code",
      "metadata": {
        "id": "HsgzPciEPtdW",
        "colab_type": "code",
        "outputId": "27e21610-1841-403e-9e9a-681491735340",
        "colab": {
          "base_uri": "https://localhost:8080/",
          "height": 1000
        }
      },
      "source": [
        "modelEL = Sequential()\n",
        "\n",
        "modelEL.add(Embedding(max_words_count, 10, input_length=x_len))\n",
        "\n",
        "modelEL.add(SpatialDropout1D(0.4)) \n",
        "modelEL.add(BatchNormalization()) \n",
        "modelEL.add(LSTM(4, return_sequences=1)) \n",
        "modelEL.add(Dropout(0.5)) \n",
        "modelEL.add(BatchNormalization())\n",
        "modelEL.add(Dense(100, activation=\"relu\"))\n",
        "modelEL.add(Dropout(0.5))\n",
        "modelEL.add(BatchNormalization())\n",
        "modelEL.add(Flatten()) \n",
        "modelEL.add(Dense(5, activation='softmax')) \n",
        "\n",
        "\n",
        "modelEL.compile(optimizer='rmsprop', \n",
        "              loss='categorical_crossentropy', \n",
        "              metrics=['accuracy'])\n",
        "\n",
        "history = modelEL.fit(x_train, \n",
        "                    y_train, \n",
        "                    epochs=30,\n",
        "                    batch_size=64,\n",
        "                    validation_data=(x_test, y_test))\n",
        "\n",
        "\n",
        "plt.plot(history.history['accuracy'], \n",
        "         label='Доля верных ответов на обучающем наборе')\n",
        "plt.plot(history.history['val_accuracy'], \n",
        "         label='Доля верных ответов на проверочном наборе')\n",
        "plt.xlabel('Эпоха обучения')\n",
        "plt.ylabel('Доля верных ответов')\n",
        "plt.legend()\n",
        "plt.show()\n",
        "\n",
        "pred = recognize_multi_class(modelEL, xTest2Classes, \"Embedding + LSTM\") #функция покажет какие классы и как распознаны верно"
      ],
      "execution_count": 24,
      "outputs": [
        {
          "output_type": "stream",
          "text": [
            "Epoch 1/30\n",
            "319/319 [==============================] - 5s 16ms/step - loss: 0.9806 - accuracy: 0.6880 - val_loss: 6.9768 - val_accuracy: 0.4064\n",
            "Epoch 2/30\n",
            "319/319 [==============================] - 5s 14ms/step - loss: 0.2317 - accuracy: 0.9414 - val_loss: 5.5547 - val_accuracy: 0.5162\n",
            "Epoch 3/30\n",
            "319/319 [==============================] - 5s 14ms/step - loss: 0.1754 - accuracy: 0.9622 - val_loss: 5.5856 - val_accuracy: 0.5218\n",
            "Epoch 4/30\n",
            "319/319 [==============================] - 5s 14ms/step - loss: 0.1641 - accuracy: 0.9650 - val_loss: 4.5117 - val_accuracy: 0.5747\n",
            "Epoch 5/30\n",
            "319/319 [==============================] - 5s 15ms/step - loss: 0.1375 - accuracy: 0.9685 - val_loss: 3.8447 - val_accuracy: 0.5896\n",
            "Epoch 6/30\n",
            "319/319 [==============================] - 5s 15ms/step - loss: 0.1299 - accuracy: 0.9714 - val_loss: 4.7238 - val_accuracy: 0.5783\n",
            "Epoch 7/30\n",
            "319/319 [==============================] - 5s 15ms/step - loss: 0.1125 - accuracy: 0.9745 - val_loss: 3.7420 - val_accuracy: 0.5919\n",
            "Epoch 8/30\n",
            "319/319 [==============================] - 5s 15ms/step - loss: 0.1095 - accuracy: 0.9752 - val_loss: 4.6219 - val_accuracy: 0.5460\n",
            "Epoch 9/30\n",
            "319/319 [==============================] - 5s 15ms/step - loss: 0.0981 - accuracy: 0.9771 - val_loss: 3.7381 - val_accuracy: 0.5847\n",
            "Epoch 10/30\n",
            "319/319 [==============================] - 5s 14ms/step - loss: 0.0919 - accuracy: 0.9777 - val_loss: 3.6797 - val_accuracy: 0.5788\n",
            "Epoch 11/30\n",
            "319/319 [==============================] - 5s 15ms/step - loss: 0.0854 - accuracy: 0.9786 - val_loss: 3.8114 - val_accuracy: 0.5747\n",
            "Epoch 12/30\n",
            "319/319 [==============================] - 5s 15ms/step - loss: 0.0774 - accuracy: 0.9796 - val_loss: 3.8357 - val_accuracy: 0.5714\n",
            "Epoch 13/30\n",
            "319/319 [==============================] - 5s 15ms/step - loss: 0.0783 - accuracy: 0.9795 - val_loss: 3.4589 - val_accuracy: 0.5778\n",
            "Epoch 14/30\n",
            "319/319 [==============================] - 5s 15ms/step - loss: 0.0675 - accuracy: 0.9824 - val_loss: 3.5143 - val_accuracy: 0.5665\n",
            "Epoch 15/30\n",
            "319/319 [==============================] - 5s 15ms/step - loss: 0.0629 - accuracy: 0.9817 - val_loss: 3.3810 - val_accuracy: 0.5799\n",
            "Epoch 16/30\n",
            "319/319 [==============================] - 5s 15ms/step - loss: 0.0624 - accuracy: 0.9828 - val_loss: 4.0344 - val_accuracy: 0.5773\n",
            "Epoch 17/30\n",
            "319/319 [==============================] - 5s 15ms/step - loss: 0.0639 - accuracy: 0.9811 - val_loss: 3.6594 - val_accuracy: 0.5735\n",
            "Epoch 18/30\n",
            "319/319 [==============================] - 5s 15ms/step - loss: 0.0566 - accuracy: 0.9845 - val_loss: 3.6342 - val_accuracy: 0.5827\n",
            "Epoch 19/30\n",
            "319/319 [==============================] - 5s 15ms/step - loss: 0.0512 - accuracy: 0.9851 - val_loss: 3.5782 - val_accuracy: 0.5765\n",
            "Epoch 20/30\n",
            "319/319 [==============================] - 5s 15ms/step - loss: 0.0507 - accuracy: 0.9847 - val_loss: 3.4569 - val_accuracy: 0.5803\n",
            "Epoch 21/30\n",
            "319/319 [==============================] - 5s 15ms/step - loss: 0.0570 - accuracy: 0.9844 - val_loss: 3.5694 - val_accuracy: 0.5631\n",
            "Epoch 22/30\n",
            "319/319 [==============================] - 5s 15ms/step - loss: 0.0500 - accuracy: 0.9851 - val_loss: 3.1513 - val_accuracy: 0.5747\n",
            "Epoch 23/30\n",
            "319/319 [==============================] - 5s 15ms/step - loss: 0.0393 - accuracy: 0.9881 - val_loss: 2.7816 - val_accuracy: 0.5971\n",
            "Epoch 24/30\n",
            "319/319 [==============================] - 5s 15ms/step - loss: 0.0449 - accuracy: 0.9869 - val_loss: 3.9157 - val_accuracy: 0.5604\n",
            "Epoch 25/30\n",
            "319/319 [==============================] - 5s 15ms/step - loss: 0.0439 - accuracy: 0.9865 - val_loss: 4.4534 - val_accuracy: 0.5414\n",
            "Epoch 26/30\n",
            "319/319 [==============================] - 5s 15ms/step - loss: 0.0505 - accuracy: 0.9852 - val_loss: 3.4410 - val_accuracy: 0.5671\n",
            "Epoch 27/30\n",
            "319/319 [==============================] - 5s 15ms/step - loss: 0.0427 - accuracy: 0.9871 - val_loss: 3.6629 - val_accuracy: 0.5618\n",
            "Epoch 28/30\n",
            "319/319 [==============================] - 5s 15ms/step - loss: 0.0456 - accuracy: 0.9865 - val_loss: 3.4142 - val_accuracy: 0.5677\n",
            "Epoch 29/30\n",
            "319/319 [==============================] - 5s 15ms/step - loss: 0.0373 - accuracy: 0.9890 - val_loss: 3.9381 - val_accuracy: 0.5677\n",
            "Epoch 30/30\n",
            "319/319 [==============================] - 5s 16ms/step - loss: 0.0431 - accuracy: 0.9879 - val_loss: 2.9205 - val_accuracy: 0.6101\n"
          ],
          "name": "stdout"
        },
        {
          "output_type": "display_data",
          "data": {
            "image/png": "[encoded data removed]",
            "text/plain": [
              "<Figure size 432x288 with 1 Axes>"
            ]
          },
          "metadata": {
            "tags": [],
            "needs_background": "light"
          }
        },
        {
          "output_type": "stream",
          "text": [
            "НЕЙРОНКА:  Embedding + LSTM\n",
            "\n",
            "Пушкин  распознано  40 % сеть считает, что это  Пушкин ,  распознано ВЕРНО!\n",
            "Лермонтов  распознано  93 % сеть считает, что это  Лермонтов ,  распознано ВЕРНО!\n",
            "Шекспир  распознано  0 % сеть считает, что это  Лермонтов ,  распознано НЕ ВЕРНО!\n",
            "Есенин  распознано  16 % сеть считает, что это  Маяковский ,  распознано НЕ ВЕРНО!\n",
            "Маяковский  распознано  98 % сеть считает, что это  Маяковский ,  распознано ВЕРНО!\n",
            "\n",
            "Средний процент распознавания  61 %\n",
            "\n"
          ],
          "name": "stdout"
        }
      ]
    },
    {
      "cell_type": "code",
      "metadata": {
        "id": "p1p4c7EhXFaL",
        "colab_type": "code",
        "outputId": "16cf2626-380f-4d36-ec87-a693c2d12e63",
        "colab": {
          "base_uri": "https://localhost:8080/",
          "height": 1000
        }
      },
      "source": [
        "modelEL = Sequential() \n",
        "\n",
        "modelEL.add(Embedding(max_words_count, 50, input_length=x_len))\n",
        "\n",
        "modelEL.add(SpatialDropout1D(0.4)) \n",
        "modelEL.add(BatchNormalization()) \n",
        "modelEL.add(Bidirectional(LSTM(8, return_sequences=1)))\n",
        "modelEL.add(Bidirectional(LSTM(8, return_sequences=1))) \n",
        "modelEL.add(Dropout(0.3))\n",
        "modelEL.add(BatchNormalization()) \n",
        "modelEL.add(GRU(16, return_sequences=1,reset_after=True))\n",
        "modelEL.add(GRU(16, reset_after=True)) \n",
        "modelEL.add(Dropout(0.3)) \n",
        "modelEL.add(BatchNormalization()) \n",
        "modelEL.add(Dense(200, activation='relu'))\n",
        "modelEL.add(Dropout(0.3)) \n",
        "modelEL.add(BatchNormalization())\n",
        "modelEL.add(Dense(5, activation='softmax'))\n",
        "\n",
        "\n",
        "modelEL.compile(optimizer='rmsprop', \n",
        "              loss='categorical_crossentropy', \n",
        "              metrics=['accuracy'])\n",
        "\n",
        "history = modelEL.fit(x_train, \n",
        "                    y_train, \n",
        "                    epochs=30,\n",
        "                    batch_size=200,\n",
        "                    validation_data=(x_test, y_test))\n",
        "\n",
        "# Строим график для отображения динамики обучения и точности предсказания сети\n",
        "plt.plot(history.history['accuracy'], \n",
        "         label='Доля верных ответов на обучающем наборе')\n",
        "plt.plot(history.history['val_accuracy'], \n",
        "         label='Доля верных ответов на проверочном наборе')\n",
        "plt.xlabel('Эпоха обучения')\n",
        "plt.ylabel('Доля верных ответов')\n",
        "plt.legend()\n",
        "plt.show()\n",
        "\n",
        "pred = recognize_multi_class(modelEL, xTest2Classes, \"Embedding + LSTM\") #функция покажет какие классы и как распознаны верно"
      ],
      "execution_count": 25,
      "outputs": [
        {
          "output_type": "stream",
          "text": [
            "Epoch 1/30\n",
            "103/103 [==============================] - 9s 86ms/step - loss: 1.3128 - accuracy: 0.4378 - val_loss: 1.2763 - val_accuracy: 0.3979\n",
            "Epoch 2/30\n",
            "103/103 [==============================] - 7s 72ms/step - loss: 0.5397 - accuracy: 0.7617 - val_loss: 3.4435 - val_accuracy: 0.0842\n",
            "Epoch 3/30\n",
            "103/103 [==============================] - 7s 72ms/step - loss: 0.1791 - accuracy: 0.9351 - val_loss: 3.8082 - val_accuracy: 0.4491\n",
            "Epoch 4/30\n",
            "103/103 [==============================] - 7s 72ms/step - loss: 0.0772 - accuracy: 0.9779 - val_loss: 4.0595 - val_accuracy: 0.5275\n",
            "Epoch 5/30\n",
            "103/103 [==============================] - 7s 73ms/step - loss: 0.0356 - accuracy: 0.9918 - val_loss: 5.1514 - val_accuracy: 0.5082\n",
            "Epoch 6/30\n",
            "103/103 [==============================] - 7s 72ms/step - loss: 0.0205 - accuracy: 0.9946 - val_loss: 3.0912 - val_accuracy: 0.6358\n",
            "Epoch 7/30\n",
            "103/103 [==============================] - 7s 72ms/step - loss: 0.0262 - accuracy: 0.9939 - val_loss: 4.1636 - val_accuracy: 0.5796\n",
            "Epoch 8/30\n",
            "103/103 [==============================] - 7s 72ms/step - loss: 0.0223 - accuracy: 0.9955 - val_loss: 3.9476 - val_accuracy: 0.5755\n",
            "Epoch 9/30\n",
            "103/103 [==============================] - 8s 73ms/step - loss: 0.0197 - accuracy: 0.9956 - val_loss: 3.5602 - val_accuracy: 0.6043\n",
            "Epoch 10/30\n",
            "103/103 [==============================] - 7s 72ms/step - loss: 0.0174 - accuracy: 0.9966 - val_loss: 5.1568 - val_accuracy: 0.5045\n",
            "Epoch 11/30\n",
            "103/103 [==============================] - 7s 73ms/step - loss: 0.0184 - accuracy: 0.9965 - val_loss: 3.2729 - val_accuracy: 0.6243\n",
            "Epoch 12/30\n",
            "103/103 [==============================] - 7s 73ms/step - loss: 0.0134 - accuracy: 0.9974 - val_loss: 4.3315 - val_accuracy: 0.5614\n",
            "Epoch 13/30\n",
            "103/103 [==============================] - 7s 72ms/step - loss: 0.0151 - accuracy: 0.9970 - val_loss: 4.6142 - val_accuracy: 0.5374\n",
            "Epoch 14/30\n",
            "103/103 [==============================] - 7s 72ms/step - loss: 0.0177 - accuracy: 0.9962 - val_loss: 3.9149 - val_accuracy: 0.5727\n",
            "Epoch 15/30\n",
            "103/103 [==============================] - 7s 72ms/step - loss: 0.0220 - accuracy: 0.9957 - val_loss: 4.3050 - val_accuracy: 0.5255\n",
            "Epoch 16/30\n",
            "103/103 [==============================] - 7s 73ms/step - loss: 0.0139 - accuracy: 0.9968 - val_loss: 3.7402 - val_accuracy: 0.5864\n",
            "Epoch 17/30\n",
            "103/103 [==============================] - 7s 72ms/step - loss: 0.0079 - accuracy: 0.9983 - val_loss: 4.2467 - val_accuracy: 0.5969\n",
            "Epoch 18/30\n",
            "103/103 [==============================] - 7s 73ms/step - loss: 0.0149 - accuracy: 0.9967 - val_loss: 4.1546 - val_accuracy: 0.5975\n",
            "Epoch 19/30\n",
            "103/103 [==============================] - 7s 73ms/step - loss: 0.0120 - accuracy: 0.9971 - val_loss: 4.0679 - val_accuracy: 0.5769\n",
            "Epoch 20/30\n",
            "103/103 [==============================] - 8s 73ms/step - loss: 0.0094 - accuracy: 0.9982 - val_loss: 3.6381 - val_accuracy: 0.6109\n",
            "Epoch 21/30\n",
            "103/103 [==============================] - 7s 73ms/step - loss: 0.0124 - accuracy: 0.9974 - val_loss: 4.4799 - val_accuracy: 0.4783\n",
            "Epoch 22/30\n",
            "103/103 [==============================] - 7s 73ms/step - loss: 0.0112 - accuracy: 0.9978 - val_loss: 4.2252 - val_accuracy: 0.5229\n",
            "Epoch 23/30\n",
            "103/103 [==============================] - 8s 73ms/step - loss: 0.0123 - accuracy: 0.9974 - val_loss: 5.1071 - val_accuracy: 0.4901\n",
            "Epoch 24/30\n",
            "103/103 [==============================] - 7s 72ms/step - loss: 0.0144 - accuracy: 0.9970 - val_loss: 3.3052 - val_accuracy: 0.5812\n",
            "Epoch 25/30\n",
            "103/103 [==============================] - 7s 73ms/step - loss: 0.0097 - accuracy: 0.9980 - val_loss: 2.4938 - val_accuracy: 0.6803\n",
            "Epoch 26/30\n",
            "103/103 [==============================] - 7s 73ms/step - loss: 0.0142 - accuracy: 0.9971 - val_loss: 3.6669 - val_accuracy: 0.5258\n",
            "Epoch 27/30\n",
            "103/103 [==============================] - 7s 72ms/step - loss: 0.0075 - accuracy: 0.9983 - val_loss: 3.1955 - val_accuracy: 0.5934\n",
            "Epoch 28/30\n",
            "103/103 [==============================] - 7s 73ms/step - loss: 0.0089 - accuracy: 0.9980 - val_loss: 4.4910 - val_accuracy: 0.5471\n",
            "Epoch 29/30\n",
            "103/103 [==============================] - 8s 73ms/step - loss: 0.0116 - accuracy: 0.9981 - val_loss: 3.2124 - val_accuracy: 0.5877\n",
            "Epoch 30/30\n",
            "103/103 [==============================] - 8s 74ms/step - loss: 0.0142 - accuracy: 0.9969 - val_loss: 3.9523 - val_accuracy: 0.5483\n"
          ],
          "name": "stdout"
        },
        {
          "output_type": "display_data",
          "data": {
            "image/png": "[encoded data removed]",
            "text/plain": [
              "<Figure size 432x288 with 1 Axes>"
            ]
          },
          "metadata": {
            "tags": [],
            "needs_background": "light"
          }
        },
        {
          "output_type": "stream",
          "text": [
            "НЕЙРОНКА:  Embedding + LSTM\n",
            "\n",
            "Пушкин  распознано  23 % сеть считает, что это  Лермонтов ,  распознано НЕ ВЕРНО!\n",
            "Лермонтов  распознано  93 % сеть считает, что это  Лермонтов ,  распознано ВЕРНО!\n",
            "Шекспир  распознано  0 % сеть считает, что это  Лермонтов ,  распознано НЕ ВЕРНО!\n",
            "Есенин  распознано  0 % сеть считает, что это  Маяковский ,  распознано НЕ ВЕРНО!\n",
            "Маяковский  распознано  100 % сеть считает, что это  Маяковский ,  распознано ВЕРНО!\n",
            "\n",
            "Средний процент распознавания  54 %\n",
            "\n"
          ],
          "name": "stdout"
        }
      ]
    },
    {
      "cell_type": "markdown",
      "metadata": {
        "id": "QJ19GZvGjSW3",
        "colab_type": "text"
      },
      "source": [
        "**Лучшая сетка получилась Embedding + LSTM**"
      ]
    },
    {
      "cell_type": "code",
      "metadata": {
        "id": "VMA2as_3bxBY",
        "colab_type": "code",
        "colab": {}
      },
      "source": [
        ""
      ],
      "execution_count": 0,
      "outputs": []
    }
  ]
}